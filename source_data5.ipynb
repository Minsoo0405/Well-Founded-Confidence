{
 "cells": [
  {
   "cell_type": "code",
   "execution_count": 1,
   "metadata": {},
   "outputs": [],
   "source": [
    "import pandas as pd\n",
    "\n",
    "tmp = pd.read_csv('./data/SpeedDatingExData.csv', encoding='cp949')"
   ]
  },
  {
   "cell_type": "code",
   "execution_count": 2,
   "metadata": {},
   "outputs": [],
   "source": [
    "# tmp2에 samerace가 1인 데이터만 추출\n",
    "tmp2 = tmp[tmp['samerace'] == 1]"
   ]
  },
  {
   "cell_type": "code",
   "execution_count": 3,
   "metadata": {},
   "outputs": [
    {
     "data": {
      "text/plain": [
       "1     102\n",
       "2     260\n",
       "3      46\n",
       "4     240\n",
       "5      52\n",
       "6      16\n",
       "7     252\n",
       "8      50\n",
       "9     338\n",
       "10     46\n",
       "11    310\n",
       "12    200\n",
       "13     44\n",
       "14    236\n",
       "15    460\n",
       "16     44\n",
       "17    102\n",
       "18     34\n",
       "19    122\n",
       "20     26\n",
       "21    336\n",
       "Name: wave, dtype: int64"
      ]
     },
     "execution_count": 3,
     "metadata": {},
     "output_type": "execute_result"
    }
   ],
   "source": [
    "tmp2.wave.value_counts().sort_index()"
   ]
  },
  {
   "cell_type": "code",
   "execution_count": 4,
   "metadata": {},
   "outputs": [
    {
     "data": {
      "text/plain": [
       "Index(['iid', 'id', 'gender', 'idg', 'condtn', 'wave', 'round', 'position',\n",
       "       'positin1', 'order',\n",
       "       ...\n",
       "       'attr3_3', 'sinc3_3', 'intel3_3', 'fun3_3', 'amb3_3', 'attr5_3',\n",
       "       'sinc5_3', 'intel5_3', 'fun5_3', 'amb5_3'],\n",
       "      dtype='object', length=195)"
      ]
     },
     "execution_count": 4,
     "metadata": {},
     "output_type": "execute_result"
    }
   ],
   "source": [
    "tmp2.columns"
   ]
  },
  {
   "cell_type": "code",
   "execution_count": 5,
   "metadata": {},
   "outputs": [],
   "source": [
    "col = ['id', 'iid', 'pid', 'wave', 'gender', 'match',\n",
    "       'attr3_1','sinc3_1', 'intel3_1', 'fun3_1', 'amb3_1',\n",
    "       'pf_o_att', 'pf_o_sin', 'pf_o_int', 'pf_o_fun', 'pf_o_amb',\n",
    "       'pf_o_sha']"
   ]
  },
  {
   "cell_type": "code",
   "execution_count": 6,
   "metadata": {},
   "outputs": [
    {
     "data": {
      "text/plain": [
       "['attr', 'sinc', 'intel', 'fun', 'amb', 'shar', 'like']"
      ]
     },
     "execution_count": 6,
     "metadata": {},
     "output_type": "execute_result"
    }
   ],
   "source": [
    "# 사용할 칼럼 추가\n",
    "col2 = 'attr\tsinc\tintel\tfun\tamb\tshar\tlike'.split()\n",
    "col2"
   ]
  },
  {
   "cell_type": "code",
   "execution_count": 7,
   "metadata": {},
   "outputs": [
    {
     "data": {
      "text/plain": [
       "['id',\n",
       " 'iid',\n",
       " 'pid',\n",
       " 'wave',\n",
       " 'gender',\n",
       " 'match',\n",
       " 'attr3_1',\n",
       " 'sinc3_1',\n",
       " 'intel3_1',\n",
       " 'fun3_1',\n",
       " 'amb3_1',\n",
       " 'pf_o_att',\n",
       " 'pf_o_sin',\n",
       " 'pf_o_int',\n",
       " 'pf_o_fun',\n",
       " 'pf_o_amb',\n",
       " 'pf_o_sha',\n",
       " 'attr',\n",
       " 'sinc',\n",
       " 'intel',\n",
       " 'fun',\n",
       " 'amb',\n",
       " 'shar',\n",
       " 'like']"
      ]
     },
     "execution_count": 7,
     "metadata": {},
     "output_type": "execute_result"
    }
   ],
   "source": [
    "col += col2\n",
    "col"
   ]
  },
  {
   "cell_type": "code",
   "execution_count": 8,
   "metadata": {},
   "outputs": [
    {
     "data": {
      "text/plain": [
       "['condtn',\n",
       " 'round',\n",
       " 'int_corr',\n",
       " 'age_o',\n",
       " 'age',\n",
       " 'attr1_1',\n",
       " 'sinc1_1',\n",
       " 'intel1_1',\n",
       " 'fun1_1',\n",
       " 'amb1_1',\n",
       " 'shar1_1',\n",
       " 'attr4_1',\n",
       " 'sinc4_1',\n",
       " 'intel4_1',\n",
       " 'fun4_1',\n",
       " 'amb4_1',\n",
       " 'shar4_1',\n",
       " 'attr2_1',\n",
       " 'sinc2_1',\n",
       " 'intel2_1',\n",
       " 'fun2_1',\n",
       " 'amb2_1',\n",
       " 'shar2_1',\n",
       " 'attr5_1',\n",
       " 'sinc5_1',\n",
       " 'intel5_1',\n",
       " 'fun5_1',\n",
       " 'amb5_1']"
      ]
     },
     "execution_count": 8,
     "metadata": {},
     "output_type": "execute_result"
    }
   ],
   "source": [
    "# 사용할 컬럼 추가\n",
    "col3 = 'condtn, round, int_corr, age_o, age, attr1_1, sinc1_1, intel1_1, fun1_1, amb1_1, shar1_1, attr4_1, sinc4_1, intel4_1, fun4_1, amb4_1, shar4_1, attr2_1, sinc2_1, intel2_1, fun2_1, amb2_1, shar2_1, attr5_1, sinc5_1, intel5_1, fun5_1, amb5_1'.split(', ')\n",
    "col3"
   ]
  },
  {
   "cell_type": "code",
   "execution_count": 9,
   "metadata": {},
   "outputs": [
    {
     "name": "stdout",
     "output_type": "stream",
     "text": [
      "<class 'pandas.core.frame.DataFrame'>\n",
      "Int64Index: 3316 entries, 2 to 8372\n",
      "Data columns (total 52 columns):\n",
      " #   Column    Non-Null Count  Dtype  \n",
      "---  ------    --------------  -----  \n",
      " 0   id        3316 non-null   float64\n",
      " 1   iid       3316 non-null   int64  \n",
      " 2   pid       3316 non-null   float64\n",
      " 3   wave      3316 non-null   int64  \n",
      " 4   gender    3316 non-null   int64  \n",
      " 5   match     3316 non-null   int64  \n",
      " 6   attr3_1   3291 non-null   float64\n",
      " 7   sinc3_1   3291 non-null   float64\n",
      " 8   intel3_1  3291 non-null   float64\n",
      " 9   fun3_1    3291 non-null   float64\n",
      " 10  amb3_1    3291 non-null   float64\n",
      " 11  pf_o_att  3306 non-null   float64\n",
      " 12  pf_o_sin  3306 non-null   float64\n",
      " 13  pf_o_int  3306 non-null   float64\n",
      " 14  pf_o_fun  3306 non-null   float64\n",
      " 15  pf_o_amb  3301 non-null   float64\n",
      " 16  pf_o_sha  3301 non-null   float64\n",
      " 17  attr      3244 non-null   float64\n",
      " 18  sinc      3215 non-null   float64\n",
      " 19  intel     3206 non-null   float64\n",
      " 20  fun       3176 non-null   float64\n",
      " 21  amb       3009 non-null   float64\n",
      " 22  shar      2887 non-null   float64\n",
      " 23  like      3241 non-null   float64\n",
      " 24  condtn    3316 non-null   int64  \n",
      " 25  round     3316 non-null   int64  \n",
      " 26  int_corr  3296 non-null   float64\n",
      " 27  age_o     3298 non-null   float64\n",
      " 28  age       3298 non-null   float64\n",
      " 29  attr1_1   3306 non-null   float64\n",
      " 30  sinc1_1   3306 non-null   float64\n",
      " 31  intel1_1  3306 non-null   float64\n",
      " 32  fun1_1    3306 non-null   float64\n",
      " 33  amb1_1    3301 non-null   float64\n",
      " 34  shar1_1   3301 non-null   float64\n",
      " 35  attr4_1   2616 non-null   float64\n",
      " 36  sinc4_1   2616 non-null   float64\n",
      " 37  intel4_1  2616 non-null   float64\n",
      " 38  fun4_1    2616 non-null   float64\n",
      " 39  amb4_1    2616 non-null   float64\n",
      " 40  shar4_1   2616 non-null   float64\n",
      " 41  attr2_1   3306 non-null   float64\n",
      " 42  sinc2_1   3306 non-null   float64\n",
      " 43  intel2_1  3306 non-null   float64\n",
      " 44  fun2_1    3306 non-null   float64\n",
      " 45  amb2_1    3306 non-null   float64\n",
      " 46  shar2_1   3306 non-null   float64\n",
      " 47  attr5_1   1945 non-null   float64\n",
      " 48  sinc5_1   1945 non-null   float64\n",
      " 49  intel5_1  1945 non-null   float64\n",
      " 50  fun5_1    1945 non-null   float64\n",
      " 51  amb5_1    1945 non-null   float64\n",
      "dtypes: float64(46), int64(6)\n",
      "memory usage: 1.3 MB\n"
     ]
    }
   ],
   "source": [
    "# 사용할 칼럼들만 추출\n",
    "col += col3\n",
    "tmp3 = tmp2[col]\n",
    "tmp3.info()"
   ]
  },
  {
   "cell_type": "code",
   "execution_count": 12,
   "metadata": {},
   "outputs": [
    {
     "data": {
      "text/html": [
       "<div>\n",
       "<style scoped>\n",
       "    .dataframe tbody tr th:only-of-type {\n",
       "        vertical-align: middle;\n",
       "    }\n",
       "\n",
       "    .dataframe tbody tr th {\n",
       "        vertical-align: top;\n",
       "    }\n",
       "\n",
       "    .dataframe thead th {\n",
       "        text-align: right;\n",
       "    }\n",
       "</style>\n",
       "<table border=\"1\" class=\"dataframe\">\n",
       "  <thead>\n",
       "    <tr style=\"text-align: right;\">\n",
       "      <th></th>\n",
       "      <th>id</th>\n",
       "      <th>iid</th>\n",
       "      <th>pid</th>\n",
       "      <th>wave</th>\n",
       "      <th>gender</th>\n",
       "      <th>match</th>\n",
       "      <th>attr3_1</th>\n",
       "      <th>sinc3_1</th>\n",
       "      <th>intel3_1</th>\n",
       "      <th>fun3_1</th>\n",
       "      <th>...</th>\n",
       "      <th>sinc2_1</th>\n",
       "      <th>intel2_1</th>\n",
       "      <th>fun2_1</th>\n",
       "      <th>amb2_1</th>\n",
       "      <th>shar2_1</th>\n",
       "      <th>attr5_1</th>\n",
       "      <th>sinc5_1</th>\n",
       "      <th>intel5_1</th>\n",
       "      <th>fun5_1</th>\n",
       "      <th>amb5_1</th>\n",
       "    </tr>\n",
       "  </thead>\n",
       "  <tbody>\n",
       "    <tr>\n",
       "      <th>count</th>\n",
       "      <td>3316.000000</td>\n",
       "      <td>3316.000000</td>\n",
       "      <td>3316.000000</td>\n",
       "      <td>3316.000000</td>\n",
       "      <td>3316.000000</td>\n",
       "      <td>3316.000000</td>\n",
       "      <td>3291.000000</td>\n",
       "      <td>3291.000000</td>\n",
       "      <td>3291.000000</td>\n",
       "      <td>3291.000000</td>\n",
       "      <td>...</td>\n",
       "      <td>3306.000000</td>\n",
       "      <td>3306.000000</td>\n",
       "      <td>3306.000000</td>\n",
       "      <td>3306.000000</td>\n",
       "      <td>3306.000000</td>\n",
       "      <td>1945.000000</td>\n",
       "      <td>1945.000000</td>\n",
       "      <td>1945.000000</td>\n",
       "      <td>1945.000000</td>\n",
       "      <td>1945.000000</td>\n",
       "    </tr>\n",
       "    <tr>\n",
       "      <th>mean</th>\n",
       "      <td>8.870024</td>\n",
       "      <td>281.590772</td>\n",
       "      <td>281.590772</td>\n",
       "      <td>11.240048</td>\n",
       "      <td>0.500000</td>\n",
       "      <td>0.170688</td>\n",
       "      <td>7.145245</td>\n",
       "      <td>8.255849</td>\n",
       "      <td>8.457308</td>\n",
       "      <td>7.667882</td>\n",
       "      <td>...</td>\n",
       "      <td>12.806785</td>\n",
       "      <td>14.316476</td>\n",
       "      <td>18.772396</td>\n",
       "      <td>11.689501</td>\n",
       "      <td>11.671464</td>\n",
       "      <td>6.898715</td>\n",
       "      <td>7.869409</td>\n",
       "      <td>8.265296</td>\n",
       "      <td>7.388175</td>\n",
       "      <td>7.622622</td>\n",
       "    </tr>\n",
       "    <tr>\n",
       "      <th>std</th>\n",
       "      <td>5.350265</td>\n",
       "      <td>155.988227</td>\n",
       "      <td>155.988227</td>\n",
       "      <td>5.857455</td>\n",
       "      <td>0.500075</td>\n",
       "      <td>0.376292</td>\n",
       "      <td>1.339665</td>\n",
       "      <td>1.418781</td>\n",
       "      <td>1.052822</td>\n",
       "      <td>1.541522</td>\n",
       "      <td>...</td>\n",
       "      <td>6.700299</td>\n",
       "      <td>6.220634</td>\n",
       "      <td>6.470080</td>\n",
       "      <td>7.137152</td>\n",
       "      <td>6.261896</td>\n",
       "      <td>1.375313</td>\n",
       "      <td>1.629655</td>\n",
       "      <td>1.283623</td>\n",
       "      <td>1.759151</td>\n",
       "      <td>1.782835</td>\n",
       "    </tr>\n",
       "    <tr>\n",
       "      <th>min</th>\n",
       "      <td>1.000000</td>\n",
       "      <td>1.000000</td>\n",
       "      <td>1.000000</td>\n",
       "      <td>1.000000</td>\n",
       "      <td>0.000000</td>\n",
       "      <td>0.000000</td>\n",
       "      <td>2.000000</td>\n",
       "      <td>2.000000</td>\n",
       "      <td>3.000000</td>\n",
       "      <td>2.000000</td>\n",
       "      <td>...</td>\n",
       "      <td>0.000000</td>\n",
       "      <td>0.000000</td>\n",
       "      <td>0.000000</td>\n",
       "      <td>0.000000</td>\n",
       "      <td>0.000000</td>\n",
       "      <td>2.000000</td>\n",
       "      <td>1.000000</td>\n",
       "      <td>3.000000</td>\n",
       "      <td>2.000000</td>\n",
       "      <td>1.000000</td>\n",
       "    </tr>\n",
       "    <tr>\n",
       "      <th>25%</th>\n",
       "      <td>4.000000</td>\n",
       "      <td>155.000000</td>\n",
       "      <td>155.000000</td>\n",
       "      <td>7.000000</td>\n",
       "      <td>0.000000</td>\n",
       "      <td>0.000000</td>\n",
       "      <td>7.000000</td>\n",
       "      <td>8.000000</td>\n",
       "      <td>8.000000</td>\n",
       "      <td>7.000000</td>\n",
       "      <td>...</td>\n",
       "      <td>10.000000</td>\n",
       "      <td>10.000000</td>\n",
       "      <td>15.000000</td>\n",
       "      <td>5.000000</td>\n",
       "      <td>10.000000</td>\n",
       "      <td>6.000000</td>\n",
       "      <td>7.000000</td>\n",
       "      <td>8.000000</td>\n",
       "      <td>6.000000</td>\n",
       "      <td>7.000000</td>\n",
       "    </tr>\n",
       "    <tr>\n",
       "      <th>50%</th>\n",
       "      <td>8.000000</td>\n",
       "      <td>285.500000</td>\n",
       "      <td>285.500000</td>\n",
       "      <td>11.000000</td>\n",
       "      <td>0.500000</td>\n",
       "      <td>0.000000</td>\n",
       "      <td>7.000000</td>\n",
       "      <td>8.000000</td>\n",
       "      <td>8.000000</td>\n",
       "      <td>8.000000</td>\n",
       "      <td>...</td>\n",
       "      <td>14.290000</td>\n",
       "      <td>15.000000</td>\n",
       "      <td>20.000000</td>\n",
       "      <td>10.000000</td>\n",
       "      <td>10.000000</td>\n",
       "      <td>7.000000</td>\n",
       "      <td>8.000000</td>\n",
       "      <td>8.000000</td>\n",
       "      <td>8.000000</td>\n",
       "      <td>8.000000</td>\n",
       "    </tr>\n",
       "    <tr>\n",
       "      <th>75%</th>\n",
       "      <td>13.000000</td>\n",
       "      <td>401.000000</td>\n",
       "      <td>401.000000</td>\n",
       "      <td>15.000000</td>\n",
       "      <td>1.000000</td>\n",
       "      <td>0.000000</td>\n",
       "      <td>8.000000</td>\n",
       "      <td>9.000000</td>\n",
       "      <td>9.000000</td>\n",
       "      <td>9.000000</td>\n",
       "      <td>...</td>\n",
       "      <td>18.000000</td>\n",
       "      <td>20.000000</td>\n",
       "      <td>20.690000</td>\n",
       "      <td>15.000000</td>\n",
       "      <td>15.630000</td>\n",
       "      <td>8.000000</td>\n",
       "      <td>9.000000</td>\n",
       "      <td>9.000000</td>\n",
       "      <td>9.000000</td>\n",
       "      <td>9.000000</td>\n",
       "    </tr>\n",
       "    <tr>\n",
       "      <th>max</th>\n",
       "      <td>22.000000</td>\n",
       "      <td>552.000000</td>\n",
       "      <td>552.000000</td>\n",
       "      <td>21.000000</td>\n",
       "      <td>1.000000</td>\n",
       "      <td>1.000000</td>\n",
       "      <td>10.000000</td>\n",
       "      <td>10.000000</td>\n",
       "      <td>10.000000</td>\n",
       "      <td>10.000000</td>\n",
       "      <td>...</td>\n",
       "      <td>40.000000</td>\n",
       "      <td>40.000000</td>\n",
       "      <td>50.000000</td>\n",
       "      <td>50.000000</td>\n",
       "      <td>30.000000</td>\n",
       "      <td>10.000000</td>\n",
       "      <td>10.000000</td>\n",
       "      <td>10.000000</td>\n",
       "      <td>10.000000</td>\n",
       "      <td>10.000000</td>\n",
       "    </tr>\n",
       "  </tbody>\n",
       "</table>\n",
       "<p>8 rows × 52 columns</p>\n",
       "</div>"
      ],
      "text/plain": [
       "                id          iid          pid         wave       gender  \\\n",
       "count  3316.000000  3316.000000  3316.000000  3316.000000  3316.000000   \n",
       "mean      8.870024   281.590772   281.590772    11.240048     0.500000   \n",
       "std       5.350265   155.988227   155.988227     5.857455     0.500075   \n",
       "min       1.000000     1.000000     1.000000     1.000000     0.000000   \n",
       "25%       4.000000   155.000000   155.000000     7.000000     0.000000   \n",
       "50%       8.000000   285.500000   285.500000    11.000000     0.500000   \n",
       "75%      13.000000   401.000000   401.000000    15.000000     1.000000   \n",
       "max      22.000000   552.000000   552.000000    21.000000     1.000000   \n",
       "\n",
       "             match      attr3_1      sinc3_1     intel3_1       fun3_1  ...  \\\n",
       "count  3316.000000  3291.000000  3291.000000  3291.000000  3291.000000  ...   \n",
       "mean      0.170688     7.145245     8.255849     8.457308     7.667882  ...   \n",
       "std       0.376292     1.339665     1.418781     1.052822     1.541522  ...   \n",
       "min       0.000000     2.000000     2.000000     3.000000     2.000000  ...   \n",
       "25%       0.000000     7.000000     8.000000     8.000000     7.000000  ...   \n",
       "50%       0.000000     7.000000     8.000000     8.000000     8.000000  ...   \n",
       "75%       0.000000     8.000000     9.000000     9.000000     9.000000  ...   \n",
       "max       1.000000    10.000000    10.000000    10.000000    10.000000  ...   \n",
       "\n",
       "           sinc2_1     intel2_1       fun2_1       amb2_1      shar2_1  \\\n",
       "count  3306.000000  3306.000000  3306.000000  3306.000000  3306.000000   \n",
       "mean     12.806785    14.316476    18.772396    11.689501    11.671464   \n",
       "std       6.700299     6.220634     6.470080     7.137152     6.261896   \n",
       "min       0.000000     0.000000     0.000000     0.000000     0.000000   \n",
       "25%      10.000000    10.000000    15.000000     5.000000    10.000000   \n",
       "50%      14.290000    15.000000    20.000000    10.000000    10.000000   \n",
       "75%      18.000000    20.000000    20.690000    15.000000    15.630000   \n",
       "max      40.000000    40.000000    50.000000    50.000000    30.000000   \n",
       "\n",
       "           attr5_1      sinc5_1     intel5_1       fun5_1       amb5_1  \n",
       "count  1945.000000  1945.000000  1945.000000  1945.000000  1945.000000  \n",
       "mean      6.898715     7.869409     8.265296     7.388175     7.622622  \n",
       "std       1.375313     1.629655     1.283623     1.759151     1.782835  \n",
       "min       2.000000     1.000000     3.000000     2.000000     1.000000  \n",
       "25%       6.000000     7.000000     8.000000     6.000000     7.000000  \n",
       "50%       7.000000     8.000000     8.000000     8.000000     8.000000  \n",
       "75%       8.000000     9.000000     9.000000     9.000000     9.000000  \n",
       "max      10.000000    10.000000    10.000000    10.000000    10.000000  \n",
       "\n",
       "[8 rows x 52 columns]"
      ]
     },
     "execution_count": 12,
     "metadata": {},
     "output_type": "execute_result"
    }
   ],
   "source": [
    "tmp3.describe()"
   ]
  },
  {
   "cell_type": "code",
   "execution_count": 13,
   "metadata": {},
   "outputs": [
    {
     "name": "stderr",
     "output_type": "stream",
     "text": [
      "/var/folders/p4/ybhgl5113q57lp0vhqc2znhr0000gn/T/ipykernel_75846/3751871771.py:2: SettingWithCopyWarning: \n",
      "A value is trying to be set on a copy of a slice from a DataFrame.\n",
      "Try using .loc[row_indexer,col_indexer] = value instead\n",
      "\n",
      "See the caveats in the documentation: https://pandas.pydata.org/pandas-docs/stable/user_guide/indexing.html#returning-a-view-versus-a-copy\n",
      "  tmp3[col] = tmp3[col].fillna(tmp[col].median())\n"
     ]
    }
   ],
   "source": [
    "# tmp3에서 null값 을 중앙값으로 체우기\n",
    "tmp3[col] = tmp3[col].fillna(tmp[col].median())"
   ]
  },
  {
   "cell_type": "code",
   "execution_count": 14,
   "metadata": {},
   "outputs": [
    {
     "name": "stdout",
     "output_type": "stream",
     "text": [
      "<class 'pandas.core.frame.DataFrame'>\n",
      "Int64Index: 3316 entries, 2 to 8372\n",
      "Data columns (total 52 columns):\n",
      " #   Column    Non-Null Count  Dtype  \n",
      "---  ------    --------------  -----  \n",
      " 0   id        3316 non-null   float64\n",
      " 1   iid       3316 non-null   int64  \n",
      " 2   pid       3316 non-null   float64\n",
      " 3   wave      3316 non-null   int64  \n",
      " 4   gender    3316 non-null   int64  \n",
      " 5   match     3316 non-null   int64  \n",
      " 6   attr3_1   3316 non-null   float64\n",
      " 7   sinc3_1   3316 non-null   float64\n",
      " 8   intel3_1  3316 non-null   float64\n",
      " 9   fun3_1    3316 non-null   float64\n",
      " 10  amb3_1    3316 non-null   float64\n",
      " 11  pf_o_att  3316 non-null   float64\n",
      " 12  pf_o_sin  3316 non-null   float64\n",
      " 13  pf_o_int  3316 non-null   float64\n",
      " 14  pf_o_fun  3316 non-null   float64\n",
      " 15  pf_o_amb  3316 non-null   float64\n",
      " 16  pf_o_sha  3316 non-null   float64\n",
      " 17  attr      3316 non-null   float64\n",
      " 18  sinc      3316 non-null   float64\n",
      " 19  intel     3316 non-null   float64\n",
      " 20  fun       3316 non-null   float64\n",
      " 21  amb       3316 non-null   float64\n",
      " 22  shar      3316 non-null   float64\n",
      " 23  like      3316 non-null   float64\n",
      " 24  condtn    3316 non-null   int64  \n",
      " 25  round     3316 non-null   int64  \n",
      " 26  int_corr  3316 non-null   float64\n",
      " 27  age_o     3316 non-null   float64\n",
      " 28  age       3316 non-null   float64\n",
      " 29  attr1_1   3316 non-null   float64\n",
      " 30  sinc1_1   3316 non-null   float64\n",
      " 31  intel1_1  3316 non-null   float64\n",
      " 32  fun1_1    3316 non-null   float64\n",
      " 33  amb1_1    3316 non-null   float64\n",
      " 34  shar1_1   3316 non-null   float64\n",
      " 35  attr4_1   3316 non-null   float64\n",
      " 36  sinc4_1   3316 non-null   float64\n",
      " 37  intel4_1  3316 non-null   float64\n",
      " 38  fun4_1    3316 non-null   float64\n",
      " 39  amb4_1    3316 non-null   float64\n",
      " 40  shar4_1   3316 non-null   float64\n",
      " 41  attr2_1   3316 non-null   float64\n",
      " 42  sinc2_1   3316 non-null   float64\n",
      " 43  intel2_1  3316 non-null   float64\n",
      " 44  fun2_1    3316 non-null   float64\n",
      " 45  amb2_1    3316 non-null   float64\n",
      " 46  shar2_1   3316 non-null   float64\n",
      " 47  attr5_1   3316 non-null   float64\n",
      " 48  sinc5_1   3316 non-null   float64\n",
      " 49  intel5_1  3316 non-null   float64\n",
      " 50  fun5_1    3316 non-null   float64\n",
      " 51  amb5_1    3316 non-null   float64\n",
      "dtypes: float64(46), int64(6)\n",
      "memory usage: 1.3 MB\n"
     ]
    }
   ],
   "source": [
    "tmp3.info()"
   ]
  },
  {
   "cell_type": "code",
   "execution_count": 15,
   "metadata": {},
   "outputs": [
    {
     "name": "stderr",
     "output_type": "stream",
     "text": [
      "/var/folders/p4/ybhgl5113q57lp0vhqc2znhr0000gn/T/ipykernel_75846/3907601548.py:5: SettingWithCopyWarning: \n",
      "A value is trying to be set on a copy of a slice from a DataFrame.\n",
      "Try using .loc[row_indexer,col_indexer] = value instead\n",
      "\n",
      "See the caveats in the documentation: https://pandas.pydata.org/pandas-docs/stable/user_guide/indexing.html#returning-a-view-versus-a-copy\n",
      "  tmp3['group'] = tmp3.wave.apply(lambda x: 1 if x <= 7 else (2 if x <= 14 else 3))\n"
     ]
    }
   ],
   "source": [
    "# 3개의 그룹으로 나누기\n",
    "# 1~7 wave =  group 1\n",
    "# 8~14 wave = group 2\n",
    "# 15~21 wave =  group 3\n",
    "tmp3['group'] = tmp3.wave.apply(lambda x: 1 if x <= 7 else (2 if x <= 14 else 3))"
   ]
  },
  {
   "cell_type": "code",
   "execution_count": 17,
   "metadata": {},
   "outputs": [
    {
     "data": {
      "text/plain": [
       "1     968\n",
       "2    1224\n",
       "3    1124\n",
       "Name: group, dtype: int64"
      ]
     },
     "execution_count": 17,
     "metadata": {},
     "output_type": "execute_result"
    }
   ],
   "source": [
    "tmp3.group.value_counts().sort_index()"
   ]
  },
  {
   "cell_type": "code",
   "execution_count": 18,
   "metadata": {},
   "outputs": [],
   "source": [
    "g1 = tmp3[tmp3.group == 1]"
   ]
  },
  {
   "cell_type": "code",
   "execution_count": 19,
   "metadata": {},
   "outputs": [],
   "source": [
    "g1.to_csv('./data/group1_4.csv')"
   ]
  },
  {
   "cell_type": "code",
   "execution_count": 20,
   "metadata": {},
   "outputs": [],
   "source": [
    "g2 = tmp3[tmp3.group == 2]\n",
    "g2.to_csv('./data/group2_4.csv')\n",
    "\n",
    "g3 = tmp3[tmp3.group == 3]\n",
    "g3.to_csv('./data/group3_4.csv')"
   ]
  },
  {
   "cell_type": "code",
   "execution_count": 21,
   "metadata": {},
   "outputs": [
    {
     "name": "stdout",
     "output_type": "stream",
     "text": [
      "968\n",
      "1224\n",
      "1124\n"
     ]
    }
   ],
   "source": [
    "print(len(g1))\n",
    "print(len(g2))\n",
    "print(len(g3))"
   ]
  }
 ],
 "metadata": {
  "kernelspec": {
   "display_name": "Python 3 (ipykernel)",
   "language": "python",
   "name": "python3"
  },
  "language_info": {
   "codemirror_mode": {
    "name": "ipython",
    "version": 3
   },
   "file_extension": ".py",
   "mimetype": "text/x-python",
   "name": "python",
   "nbconvert_exporter": "python",
   "pygments_lexer": "ipython3",
   "version": "3.9.13"
  },
  "vscode": {
   "interpreter": {
    "hash": "34eef8d31bca7e895f45363c5b93ebf41cef00c4499d385dcdffd7a96dee0dc2"
   }
  }
 },
 "nbformat": 4,
 "nbformat_minor": 4
}
