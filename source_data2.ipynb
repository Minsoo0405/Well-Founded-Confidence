{
 "cells": [
  {
   "cell_type": "code",
   "execution_count": 1,
   "metadata": {},
   "outputs": [],
   "source": [
    "import pandas as pd\n",
    "\n",
    "tmp = pd.read_csv('./data/SpeedDatingExData.csv', encoding='cp949')"
   ]
  },
  {
   "cell_type": "code",
   "execution_count": 8,
   "metadata": {},
   "outputs": [],
   "source": [
    "# tmp2에 samerace가 1인 데이터만 추출\n",
    "tmp2 = tmp[tmp['samerace'] == 1]"
   ]
  },
  {
   "cell_type": "code",
   "execution_count": 9,
   "metadata": {},
   "outputs": [
    {
     "data": {
      "text/plain": [
       "1     102\n",
       "2     260\n",
       "3      46\n",
       "4     240\n",
       "5      52\n",
       "6      16\n",
       "7     252\n",
       "8      50\n",
       "9     338\n",
       "10     46\n",
       "11    310\n",
       "12    200\n",
       "13     44\n",
       "14    236\n",
       "15    460\n",
       "16     44\n",
       "17    102\n",
       "18     34\n",
       "19    122\n",
       "20     26\n",
       "21    336\n",
       "Name: wave, dtype: int64"
      ]
     },
     "execution_count": 9,
     "metadata": {},
     "output_type": "execute_result"
    }
   ],
   "source": [
    "tmp2.wave.value_counts().sort_index()"
   ]
  },
  {
   "cell_type": "code",
   "execution_count": 17,
   "metadata": {},
   "outputs": [],
   "source": [
    "col = ['id', 'iid', 'pid', 'wave', 'gender', 'match',\n",
    "       'attr3_1','sinc3_1', 'intel3_1', 'fun3_1', 'amb3_1',\n",
    "       'pf_o_att', 'pf_o_sin', 'pf_o_int', 'pf_o_fun', 'pf_o_amb']"
   ]
  },
  {
   "cell_type": "code",
   "execution_count": 23,
   "metadata": {},
   "outputs": [],
   "source": [
    "# tmp2에서 사용할 칼럼 추출, null값 제거\n",
    "tmp3 = tmp2[col].dropna()"
   ]
  },
  {
   "cell_type": "code",
   "execution_count": 34,
   "metadata": {},
   "outputs": [],
   "source": [
    "# 3개의 그룹으로 나누기\n",
    "# 1~7 wave =  group 1\n",
    "# 8~14 wave = group 2\n",
    "# 15~21 wave =  group 3\n",
    "tmp3['group'] = tmp3.wave.apply(lambda x: 1 if x <= 7 else (2 if x <= 14 else 3))"
   ]
  },
  {
   "cell_type": "code",
   "execution_count": 33,
   "metadata": {},
   "outputs": [
    {
     "data": {
      "text/plain": [
       "1     943\n",
       "2    1224\n",
       "3    1109\n",
       "Name: group, dtype: int64"
      ]
     },
     "execution_count": 33,
     "metadata": {},
     "output_type": "execute_result"
    }
   ],
   "source": [
    "tmp3.group.value_counts().sort_index()"
   ]
  },
  {
   "cell_type": "code",
   "execution_count": 37,
   "metadata": {},
   "outputs": [],
   "source": [
    "g1 = tmp3[tmp3.group == 1]"
   ]
  },
  {
   "cell_type": "code",
   "execution_count": 38,
   "metadata": {},
   "outputs": [],
   "source": [
    "g1.to_csv('./data/group1.csv')"
   ]
  },
  {
   "cell_type": "code",
   "execution_count": 39,
   "metadata": {},
   "outputs": [],
   "source": [
    "g2 = tmp3[tmp3.group == 2]\n",
    "g2.to_csv('./data/group2.csv')\n",
    "\n",
    "g3 = tmp3[tmp3.group == 3]\n",
    "g3.to_csv('./data/group3.csv')"
   ]
  },
  {
   "cell_type": "code",
   "execution_count": 40,
   "metadata": {},
   "outputs": [
    {
     "name": "stdout",
     "output_type": "stream",
     "text": [
      "943\n",
      "1224\n",
      "1109\n"
     ]
    }
   ],
   "source": [
    "print(len(g1))\n",
    "print(len(g2))\n",
    "print(len(g3))"
   ]
  }
 ],
 "metadata": {
  "kernelspec": {
   "display_name": "Python 3 (ipykernel)",
   "language": "python",
   "name": "python3"
  },
  "language_info": {
   "codemirror_mode": {
    "name": "ipython",
    "version": 3
   },
   "file_extension": ".py",
   "mimetype": "text/x-python",
   "name": "python",
   "nbconvert_exporter": "python",
   "pygments_lexer": "ipython3",
   "version": "3.9.13"
  },
  "vscode": {
   "interpreter": {
    "hash": "34eef8d31bca7e895f45363c5b93ebf41cef00c4499d385dcdffd7a96dee0dc2"
   }
  }
 },
 "nbformat": 4,
 "nbformat_minor": 4
}
