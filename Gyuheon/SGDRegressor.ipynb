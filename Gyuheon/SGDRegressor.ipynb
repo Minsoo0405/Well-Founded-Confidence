{
 "cells": [
  {
   "cell_type": "markdown",
   "id": "f89222af-08c3-4523-8c40-bc9b4eeeebb1",
   "metadata": {
    "tags": []
   },
   "source": [
    "## 다중 선형회귀"
   ]
  },
  {
   "cell_type": "code",
   "execution_count": 1,
   "id": "f567e877-8314-4a6c-91e5-509617aedfbf",
   "metadata": {},
   "outputs": [],
   "source": [
    "# import\n",
    "from sklearn.datasets import load_diabetes\n",
    "from sklearn.linear_model import LinearRegression\n",
    "from sklearn.linear_model import Ridge\n",
    "from sklearn.linear_model import Lasso\n",
    "from sklearn.linear_model import ElasticNet\n",
    "\n",
    "from sklearn.linear_model import RidgeCV\n",
    "from sklearn.linear_model import LassoCV\n",
    "\n",
    "from sklearn.model_selection import train_test_split\n",
    "from sklearn.metrics import mean_squared_error, r2_score\n",
    "\n",
    "import pandas as pd\n",
    "import numpy as np\n",
    "\n",
    "from sklearn.linear_model import SGDRegressor"
   ]
  },
  {
   "cell_type": "markdown",
   "id": "a12523f5-e54b-425e-ac6e-b08d54ae227e",
   "metadata": {},
   "source": [
    "### 데이터 준비"
   ]
  },
  {
   "cell_type": "code",
   "execution_count": 2,
   "id": "75d874ff-9fe3-4a0a-ace0-fd231aec71da",
   "metadata": {},
   "outputs": [],
   "source": [
    "def evaluate_score(y_test, y_pred):\n",
    "    mse = mean_squared_error(y_test, y_pred)\n",
    "    rmse = np.sqrt(mse)\n",
    "    r2 = r2_score(y_test, y_pred)\n",
    "    \n",
    "    print(f'mse - {mse:.4f}')\n",
    "    print(f'rmse - {rmse:.4f}')\n",
    "    print(f'r2 - {r2:.4f}')\n",
    "    return"
   ]
  },
  {
   "cell_type": "markdown",
   "id": "39dca9db-a926-4020-b366-579dfd861cad",
   "metadata": {},
   "source": [
    "### 데이터 준비 및 분할"
   ]
  },
  {
   "cell_type": "code",
   "execution_count": 3,
   "id": "4acf9822-0c40-4ac0-8bf2-01cc88819028",
   "metadata": {},
   "outputs": [],
   "source": [
    "# 데이터 csv 불러오기\n",
    "train = pd.read_csv('../data/train3.csv')"
   ]
  },
  {
   "cell_type": "code",
   "execution_count": 4,
   "id": "c7b13190-d50e-45a6-87d9-449552723a3c",
   "metadata": {},
   "outputs": [],
   "source": [
    "# Unnamed: 0 column제거\n",
    "train = train.iloc[:,1:]\n",
    "# 소수점 2자리까지\n",
    "train.match = round(train.match, 2)"
   ]
  },
  {
   "cell_type": "code",
   "execution_count": 5,
   "id": "2407a024-1389-46f2-b8b3-3a8eb0eafac4",
   "metadata": {},
   "outputs": [],
   "source": [
    "# X(독립변수), Y(종속변수) 분할\n",
    "X = train.drop('match', axis=1)\n",
    "y = train['match']\n",
    "# 학습용 데이터와 평가용 데이터로 분할하기\n",
    "X_train, X_test, y_train, y_test = train_test_split(X, y, test_size=0.3, random_state=42)"
   ]
  },
  {
   "cell_type": "markdown",
   "id": "e1cbf882-4d8d-4668-977b-520a35b41a0a",
   "metadata": {},
   "source": [
    "### 모델 구축"
   ]
  },
  {
   "cell_type": "code",
   "execution_count": 6,
   "id": "35f6d07d-1cae-416a-a671-05230c16e8d3",
   "metadata": {},
   "outputs": [],
   "source": [
    "from sklearn.linear_model import LinearRegression\n",
    "# 회귀 모델 객체 생성\n",
    "lr = LinearRegression()\n",
    "\n",
    "# 모델학습\n",
    "reg = lr.fit(X_train,y_train)"
   ]
  },
  {
   "cell_type": "code",
   "execution_count": 7,
   "id": "489c8849-c8b8-4e03-8da2-6b339a92bd7e",
   "metadata": {},
   "outputs": [],
   "source": [
    "# 회귀 계수, 절편 확인\n",
    "coef = reg.coef_\n",
    "intercept = reg.intercept_"
   ]
  },
  {
   "cell_type": "code",
   "execution_count": 8,
   "id": "5c7e586d-122d-41ca-a629-48b36935a246",
   "metadata": {},
   "outputs": [
    {
     "name": "stdout",
     "output_type": "stream",
     "text": [
      "mse - 485.0720\n",
      "rmse - 22.0243\n",
      "r2 - 0.1480\n"
     ]
    }
   ],
   "source": [
    "y_pred = reg.predict(X_test)\n",
    "evaluate_score(y_test, y_pred)"
   ]
  },
  {
   "cell_type": "code",
   "execution_count": 9,
   "id": "3428fa68-1c6c-4acb-8062-d4494595705b",
   "metadata": {},
   "outputs": [
    {
     "name": "stdout",
     "output_type": "stream",
     "text": [
      "Adjusted R2: 0.09302049125586154\n"
     ]
    }
   ],
   "source": [
    "n = len(X_train)\n",
    "k = len(X_train.columns)\n",
    "r2 = r2_score(y_test,y_pred)\n",
    "adj_r2 = 1 - ((1-r2)*(n-1) / (n-k-1))\n",
    "print('Adjusted R2: {}'.format(adj_r2))"
   ]
  },
  {
   "cell_type": "markdown",
   "id": "5a50bce5-71d3-4d40-8918-02e3c7addc5a",
   "metadata": {},
   "source": [
    "### SGDRegressor with hyperparameter"
   ]
  },
  {
   "cell_type": "code",
   "execution_count": 10,
   "id": "a72426c7-7275-49e1-a5c0-d572f8d20164",
   "metadata": {},
   "outputs": [
    {
     "name": "stdout",
     "output_type": "stream",
     "text": [
      "-3560905.531673705 -4488167.268966469\n",
      "mse - 744966520864917120.0000\n",
      "rmse - 863114430.9215\n",
      "r2 - -1308506229229570.2500\n"
     ]
    }
   ],
   "source": [
    "reg = SGDRegressor(max_iter=10000, eta0=0.0001, learning_rate='invscaling', loss= 'squared_error', random_state=42)\n",
    "reg.fit(X_train, y_train)\n",
    "\n",
    "print(reg.coef_[0], reg.intercept_[0])\n",
    "\n",
    "y_pred = reg.predict(X_test)\n",
    "y_pred[y_pred < 0] = 0.\n",
    "evaluate_score(y_test, y_pred)"
   ]
  },
  {
   "cell_type": "markdown",
   "id": "4639da4b-56de-49be-8d29-808e449366a7",
   "metadata": {},
   "source": [
    "### SGDRegressor with scaling"
   ]
  },
  {
   "cell_type": "code",
   "execution_count": 11,
   "id": "3c3efd04-2750-4da7-9751-0500fb91e9f6",
   "metadata": {},
   "outputs": [
    {
     "name": "stdout",
     "output_type": "stream",
     "text": [
      "[ 1.09030479  0.89086754  0.51317045  1.53069276  0.41430448  0.46344769\n",
      "  0.49091966 -0.31230483 -2.0604321   0.43522873  1.95857357  0.1834611\n",
      " -0.66876052  2.94355509  0.54137595  0.01908409  0.12051811  0.62760701\n",
      "  3.95360066  2.25486784] [18.10715864]\n",
      "mse - 476.4523\n",
      "rmse - 21.8278\n",
      "r2 - 0.1631\n"
     ]
    }
   ],
   "source": [
    "# 표준화 스케일링을 사용하여 경사하강법 모델링 \n",
    "train_mean = np.mean(X_train, axis=0)\n",
    "train_std = np.std(X_train, axis=0)\n",
    "\n",
    "X_train_scaled = (X_train - train_mean) / train_std\n",
    "X_test_scaled = (X_test - train_mean) / train_std\n",
    "\n",
    "# 모델 객체 생성\n",
    "reg = SGDRegressor(max_iter=100000000, eta0=0.0001, learning_rate='invscaling', loss= 'squared_error', random_state=42)\n",
    "\n",
    "reg.fit(X_train_scaled, y_train)\n",
    "\n",
    "# 계수 확인\n",
    "print(reg.coef_, reg.intercept_)\n",
    "\n",
    "# 평가 지표\n",
    "y_pred = reg.predict(X_test_scaled)\n",
    "y_pred[y_pred < 0] = 0.\n",
    "evaluate_score(y_test, y_pred)"
   ]
  },
  {
   "cell_type": "markdown",
   "id": "71966ad4-225c-4e08-bb86-263e17e14f6f",
   "metadata": {},
   "source": [
    "### SGDRegressor with StandardScaler()"
   ]
  },
  {
   "cell_type": "code",
   "execution_count": 12,
   "id": "4797b6f7-fa71-40ad-b230-c390444daba6",
   "metadata": {},
   "outputs": [],
   "source": [
    "from sklearn.preprocessing import StandardScaler\n",
    "\n",
    "scaler = StandardScaler()\n",
    "scaler.fit(X_train)\n",
    "X_train_scaled = scaler.transform(X_train)\n",
    "# X_train_scaled = scaler.fit_transform(X_train)\n",
    "X_test_scaled = scaler.transform(X_test)"
   ]
  },
  {
   "cell_type": "markdown",
   "id": "55082e92-a643-47c4-a529-7cf463a864df",
   "metadata": {},
   "source": [
    "### Pipeline with StandardScaler, LinearRergression or SGDRegressor"
   ]
  },
  {
   "cell_type": "code",
   "execution_count": 15,
   "id": "28f04b42-049d-494f-8a91-80b5ae65a1a6",
   "metadata": {},
   "outputs": [
    {
     "name": "stdout",
     "output_type": "stream",
     "text": [
      "[ 1.26257939  1.14036197  0.36051498  1.60727865  0.55085639  0.49626461\n",
      "  0.58120447 -0.79539217 -2.45059243  0.37706142  1.81634766  0.12797902\n",
      " -1.05634402  3.31814131  0.67947971 -0.07347315 -0.90895796  0.41723961\n",
      "  4.79137394  2.056742  ] [18.85532626]\n",
      "y = 1.262579X + 18.855\n",
      "mse - 483.9379\n",
      "rmse - 21.9986\n",
      "r2 - 0.1500\n"
     ]
    }
   ],
   "source": [
    "from sklearn.preprocessing import StandardScaler\n",
    "from sklearn.pipeline import make_pipeline\n",
    "\n",
    "reg = make_pipeline(StandardScaler(),\n",
    "                    SGDRegressor(max_iter=1000000, eta0=0.01,\\\n",
    "                                 tol=0.0001, random_state=42, loss='squared_error'))\n",
    "reg.fit(X_train, y_train)\n",
    "\n",
    "# 계수 및 절편 확인: _속성은 학습을 통해 결정되는 속성\n",
    "print(reg[1].coef_, reg[1].intercept_)\n",
    "\n",
    "#회귀식 - pipeline()을 사용했기 때문에 SGDRegressor의 parameter가 reg객체의 1번 인덱스에 들어감\n",
    "print(\"y = {:2f}X + {:.3f}\".format(reg[1].coef_[0], reg[1].intercept_[0]))\n",
    "\n",
    "# 예측 수행\n",
    "y_pred = reg.predict(X_test)\n",
    "y_pred[y_pred < 0] = 0.\n",
    "from sklearn.metrics import mean_squared_error, r2_score\n",
    "# MSE, RMSE, r2_score\n",
    "evaluate_score(y_test, y_pred)"
   ]
  },
  {
   "cell_type": "code",
   "execution_count": null,
   "id": "66d9f49c-1339-4102-87a3-e157fabbbf3c",
   "metadata": {},
   "outputs": [],
   "source": []
  }
 ],
 "metadata": {
  "kernelspec": {
   "display_name": "Python 3 (ipykernel)",
   "language": "python",
   "name": "python3"
  },
  "language_info": {
   "codemirror_mode": {
    "name": "ipython",
    "version": 3
   },
   "file_extension": ".py",
   "mimetype": "text/x-python",
   "name": "python",
   "nbconvert_exporter": "python",
   "pygments_lexer": "ipython3",
   "version": "3.9.13"
  }
 },
 "nbformat": 4,
 "nbformat_minor": 5
}
