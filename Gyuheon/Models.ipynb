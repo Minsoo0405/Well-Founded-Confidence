{
 "cells": [
  {
   "cell_type": "markdown",
   "id": "a497885b-36c0-4811-90d6-43599f98d280",
   "metadata": {
    "tags": []
   },
   "source": [
    "# 규제가 있는 선형회귀 - 릿지, 라쏘, 엘라스틱넷 회귀"
   ]
  },
  {
   "cell_type": "markdown",
   "id": "10c8bc28-f21a-4d75-99a1-adae567d6ec3",
   "metadata": {
    "tags": []
   },
   "source": [
    "#### 규제가 있는 모델 구축 - 당뇨병 데이터세트\n",
    "#### 1. 데이터 전처리\n",
    "#### 2. Ridge, Lasso, Elasticnet regression 구축: 회귀 계수 확인, 하이퍼 파라미터 탐색\n",
    "#### 3. 교차 검증으로 최적의 하이퍼파라미터 탐색: LassoCV()"
   ]
  },
  {
   "cell_type": "code",
   "execution_count": 1,
   "id": "37292e3f-9b3a-49f8-96e9-6b57d235d76b",
   "metadata": {},
   "outputs": [],
   "source": [
    "# 관련 라이브러리 및 모듈 Import\n",
    "# import\n",
    "from sklearn.linear_model import LinearRegression\n",
    "from sklearn.linear_model import Ridge\n",
    "from sklearn.linear_model import Lasso\n",
    "from sklearn.linear_model import ElasticNet\n",
    "from sklearn.linear_model import RidgeCV\n",
    "from sklearn.linear_model import LassoCV\n",
    "from sklearn.linear_model import SGDRegressor\n",
    "\n",
    "from sklearn.preprocessing import StandardScaler\n",
    "\n",
    "from sklearn.pipeline import Pipeline\n",
    "from sklearn.pipeline import make_pipeline\n",
    "\n",
    "from sklearn.model_selection import GridSearchCV\n",
    "from sklearn.model_selection import train_test_split\n",
    "\n",
    "from sklearn.metrics import mean_squared_error, r2_score\n",
    "\n",
    "import pandas as pd\n",
    "import numpy as np\n",
    "\n",
    "import matplotlib.pyplot as plt\n",
    "import seaborn as sns"
   ]
  },
  {
   "cell_type": "code",
   "execution_count": 2,
   "id": "06b690c8-6bfd-462a-8367-a81d47b73dce",
   "metadata": {},
   "outputs": [],
   "source": [
    "import warnings\n",
    "warnings.filterwarnings(action='ignore')"
   ]
  },
  {
   "cell_type": "code",
   "execution_count": 3,
   "id": "53650907-4bd5-403a-a494-011ec425dcbf",
   "metadata": {},
   "outputs": [],
   "source": [
    "def evaluate_score(y_test, y_pred):\n",
    "    mse = mean_squared_error(y_test, y_pred)\n",
    "    rmse = np.sqrt(mse)\n",
    "    r2 = r2_score(y_test, y_pred)\n",
    "    \n",
    "    print(f'mse- {mse:.3f}')\n",
    "    print(f'rmse- {rmse:.3f}')\n",
    "    print(f'r2- {r2:.3f}')\n",
    "    \n",
    "    return"
   ]
  },
  {
   "cell_type": "markdown",
   "id": "1c8b000f-9979-4216-ab01-d258fa20f513",
   "metadata": {
    "tags": []
   },
   "source": [
    "## 데이터 수집, 탐색, 준비"
   ]
  },
  {
   "cell_type": "markdown",
   "id": "ac351c8a-b625-45e9-830e-c5b52686ffd7",
   "metadata": {
    "tags": []
   },
   "source": [
    "####  데이터셋에 대한 설명 및 정보 확인"
   ]
  },
  {
   "cell_type": "code",
   "execution_count": 4,
   "id": "5febfa66-424a-4b92-a820-bda1a843ebee",
   "metadata": {},
   "outputs": [],
   "source": [
    "# 데이터 csv 불러오기\n",
    "train = pd.read_csv('../data/train3.csv')"
   ]
  },
  {
   "cell_type": "code",
   "execution_count": 5,
   "id": "9f60a29a-20df-4eaf-b4f4-29c1aa1a631a",
   "metadata": {},
   "outputs": [],
   "source": [
    "# Unnamed: 0 column제거\n",
    "train = train.iloc[:,1:]\n",
    "# 소수점 2자리까지\n",
    "train.match = round(train.match, 2)"
   ]
  },
  {
   "cell_type": "code",
   "execution_count": 6,
   "id": "61136b5b-7f79-4c34-8be9-daa07206eac0",
   "metadata": {},
   "outputs": [],
   "source": [
    "train.set_index('iid', inplace=True)"
   ]
  },
  {
   "cell_type": "code",
   "execution_count": 7,
   "id": "0f7999c0-5d15-46cd-a906-bf9df18d755b",
   "metadata": {},
   "outputs": [],
   "source": [
    "# X(독립변수), Y(종속변수) 분할\n",
    "X = train.drop('match', axis=1)\n",
    "y = train['match']\n",
    "# 학습용 데이터와 평가용 데이터로 분할하기\n",
    "X_train, X_test, y_train, y_test = train_test_split(X, y, test_size=0.3, random_state=42)"
   ]
  },
  {
   "cell_type": "markdown",
   "id": "ca0c2cc5-fd35-4602-a45c-90abbd83e3ef",
   "metadata": {
    "jp-MarkdownHeadingCollapsed": true,
    "tags": []
   },
   "source": [
    "## 모델별 계수변화, 알파별 계수 비교 데이터프레임(comp_df)"
   ]
  },
  {
   "cell_type": "code",
   "execution_count": 8,
   "id": "45517990-9368-49cf-8502-59da530de56d",
   "metadata": {},
   "outputs": [
    {
     "data": {
      "text/html": [
       "<div>\n",
       "<style scoped>\n",
       "    .dataframe tbody tr th:only-of-type {\n",
       "        vertical-align: middle;\n",
       "    }\n",
       "\n",
       "    .dataframe tbody tr th {\n",
       "        vertical-align: top;\n",
       "    }\n",
       "\n",
       "    .dataframe thead th {\n",
       "        text-align: right;\n",
       "    }\n",
       "</style>\n",
       "<table border=\"1\" class=\"dataframe\">\n",
       "  <thead>\n",
       "    <tr style=\"text-align: right;\">\n",
       "      <th></th>\n",
       "    </tr>\n",
       "  </thead>\n",
       "  <tbody>\n",
       "    <tr>\n",
       "      <th>gender</th>\n",
       "    </tr>\n",
       "    <tr>\n",
       "      <th>attr3_1</th>\n",
       "    </tr>\n",
       "    <tr>\n",
       "      <th>sinc3_1</th>\n",
       "    </tr>\n",
       "    <tr>\n",
       "      <th>intel3_1</th>\n",
       "    </tr>\n",
       "    <tr>\n",
       "      <th>fun3_1</th>\n",
       "    </tr>\n",
       "    <tr>\n",
       "      <th>amb3_1</th>\n",
       "    </tr>\n",
       "    <tr>\n",
       "      <th>tmp_att</th>\n",
       "    </tr>\n",
       "    <tr>\n",
       "      <th>tmp_sin</th>\n",
       "    </tr>\n",
       "    <tr>\n",
       "      <th>tmp_int</th>\n",
       "    </tr>\n",
       "    <tr>\n",
       "      <th>tmp_fun</th>\n",
       "    </tr>\n",
       "    <tr>\n",
       "      <th>tmp_amb</th>\n",
       "    </tr>\n",
       "    <tr>\n",
       "      <th>tmp_sha</th>\n",
       "    </tr>\n",
       "    <tr>\n",
       "      <th>tmp2_attr</th>\n",
       "    </tr>\n",
       "    <tr>\n",
       "      <th>tmp2_sinc</th>\n",
       "    </tr>\n",
       "    <tr>\n",
       "      <th>tmp2_intel</th>\n",
       "    </tr>\n",
       "    <tr>\n",
       "      <th>tmp2_fun</th>\n",
       "    </tr>\n",
       "    <tr>\n",
       "      <th>tmp2_amb</th>\n",
       "    </tr>\n",
       "    <tr>\n",
       "      <th>tmp2_shar</th>\n",
       "    </tr>\n",
       "    <tr>\n",
       "      <th>tmp2_like</th>\n",
       "    </tr>\n",
       "    <tr>\n",
       "      <th>R2_scores</th>\n",
       "    </tr>\n",
       "  </tbody>\n",
       "</table>\n",
       "</div>"
      ],
      "text/plain": [
       "Empty DataFrame\n",
       "Columns: []\n",
       "Index: [gender, attr3_1, sinc3_1, intel3_1, fun3_1, amb3_1, tmp_att, tmp_sin, tmp_int, tmp_fun, tmp_amb, tmp_sha, tmp2_attr, tmp2_sinc, tmp2_intel, tmp2_fun, tmp2_amb, tmp2_shar, tmp2_like, R2_scores]"
      ]
     },
     "execution_count": 8,
     "metadata": {},
     "output_type": "execute_result"
    }
   ],
   "source": [
    "#각 모델별 계수로 이루어진 데이터프레임 준비\n",
    "comp_df = pd.DataFrame(index=list(X.columns)+['R2_scores'])\n",
    "comp_df"
   ]
  },
  {
   "cell_type": "markdown",
   "id": "373aa66b-dbe9-4391-bc16-c6c5646c5f8f",
   "metadata": {
    "tags": []
   },
   "source": [
    "## 각 모델별, 규제강도별 평가지표 저장"
   ]
  },
  {
   "cell_type": "markdown",
   "id": "338f961b-9873-4816-89f9-3c612aa9aa6d",
   "metadata": {
    "tags": []
   },
   "source": [
    "####  데이터셋에 대한 설명 및 정보 확인"
   ]
  },
  {
   "cell_type": "code",
   "execution_count": 9,
   "id": "195c09c9-35d4-49ed-ba16-06e9c7b0d00b",
   "metadata": {},
   "outputs": [],
   "source": [
    "# 데이터 csv 불러오기\n",
    "train = pd.read_csv('../data/train3.csv')"
   ]
  },
  {
   "cell_type": "code",
   "execution_count": 10,
   "id": "b6856272-7ba8-4c07-a453-9f06fb8cc35c",
   "metadata": {},
   "outputs": [],
   "source": [
    "# Unnamed: 0 column제거\n",
    "train = train.iloc[:,1:]\n",
    "# 소수점 2자리까지\n",
    "train.match = round(train.match, 2)"
   ]
  },
  {
   "cell_type": "code",
   "execution_count": 11,
   "id": "c2139611-ac46-4569-b3ef-7eb36666d604",
   "metadata": {},
   "outputs": [],
   "source": [
    "train.set_index('iid', inplace=True)"
   ]
  },
  {
   "cell_type": "code",
   "execution_count": 12,
   "id": "ffd64a4f-31ed-40fd-98b3-07f8a1d10e52",
   "metadata": {},
   "outputs": [],
   "source": [
    "# X(독립변수), Y(종속변수) 분할\n",
    "X = train.drop('match', axis=1)\n",
    "y = train['match']\n",
    "# 학습용 데이터와 평가용 데이터로 분할하기\n",
    "X_train, X_test, y_train, y_test = train_test_split(X, y, test_size=0.3, random_state=42)"
   ]
  },
  {
   "cell_type": "markdown",
   "id": "42c8fa85-8353-4fe4-8b65-69ed87919378",
   "metadata": {
    "tags": []
   },
   "source": [
    "### 1. 규제가 없는 선형모델"
   ]
  },
  {
   "cell_type": "code",
   "execution_count": 13,
   "id": "74a9f193-5138-4a62-b5b9-829c6056e62d",
   "metadata": {},
   "outputs": [
    {
     "name": "stdout",
     "output_type": "stream",
     "text": [
      "r2= 0.165440\n",
      "mse- 475.137\n",
      "rmse- 21.798\n",
      "r2- 0.165\n",
      "gender        2.488261\n",
      "attr3_1       0.215311\n",
      "sinc3_1       1.153511\n",
      "intel3_1      0.370772\n",
      "fun3_1        0.296765\n",
      "amb3_1        0.285441\n",
      "tmp_att      -0.242308\n",
      "tmp_sin      -0.507375\n",
      "tmp_int      -0.160162\n",
      "tmp_fun       0.071941\n",
      "tmp_amb      -0.174774\n",
      "tmp_sha      -0.328281\n",
      "tmp2_attr     2.563608\n",
      "tmp2_sinc     0.784270\n",
      "tmp2_intel   -0.244149\n",
      "tmp2_fun     -0.644078\n",
      "tmp2_amb      0.542481\n",
      "tmp2_shar     3.348662\n",
      "tmp2_like     1.644996\n",
      "dtype: float64\n"
     ]
    }
   ],
   "source": [
    "#모델 구축 및 학습\n",
    "model_LR = LinearRegression()\n",
    "model_LR = model_LR.fit(X_train, y_train)\n",
    "\n",
    "#모델 평가\n",
    "y_pred = model_LR.predict(X_test)\n",
    "y_pred[y_pred < 0] = 0.\n",
    "\n",
    "r2 = r2_score(y_test, y_pred)\n",
    "print(f\"r2= {r2:3f}\")\n",
    "# 회귀 계수 확인\n",
    "evaluate_score(y_test, y_pred)\n",
    "\n",
    "# r2\n",
    "LR_coef = pd.Series(model_LR.coef_, index=X.columns)\n",
    "print(LR_coef)"
   ]
  },
  {
   "cell_type": "markdown",
   "id": "62987d3b-b599-4320-b52e-0a54da0f2a72",
   "metadata": {},
   "source": [
    "- 계수값 시각화"
   ]
  },
  {
   "cell_type": "code",
   "execution_count": 14,
   "id": "9642d4cf-d917-46b8-a9e1-7df544744489",
   "metadata": {},
   "outputs": [
    {
     "data": {
      "image/png": "[encoded data removed]",
      "text/plain": [
       "<Figure size 1000x300 with 1 Axes>"
      ]
     },
     "metadata": {},
     "output_type": "display_data"
    }
   ],
   "source": [
    "coef = LR_coef.sort_values(ascending=False)\n",
    "coef = np.abs(LR_coef).sort_values(ascending=False)\n",
    "# print('======')\n",
    "# 시각화\n",
    "plt.figure(figsize=(10,3))\n",
    "plt.title('<Feature importance of coefficents without Regulization>', fontsize=15)\n",
    "plt.bar(coef.index, coef.values)\n",
    "plt.xticks(coef.index, rotation=45, fontsize=11);"
   ]
  },
  {
   "cell_type": "code",
   "execution_count": 15,
   "id": "6e0a5abc-07d0-4c3b-963f-9888824ad7e4",
   "metadata": {
    "tags": []
   },
   "outputs": [
    {
     "data": {
      "text/html": [
       "<div>\n",
       "<style scoped>\n",
       "    .dataframe tbody tr th:only-of-type {\n",
       "        vertical-align: middle;\n",
       "    }\n",
       "\n",
       "    .dataframe tbody tr th {\n",
       "        vertical-align: top;\n",
       "    }\n",
       "\n",
       "    .dataframe thead th {\n",
       "        text-align: right;\n",
       "    }\n",
       "</style>\n",
       "<table border=\"1\" class=\"dataframe\">\n",
       "  <thead>\n",
       "    <tr style=\"text-align: right;\">\n",
       "      <th></th>\n",
       "      <th>LR</th>\n",
       "    </tr>\n",
       "  </thead>\n",
       "  <tbody>\n",
       "    <tr>\n",
       "      <th>gender</th>\n",
       "      <td>2.488261</td>\n",
       "    </tr>\n",
       "    <tr>\n",
       "      <th>attr3_1</th>\n",
       "      <td>0.215311</td>\n",
       "    </tr>\n",
       "    <tr>\n",
       "      <th>sinc3_1</th>\n",
       "      <td>1.153511</td>\n",
       "    </tr>\n",
       "    <tr>\n",
       "      <th>intel3_1</th>\n",
       "      <td>0.370772</td>\n",
       "    </tr>\n",
       "    <tr>\n",
       "      <th>fun3_1</th>\n",
       "      <td>0.296765</td>\n",
       "    </tr>\n",
       "    <tr>\n",
       "      <th>amb3_1</th>\n",
       "      <td>0.285441</td>\n",
       "    </tr>\n",
       "    <tr>\n",
       "      <th>tmp_att</th>\n",
       "      <td>-0.242308</td>\n",
       "    </tr>\n",
       "    <tr>\n",
       "      <th>tmp_sin</th>\n",
       "      <td>-0.507375</td>\n",
       "    </tr>\n",
       "    <tr>\n",
       "      <th>tmp_int</th>\n",
       "      <td>-0.160162</td>\n",
       "    </tr>\n",
       "    <tr>\n",
       "      <th>tmp_fun</th>\n",
       "      <td>0.071941</td>\n",
       "    </tr>\n",
       "    <tr>\n",
       "      <th>tmp_amb</th>\n",
       "      <td>-0.174774</td>\n",
       "    </tr>\n",
       "    <tr>\n",
       "      <th>tmp_sha</th>\n",
       "      <td>-0.328281</td>\n",
       "    </tr>\n",
       "    <tr>\n",
       "      <th>tmp2_attr</th>\n",
       "      <td>2.563608</td>\n",
       "    </tr>\n",
       "    <tr>\n",
       "      <th>tmp2_sinc</th>\n",
       "      <td>0.784270</td>\n",
       "    </tr>\n",
       "    <tr>\n",
       "      <th>tmp2_intel</th>\n",
       "      <td>-0.244149</td>\n",
       "    </tr>\n",
       "    <tr>\n",
       "      <th>tmp2_fun</th>\n",
       "      <td>-0.644078</td>\n",
       "    </tr>\n",
       "    <tr>\n",
       "      <th>tmp2_amb</th>\n",
       "      <td>0.542481</td>\n",
       "    </tr>\n",
       "    <tr>\n",
       "      <th>tmp2_shar</th>\n",
       "      <td>3.348662</td>\n",
       "    </tr>\n",
       "    <tr>\n",
       "      <th>tmp2_like</th>\n",
       "      <td>1.644996</td>\n",
       "    </tr>\n",
       "    <tr>\n",
       "      <th>R2_scores</th>\n",
       "      <td>0.165440</td>\n",
       "    </tr>\n",
       "  </tbody>\n",
       "</table>\n",
       "</div>"
      ],
      "text/plain": [
       "                  LR\n",
       "gender      2.488261\n",
       "attr3_1     0.215311\n",
       "sinc3_1     1.153511\n",
       "intel3_1    0.370772\n",
       "fun3_1      0.296765\n",
       "amb3_1      0.285441\n",
       "tmp_att    -0.242308\n",
       "tmp_sin    -0.507375\n",
       "tmp_int    -0.160162\n",
       "tmp_fun     0.071941\n",
       "tmp_amb    -0.174774\n",
       "tmp_sha    -0.328281\n",
       "tmp2_attr   2.563608\n",
       "tmp2_sinc   0.784270\n",
       "tmp2_intel -0.244149\n",
       "tmp2_fun   -0.644078\n",
       "tmp2_amb    0.542481\n",
       "tmp2_shar   3.348662\n",
       "tmp2_like   1.644996\n",
       "R2_scores   0.165440"
      ]
     },
     "execution_count": 15,
     "metadata": {},
     "output_type": "execute_result"
    }
   ],
   "source": [
    "# 모델별 비교 데이터프레임 열 추가\n",
    "comp_df[\"LR\"] = np.append(model_LR.coef_, r2)\n",
    "comp_df"
   ]
  },
  {
   "cell_type": "code",
   "execution_count": 16,
   "id": "d3e38ae9-171f-45ac-945b-e8bc2f7afef4",
   "metadata": {},
   "outputs": [],
   "source": [
    "# 데이터 csv 불러오기\n",
    "train = pd.read_csv('../data/train3.csv')"
   ]
  },
  {
   "cell_type": "code",
   "execution_count": 17,
   "id": "15b9f35a-187d-4171-be51-7f41a2f58f14",
   "metadata": {},
   "outputs": [],
   "source": [
    "# Unnamed: 0 column제거\n",
    "train = train.iloc[:,1:]\n",
    "# 소수점 2자리까지\n",
    "train.match = round(train.match, 2)"
   ]
  },
  {
   "cell_type": "code",
   "execution_count": 18,
   "id": "4d9e4211-bc97-4b33-bebd-6ca67651305f",
   "metadata": {},
   "outputs": [],
   "source": [
    "train.set_index('iid', inplace=True)"
   ]
  },
  {
   "cell_type": "code",
   "execution_count": 19,
   "id": "f1ec4c6a-22bc-44e7-b7b1-1c72bfb8c920",
   "metadata": {},
   "outputs": [],
   "source": [
    "# X(독립변수), Y(종속변수) 분할\n",
    "X = train.drop('match', axis=1)\n",
    "y = train['match']\n",
    "# 학습용 데이터와 평가용 데이터로 분할하기\n",
    "X_train, X_test, y_train, y_test = train_test_split(X, y, test_size=0.3, random_state=42)"
   ]
  },
  {
   "cell_type": "markdown",
   "id": "bfb64f6c-3f9c-4a54-beb5-9661e241fc00",
   "metadata": {
    "tags": []
   },
   "source": [
    "### 1. 릿지 모델"
   ]
  },
  {
   "cell_type": "code",
   "execution_count": 20,
   "id": "25d611da-9e9d-41db-9df7-6f6587bfdcbf",
   "metadata": {},
   "outputs": [
    {
     "data": {
      "text/plain": [
       "Ridge(alpha=1)"
      ]
     },
     "execution_count": 20,
     "metadata": {},
     "output_type": "execute_result"
    }
   ],
   "source": [
    "from sklearn.linear_model import Ridge\n",
    "\n",
    "model_Ridge = Ridge(alpha=1)\n",
    "model_Ridge.fit(X_train, y_train)"
   ]
  },
  {
   "cell_type": "code",
   "execution_count": 21,
   "id": "c6a06df9-e21a-443a-aca8-d52c19ff70f3",
   "metadata": {},
   "outputs": [
    {
     "name": "stdout",
     "output_type": "stream",
     "text": [
      "0.16552306031479802\n"
     ]
    },
    {
     "data": {
      "text/plain": [
       "gender        2.441455\n",
       "attr3_1       0.216246\n",
       "sinc3_1       1.154184\n",
       "intel3_1      0.370687\n",
       "fun3_1        0.293567\n",
       "amb3_1        0.286159\n",
       "tmp_att      -0.240782\n",
       "tmp_sin      -0.506556\n",
       "tmp_int      -0.159462\n",
       "tmp_fun       0.073413\n",
       "tmp_amb      -0.174166\n",
       "tmp_sha      -0.327049\n",
       "tmp2_attr     2.554429\n",
       "tmp2_sinc     0.776725\n",
       "tmp2_intel   -0.234064\n",
       "tmp2_fun     -0.631163\n",
       "tmp2_amb      0.544836\n",
       "tmp2_shar     3.339819\n",
       "tmp2_like     1.643094\n",
       "dtype: float64"
      ]
     },
     "execution_count": 21,
     "metadata": {},
     "output_type": "execute_result"
    }
   ],
   "source": [
    "# 릿지 선형회귀 모델 평가: model_Ridge1, alpha=1\n",
    "y_pred = model_Ridge.predict(X_test)\n",
    "y_pred[y_pred < 0] = 0.\n",
    "\n",
    "r2 = r2_score(y_test, y_pred)\n",
    "print(r2)\n",
    "# a=1일때 회귀 계수 확인\n",
    "\n",
    "Ridge_coef = pd.Series(model_Ridge.coef_, index=X.columns)\n",
    "Ridge_coef"
   ]
  },
  {
   "cell_type": "markdown",
   "id": "9bc9910c-57eb-406a-a13d-b6b4ebb1a954",
   "metadata": {},
   "source": [
    "- 계수값 시각화"
   ]
  },
  {
   "cell_type": "code",
   "execution_count": 22,
   "id": "ed3753d8-4db5-4eb1-97f9-47e3f1c37d12",
   "metadata": {},
   "outputs": [
    {
     "data": {
      "text/plain": [
       "gender        2.441455\n",
       "attr3_1       0.216246\n",
       "sinc3_1       1.154184\n",
       "intel3_1      0.370687\n",
       "fun3_1        0.293567\n",
       "amb3_1        0.286159\n",
       "tmp_att       0.240782\n",
       "tmp_sin       0.506556\n",
       "tmp_int       0.159462\n",
       "tmp_fun       0.073413\n",
       "tmp_amb       0.174166\n",
       "tmp_sha       0.327049\n",
       "tmp2_attr     2.554429\n",
       "tmp2_sinc     0.776725\n",
       "tmp2_intel    0.234064\n",
       "tmp2_fun      0.631163\n",
       "tmp2_amb      0.544836\n",
       "tmp2_shar     3.339819\n",
       "tmp2_like     1.643094\n",
       "dtype: float64"
      ]
     },
     "execution_count": 22,
     "metadata": {},
     "output_type": "execute_result"
    }
   ],
   "source": [
    "pd.Series(np.abs(Ridge_coef), index=X.columns)"
   ]
  },
  {
   "cell_type": "code",
   "execution_count": 23,
   "id": "e01fbc5e-6ae2-48dc-bf22-f25729a14c59",
   "metadata": {},
   "outputs": [
    {
     "data": {
      "image/png": "[encoded data removed]",
      "text/plain": [
       "<Figure size 1000x300 with 1 Axes>"
      ]
     },
     "metadata": {},
     "output_type": "display_data"
    }
   ],
   "source": [
    "coef = pd.Series(np.abs(Ridge_coef), index=X.columns)\n",
    "coef = coef.sort_values(ascending=False)\n",
    "# 시각화\n",
    "plt.figure(figsize=(10,3))\n",
    "plt.title('<Feature importance of coefficents with Ridge Regulization>', fontsize=15)\n",
    "plt.bar(coef.index, coef.values)\n",
    "plt.xticks(coef.index, rotation=45, fontsize=11);"
   ]
  },
  {
   "cell_type": "code",
   "execution_count": 24,
   "id": "ca5ce5ac-9caf-4165-9348-933b41c262d4",
   "metadata": {
    "scrolled": true
   },
   "outputs": [],
   "source": [
    "# alpha_list=[0.01, 1, 10, 100]인 경우\n",
    "\n",
    "alpha_list = [0.01, 0.1, 1.5, 10]\n",
    "\n",
    "for each in alpha_list:\n",
    "    model_Ridge = Ridge(alpha=each)\n",
    "    model_Ridge.fit(X_train, y_train)\n",
    "    \n",
    "    y_pred = model_Ridge.predict(X_test)\n",
    "    y_pred[y_pred < 0] = 0.\n",
    "    \n",
    "    r2 = r2_score(y_test, y_pred)\n",
    "    col_name = f'Ridge(alpha={each:.2f})'\n",
    "    \n",
    "    comp_df[col_name] = np.append(model_Ridge.coef_, r2)"
   ]
  },
  {
   "cell_type": "code",
   "execution_count": 25,
   "id": "1adee952-3fd0-417c-bdb8-d56a6ef25234",
   "metadata": {},
   "outputs": [
    {
     "data": {
      "text/html": [
       "<div>\n",
       "<style scoped>\n",
       "    .dataframe tbody tr th:only-of-type {\n",
       "        vertical-align: middle;\n",
       "    }\n",
       "\n",
       "    .dataframe tbody tr th {\n",
       "        vertical-align: top;\n",
       "    }\n",
       "\n",
       "    .dataframe thead th {\n",
       "        text-align: right;\n",
       "    }\n",
       "</style>\n",
       "<table border=\"1\" class=\"dataframe\">\n",
       "  <thead>\n",
       "    <tr style=\"text-align: right;\">\n",
       "      <th></th>\n",
       "      <th>LR</th>\n",
       "      <th>Ridge(alpha=0.01)</th>\n",
       "      <th>Ridge(alpha=0.10)</th>\n",
       "      <th>Ridge(alpha=1.50)</th>\n",
       "      <th>Ridge(alpha=10.00)</th>\n",
       "    </tr>\n",
       "  </thead>\n",
       "  <tbody>\n",
       "    <tr>\n",
       "      <th>gender</th>\n",
       "      <td>2.488261</td>\n",
       "      <td>2.487784</td>\n",
       "      <td>2.483503</td>\n",
       "      <td>2.418681</td>\n",
       "      <td>2.085686</td>\n",
       "    </tr>\n",
       "    <tr>\n",
       "      <th>attr3_1</th>\n",
       "      <td>0.215311</td>\n",
       "      <td>0.215320</td>\n",
       "      <td>0.215404</td>\n",
       "      <td>0.216721</td>\n",
       "      <td>0.225306</td>\n",
       "    </tr>\n",
       "    <tr>\n",
       "      <th>sinc3_1</th>\n",
       "      <td>1.153511</td>\n",
       "      <td>1.153518</td>\n",
       "      <td>1.153581</td>\n",
       "      <td>1.154499</td>\n",
       "      <td>1.157888</td>\n",
       "    </tr>\n",
       "    <tr>\n",
       "      <th>intel3_1</th>\n",
       "      <td>0.370772</td>\n",
       "      <td>0.370772</td>\n",
       "      <td>0.370766</td>\n",
       "      <td>0.370629</td>\n",
       "      <td>0.368322</td>\n",
       "    </tr>\n",
       "    <tr>\n",
       "      <th>fun3_1</th>\n",
       "      <td>0.296765</td>\n",
       "      <td>0.296732</td>\n",
       "      <td>0.296439</td>\n",
       "      <td>0.292018</td>\n",
       "      <td>0.270075</td>\n",
       "    </tr>\n",
       "    <tr>\n",
       "      <th>amb3_1</th>\n",
       "      <td>0.285441</td>\n",
       "      <td>0.285448</td>\n",
       "      <td>0.285514</td>\n",
       "      <td>0.286503</td>\n",
       "      <td>0.291042</td>\n",
       "    </tr>\n",
       "    <tr>\n",
       "      <th>tmp_att</th>\n",
       "      <td>-0.242308</td>\n",
       "      <td>-0.242293</td>\n",
       "      <td>-0.242154</td>\n",
       "      <td>-0.240036</td>\n",
       "      <td>-0.228901</td>\n",
       "    </tr>\n",
       "    <tr>\n",
       "      <th>tmp_sin</th>\n",
       "      <td>-0.507375</td>\n",
       "      <td>-0.507366</td>\n",
       "      <td>-0.507292</td>\n",
       "      <td>-0.506155</td>\n",
       "      <td>-0.500133</td>\n",
       "    </tr>\n",
       "    <tr>\n",
       "      <th>tmp_int</th>\n",
       "      <td>-0.160162</td>\n",
       "      <td>-0.160155</td>\n",
       "      <td>-0.160091</td>\n",
       "      <td>-0.159120</td>\n",
       "      <td>-0.153934</td>\n",
       "    </tr>\n",
       "    <tr>\n",
       "      <th>tmp_fun</th>\n",
       "      <td>0.071941</td>\n",
       "      <td>0.071956</td>\n",
       "      <td>0.072091</td>\n",
       "      <td>0.074131</td>\n",
       "      <td>0.084868</td>\n",
       "    </tr>\n",
       "    <tr>\n",
       "      <th>tmp_amb</th>\n",
       "      <td>-0.174774</td>\n",
       "      <td>-0.174768</td>\n",
       "      <td>-0.174713</td>\n",
       "      <td>-0.173865</td>\n",
       "      <td>-0.169090</td>\n",
       "    </tr>\n",
       "    <tr>\n",
       "      <th>tmp_sha</th>\n",
       "      <td>-0.328281</td>\n",
       "      <td>-0.328269</td>\n",
       "      <td>-0.328157</td>\n",
       "      <td>-0.326447</td>\n",
       "      <td>-0.317370</td>\n",
       "    </tr>\n",
       "    <tr>\n",
       "      <th>tmp2_attr</th>\n",
       "      <td>2.563608</td>\n",
       "      <td>2.563515</td>\n",
       "      <td>2.562682</td>\n",
       "      <td>2.549905</td>\n",
       "      <td>2.478867</td>\n",
       "    </tr>\n",
       "    <tr>\n",
       "      <th>tmp2_sinc</th>\n",
       "      <td>0.784270</td>\n",
       "      <td>0.784193</td>\n",
       "      <td>0.783503</td>\n",
       "      <td>0.773053</td>\n",
       "      <td>0.719402</td>\n",
       "    </tr>\n",
       "    <tr>\n",
       "      <th>tmp2_intel</th>\n",
       "      <td>-0.244149</td>\n",
       "      <td>-0.244047</td>\n",
       "      <td>-0.243125</td>\n",
       "      <td>-0.229145</td>\n",
       "      <td>-0.156352</td>\n",
       "    </tr>\n",
       "    <tr>\n",
       "      <th>tmp2_fun</th>\n",
       "      <td>-0.644078</td>\n",
       "      <td>-0.643948</td>\n",
       "      <td>-0.642777</td>\n",
       "      <td>-0.624788</td>\n",
       "      <td>-0.523987</td>\n",
       "    </tr>\n",
       "    <tr>\n",
       "      <th>tmp2_amb</th>\n",
       "      <td>0.542481</td>\n",
       "      <td>0.542505</td>\n",
       "      <td>0.542721</td>\n",
       "      <td>0.545977</td>\n",
       "      <td>0.562277</td>\n",
       "    </tr>\n",
       "    <tr>\n",
       "      <th>tmp2_shar</th>\n",
       "      <td>3.348662</td>\n",
       "      <td>3.348573</td>\n",
       "      <td>3.347774</td>\n",
       "      <td>3.335431</td>\n",
       "      <td>3.263970</td>\n",
       "    </tr>\n",
       "    <tr>\n",
       "      <th>tmp2_like</th>\n",
       "      <td>1.644996</td>\n",
       "      <td>1.644977</td>\n",
       "      <td>1.644803</td>\n",
       "      <td>1.642165</td>\n",
       "      <td>1.628210</td>\n",
       "    </tr>\n",
       "    <tr>\n",
       "      <th>R2_scores</th>\n",
       "      <td>0.165440</td>\n",
       "      <td>0.165441</td>\n",
       "      <td>0.165448</td>\n",
       "      <td>0.165563</td>\n",
       "      <td>0.166134</td>\n",
       "    </tr>\n",
       "  </tbody>\n",
       "</table>\n",
       "</div>"
      ],
      "text/plain": [
       "                  LR  Ridge(alpha=0.01)  Ridge(alpha=0.10)  Ridge(alpha=1.50)  \\\n",
       "gender      2.488261           2.487784           2.483503           2.418681   \n",
       "attr3_1     0.215311           0.215320           0.215404           0.216721   \n",
       "sinc3_1     1.153511           1.153518           1.153581           1.154499   \n",
       "intel3_1    0.370772           0.370772           0.370766           0.370629   \n",
       "fun3_1      0.296765           0.296732           0.296439           0.292018   \n",
       "amb3_1      0.285441           0.285448           0.285514           0.286503   \n",
       "tmp_att    -0.242308          -0.242293          -0.242154          -0.240036   \n",
       "tmp_sin    -0.507375          -0.507366          -0.507292          -0.506155   \n",
       "tmp_int    -0.160162          -0.160155          -0.160091          -0.159120   \n",
       "tmp_fun     0.071941           0.071956           0.072091           0.074131   \n",
       "tmp_amb    -0.174774          -0.174768          -0.174713          -0.173865   \n",
       "tmp_sha    -0.328281          -0.328269          -0.328157          -0.326447   \n",
       "tmp2_attr   2.563608           2.563515           2.562682           2.549905   \n",
       "tmp2_sinc   0.784270           0.784193           0.783503           0.773053   \n",
       "tmp2_intel -0.244149          -0.244047          -0.243125          -0.229145   \n",
       "tmp2_fun   -0.644078          -0.643948          -0.642777          -0.624788   \n",
       "tmp2_amb    0.542481           0.542505           0.542721           0.545977   \n",
       "tmp2_shar   3.348662           3.348573           3.347774           3.335431   \n",
       "tmp2_like   1.644996           1.644977           1.644803           1.642165   \n",
       "R2_scores   0.165440           0.165441           0.165448           0.165563   \n",
       "\n",
       "            Ridge(alpha=10.00)  \n",
       "gender                2.085686  \n",
       "attr3_1               0.225306  \n",
       "sinc3_1               1.157888  \n",
       "intel3_1              0.368322  \n",
       "fun3_1                0.270075  \n",
       "amb3_1                0.291042  \n",
       "tmp_att              -0.228901  \n",
       "tmp_sin              -0.500133  \n",
       "tmp_int              -0.153934  \n",
       "tmp_fun               0.084868  \n",
       "tmp_amb              -0.169090  \n",
       "tmp_sha              -0.317370  \n",
       "tmp2_attr             2.478867  \n",
       "tmp2_sinc             0.719402  \n",
       "tmp2_intel           -0.156352  \n",
       "tmp2_fun             -0.523987  \n",
       "tmp2_amb              0.562277  \n",
       "tmp2_shar             3.263970  \n",
       "tmp2_like             1.628210  \n",
       "R2_scores             0.166134  "
      ]
     },
     "execution_count": 25,
     "metadata": {},
     "output_type": "execute_result"
    }
   ],
   "source": [
    "comp_df"
   ]
  },
  {
   "cell_type": "markdown",
   "id": "29524a03-d5ce-4806-9a49-3d65aa8058eb",
   "metadata": {
    "tags": []
   },
   "source": [
    "### 2. 라쏘 모델"
   ]
  },
  {
   "cell_type": "code",
   "execution_count": 26,
   "id": "ec01a814-baa4-4048-b771-4e63866f49f9",
   "metadata": {},
   "outputs": [
    {
     "data": {
      "text/plain": [
       "Lasso(alpha=1)"
      ]
     },
     "execution_count": 26,
     "metadata": {},
     "output_type": "execute_result"
    }
   ],
   "source": [
    "from sklearn.linear_model import Lasso\n",
    "\n",
    "# alpha=1인 경우(default)\n",
    "model_Lasso = Lasso(alpha=1)\n",
    "model_Lasso.fit(X_train, y_train)"
   ]
  },
  {
   "cell_type": "code",
   "execution_count": 27,
   "id": "1ebf8234-a303-4159-a79c-ba7b02ec4c81",
   "metadata": {
    "tags": []
   },
   "outputs": [
    {
     "name": "stdout",
     "output_type": "stream",
     "text": [
      "0.15677600719595242\n"
     ]
    },
    {
     "data": {
      "text/plain": [
       "gender        0.000000\n",
       "attr3_1       0.049436\n",
       "sinc3_1       0.853173\n",
       "intel3_1      0.000000\n",
       "fun3_1        0.023903\n",
       "amb3_1        0.196940\n",
       "tmp_att      -0.001518\n",
       "tmp_sin      -0.310281\n",
       "tmp_int       0.000000\n",
       "tmp_fun       0.266973\n",
       "tmp_amb      -0.000000\n",
       "tmp_sha      -0.120024\n",
       "tmp2_attr     2.250492\n",
       "tmp2_sinc     0.000000\n",
       "tmp2_intel    0.000000\n",
       "tmp2_fun      0.000000\n",
       "tmp2_amb      0.088884\n",
       "tmp2_shar     3.331056\n",
       "tmp2_like     1.097710\n",
       "dtype: float64"
      ]
     },
     "execution_count": 27,
     "metadata": {},
     "output_type": "execute_result"
    }
   ],
   "source": [
    "# 라쏘 선형회귀 모델 평가(alpha=1)\n",
    "# 선형 모델 평가\n",
    "y_pred = model_Lasso.predict(X_test)\n",
    "r2 = r2_score(y_test, y_pred)\n",
    "print(r2)\n",
    "#a = 1 라쏘 모델 회귀 계수\n",
    "Lasso_coef = pd.Series(model_Lasso.coef_, index=X.columns)\n",
    "Lasso_coef"
   ]
  },
  {
   "cell_type": "markdown",
   "id": "1cf8fdff-d86b-4f9e-b314-3e591d991285",
   "metadata": {},
   "source": [
    "- 계수 시각화"
   ]
  },
  {
   "cell_type": "code",
   "execution_count": 28,
   "id": "c1d28d4d-2fb9-462b-89cd-4a0d7dcabc27",
   "metadata": {
    "tags": []
   },
   "outputs": [
    {
     "data": {
      "image/png": "[encoded data removed]",
      "text/plain": [
       "<Figure size 1000x300 with 1 Axes>"
      ]
     },
     "metadata": {},
     "output_type": "display_data"
    }
   ],
   "source": [
    "coef = np.abs(Lasso_coef)\n",
    "coef = pd.Series(coef, index=train.columns).sort_values(ascending=False)\n",
    "coef\n",
    "# 시각화\n",
    "plt.figure(figsize=(10,3))\n",
    "plt.title('<Feature importance of coefficents with Lasso Regulization>', fontsize=15)\n",
    "plt.bar(coef.index, coef.values)\n",
    "plt.xticks(coef.index, rotation=45, fontsize=11);"
   ]
  },
  {
   "cell_type": "code",
   "execution_count": 29,
   "id": "a7139721-8edc-43f4-a3d3-a4000443122f",
   "metadata": {},
   "outputs": [],
   "source": [
    "# alpha_list=[0.01, 1, 10, 100]인 경우\n",
    "\n",
    "alpha_list = [0.01, 0.1, 1.5, 10]\n",
    "\n",
    "for each in alpha_list:\n",
    "    model_Lasso = Lasso(alpha=each)\n",
    "    model_Lasso.fit(X_train, y_train)\n",
    "    \n",
    "    y_pred = model_Lasso.predict(X_test)\n",
    "    y_pred[y_pred < 0] = 0.\n",
    "    \n",
    "    r2 = r2_score(y_test, y_pred)\n",
    "    col_name = f'Lasso(alpha={each:.2f})'\n",
    "    \n",
    "    comp_df[col_name] = np.append(model_Lasso.coef_, r2)"
   ]
  },
  {
   "cell_type": "code",
   "execution_count": 30,
   "id": "87a0e8f2-d738-45e4-b1e2-5d4f7f45d6b8",
   "metadata": {
    "scrolled": true,
    "tags": []
   },
   "outputs": [
    {
     "data": {
      "text/html": [
       "<div>\n",
       "<style scoped>\n",
       "    .dataframe tbody tr th:only-of-type {\n",
       "        vertical-align: middle;\n",
       "    }\n",
       "\n",
       "    .dataframe tbody tr th {\n",
       "        vertical-align: top;\n",
       "    }\n",
       "\n",
       "    .dataframe thead th {\n",
       "        text-align: right;\n",
       "    }\n",
       "</style>\n",
       "<table border=\"1\" class=\"dataframe\">\n",
       "  <thead>\n",
       "    <tr style=\"text-align: right;\">\n",
       "      <th></th>\n",
       "      <th>LR</th>\n",
       "      <th>Ridge(alpha=0.01)</th>\n",
       "      <th>Ridge(alpha=0.10)</th>\n",
       "      <th>Ridge(alpha=1.50)</th>\n",
       "      <th>Ridge(alpha=10.00)</th>\n",
       "      <th>Lasso(alpha=0.01)</th>\n",
       "      <th>Lasso(alpha=0.10)</th>\n",
       "      <th>Lasso(alpha=1.50)</th>\n",
       "      <th>Lasso(alpha=10.00)</th>\n",
       "    </tr>\n",
       "  </thead>\n",
       "  <tbody>\n",
       "    <tr>\n",
       "      <th>gender</th>\n",
       "      <td>2.488261</td>\n",
       "      <td>2.487784</td>\n",
       "      <td>2.483503</td>\n",
       "      <td>2.418681</td>\n",
       "      <td>2.085686</td>\n",
       "      <td>2.419806</td>\n",
       "      <td>1.841103</td>\n",
       "      <td>0.000000</td>\n",
       "      <td>0.000000</td>\n",
       "    </tr>\n",
       "    <tr>\n",
       "      <th>attr3_1</th>\n",
       "      <td>0.215311</td>\n",
       "      <td>0.215320</td>\n",
       "      <td>0.215404</td>\n",
       "      <td>0.216721</td>\n",
       "      <td>0.225306</td>\n",
       "      <td>0.214496</td>\n",
       "      <td>0.203533</td>\n",
       "      <td>0.000000</td>\n",
       "      <td>0.000000</td>\n",
       "    </tr>\n",
       "    <tr>\n",
       "      <th>sinc3_1</th>\n",
       "      <td>1.153511</td>\n",
       "      <td>1.153518</td>\n",
       "      <td>1.153581</td>\n",
       "      <td>1.154499</td>\n",
       "      <td>1.157888</td>\n",
       "      <td>1.157066</td>\n",
       "      <td>1.162699</td>\n",
       "      <td>0.640173</td>\n",
       "      <td>0.000000</td>\n",
       "    </tr>\n",
       "    <tr>\n",
       "      <th>intel3_1</th>\n",
       "      <td>0.370772</td>\n",
       "      <td>0.370772</td>\n",
       "      <td>0.370766</td>\n",
       "      <td>0.370629</td>\n",
       "      <td>0.368322</td>\n",
       "      <td>0.364460</td>\n",
       "      <td>0.338368</td>\n",
       "      <td>0.000000</td>\n",
       "      <td>0.000000</td>\n",
       "    </tr>\n",
       "    <tr>\n",
       "      <th>fun3_1</th>\n",
       "      <td>0.296765</td>\n",
       "      <td>0.296732</td>\n",
       "      <td>0.296439</td>\n",
       "      <td>0.292018</td>\n",
       "      <td>0.270075</td>\n",
       "      <td>0.291344</td>\n",
       "      <td>0.226675</td>\n",
       "      <td>0.000000</td>\n",
       "      <td>0.000000</td>\n",
       "    </tr>\n",
       "    <tr>\n",
       "      <th>amb3_1</th>\n",
       "      <td>0.285441</td>\n",
       "      <td>0.285448</td>\n",
       "      <td>0.285514</td>\n",
       "      <td>0.286503</td>\n",
       "      <td>0.291042</td>\n",
       "      <td>0.287851</td>\n",
       "      <td>0.289314</td>\n",
       "      <td>0.107345</td>\n",
       "      <td>0.000000</td>\n",
       "    </tr>\n",
       "    <tr>\n",
       "      <th>tmp_att</th>\n",
       "      <td>-0.242308</td>\n",
       "      <td>-0.242293</td>\n",
       "      <td>-0.242154</td>\n",
       "      <td>-0.240036</td>\n",
       "      <td>-0.228901</td>\n",
       "      <td>-0.235799</td>\n",
       "      <td>-0.182503</td>\n",
       "      <td>-0.000000</td>\n",
       "      <td>0.000000</td>\n",
       "    </tr>\n",
       "    <tr>\n",
       "      <th>tmp_sin</th>\n",
       "      <td>-0.507375</td>\n",
       "      <td>-0.507366</td>\n",
       "      <td>-0.507292</td>\n",
       "      <td>-0.506155</td>\n",
       "      <td>-0.500133</td>\n",
       "      <td>-0.501809</td>\n",
       "      <td>-0.456667</td>\n",
       "      <td>-0.301182</td>\n",
       "      <td>-0.280771</td>\n",
       "    </tr>\n",
       "    <tr>\n",
       "      <th>tmp_int</th>\n",
       "      <td>-0.160162</td>\n",
       "      <td>-0.160155</td>\n",
       "      <td>-0.160091</td>\n",
       "      <td>-0.159120</td>\n",
       "      <td>-0.153934</td>\n",
       "      <td>-0.155113</td>\n",
       "      <td>-0.112810</td>\n",
       "      <td>-0.000000</td>\n",
       "      <td>-0.000000</td>\n",
       "    </tr>\n",
       "    <tr>\n",
       "      <th>tmp_fun</th>\n",
       "      <td>0.071941</td>\n",
       "      <td>0.071956</td>\n",
       "      <td>0.072091</td>\n",
       "      <td>0.074131</td>\n",
       "      <td>0.084868</td>\n",
       "      <td>0.078242</td>\n",
       "      <td>0.128587</td>\n",
       "      <td>0.260434</td>\n",
       "      <td>0.165054</td>\n",
       "    </tr>\n",
       "    <tr>\n",
       "      <th>tmp_amb</th>\n",
       "      <td>-0.174774</td>\n",
       "      <td>-0.174768</td>\n",
       "      <td>-0.174713</td>\n",
       "      <td>-0.173865</td>\n",
       "      <td>-0.169090</td>\n",
       "      <td>-0.170028</td>\n",
       "      <td>-0.131900</td>\n",
       "      <td>0.000000</td>\n",
       "      <td>0.000000</td>\n",
       "    </tr>\n",
       "    <tr>\n",
       "      <th>tmp_sha</th>\n",
       "      <td>-0.328281</td>\n",
       "      <td>-0.328269</td>\n",
       "      <td>-0.328157</td>\n",
       "      <td>-0.326447</td>\n",
       "      <td>-0.317370</td>\n",
       "      <td>-0.322119</td>\n",
       "      <td>-0.271963</td>\n",
       "      <td>-0.124200</td>\n",
       "      <td>-0.079952</td>\n",
       "    </tr>\n",
       "    <tr>\n",
       "      <th>tmp2_attr</th>\n",
       "      <td>2.563608</td>\n",
       "      <td>2.563515</td>\n",
       "      <td>2.562682</td>\n",
       "      <td>2.549905</td>\n",
       "      <td>2.478867</td>\n",
       "      <td>2.553551</td>\n",
       "      <td>2.471374</td>\n",
       "      <td>2.199831</td>\n",
       "      <td>0.000000</td>\n",
       "    </tr>\n",
       "    <tr>\n",
       "      <th>tmp2_sinc</th>\n",
       "      <td>0.784270</td>\n",
       "      <td>0.784193</td>\n",
       "      <td>0.783503</td>\n",
       "      <td>0.773053</td>\n",
       "      <td>0.719402</td>\n",
       "      <td>0.745056</td>\n",
       "      <td>0.573656</td>\n",
       "      <td>0.000000</td>\n",
       "      <td>0.000000</td>\n",
       "    </tr>\n",
       "    <tr>\n",
       "      <th>tmp2_intel</th>\n",
       "      <td>-0.244149</td>\n",
       "      <td>-0.244047</td>\n",
       "      <td>-0.243125</td>\n",
       "      <td>-0.229145</td>\n",
       "      <td>-0.156352</td>\n",
       "      <td>-0.176381</td>\n",
       "      <td>0.000000</td>\n",
       "      <td>0.000000</td>\n",
       "      <td>0.000000</td>\n",
       "    </tr>\n",
       "    <tr>\n",
       "      <th>tmp2_fun</th>\n",
       "      <td>-0.644078</td>\n",
       "      <td>-0.643948</td>\n",
       "      <td>-0.642777</td>\n",
       "      <td>-0.624788</td>\n",
       "      <td>-0.523987</td>\n",
       "      <td>-0.606377</td>\n",
       "      <td>-0.285504</td>\n",
       "      <td>0.000000</td>\n",
       "      <td>0.000000</td>\n",
       "    </tr>\n",
       "    <tr>\n",
       "      <th>tmp2_amb</th>\n",
       "      <td>0.542481</td>\n",
       "      <td>0.542505</td>\n",
       "      <td>0.542721</td>\n",
       "      <td>0.545977</td>\n",
       "      <td>0.562277</td>\n",
       "      <td>0.508961</td>\n",
       "      <td>0.399448</td>\n",
       "      <td>0.000000</td>\n",
       "      <td>0.000000</td>\n",
       "    </tr>\n",
       "    <tr>\n",
       "      <th>tmp2_shar</th>\n",
       "      <td>3.348662</td>\n",
       "      <td>3.348573</td>\n",
       "      <td>3.347774</td>\n",
       "      <td>3.335431</td>\n",
       "      <td>3.263970</td>\n",
       "      <td>3.348840</td>\n",
       "      <td>3.323557</td>\n",
       "      <td>3.293792</td>\n",
       "      <td>0.721565</td>\n",
       "    </tr>\n",
       "    <tr>\n",
       "      <th>tmp2_like</th>\n",
       "      <td>1.644996</td>\n",
       "      <td>1.644977</td>\n",
       "      <td>1.644803</td>\n",
       "      <td>1.642165</td>\n",
       "      <td>1.628210</td>\n",
       "      <td>1.619884</td>\n",
       "      <td>1.436771</td>\n",
       "      <td>0.893279</td>\n",
       "      <td>0.000000</td>\n",
       "    </tr>\n",
       "    <tr>\n",
       "      <th>R2_scores</th>\n",
       "      <td>0.165440</td>\n",
       "      <td>0.165441</td>\n",
       "      <td>0.165448</td>\n",
       "      <td>0.165563</td>\n",
       "      <td>0.166134</td>\n",
       "      <td>0.165744</td>\n",
       "      <td>0.167259</td>\n",
       "      <td>0.158944</td>\n",
       "      <td>0.028567</td>\n",
       "    </tr>\n",
       "  </tbody>\n",
       "</table>\n",
       "</div>"
      ],
      "text/plain": [
       "                  LR  Ridge(alpha=0.01)  Ridge(alpha=0.10)  Ridge(alpha=1.50)  \\\n",
       "gender      2.488261           2.487784           2.483503           2.418681   \n",
       "attr3_1     0.215311           0.215320           0.215404           0.216721   \n",
       "sinc3_1     1.153511           1.153518           1.153581           1.154499   \n",
       "intel3_1    0.370772           0.370772           0.370766           0.370629   \n",
       "fun3_1      0.296765           0.296732           0.296439           0.292018   \n",
       "amb3_1      0.285441           0.285448           0.285514           0.286503   \n",
       "tmp_att    -0.242308          -0.242293          -0.242154          -0.240036   \n",
       "tmp_sin    -0.507375          -0.507366          -0.507292          -0.506155   \n",
       "tmp_int    -0.160162          -0.160155          -0.160091          -0.159120   \n",
       "tmp_fun     0.071941           0.071956           0.072091           0.074131   \n",
       "tmp_amb    -0.174774          -0.174768          -0.174713          -0.173865   \n",
       "tmp_sha    -0.328281          -0.328269          -0.328157          -0.326447   \n",
       "tmp2_attr   2.563608           2.563515           2.562682           2.549905   \n",
       "tmp2_sinc   0.784270           0.784193           0.783503           0.773053   \n",
       "tmp2_intel -0.244149          -0.244047          -0.243125          -0.229145   \n",
       "tmp2_fun   -0.644078          -0.643948          -0.642777          -0.624788   \n",
       "tmp2_amb    0.542481           0.542505           0.542721           0.545977   \n",
       "tmp2_shar   3.348662           3.348573           3.347774           3.335431   \n",
       "tmp2_like   1.644996           1.644977           1.644803           1.642165   \n",
       "R2_scores   0.165440           0.165441           0.165448           0.165563   \n",
       "\n",
       "            Ridge(alpha=10.00)  Lasso(alpha=0.01)  Lasso(alpha=0.10)  \\\n",
       "gender                2.085686           2.419806           1.841103   \n",
       "attr3_1               0.225306           0.214496           0.203533   \n",
       "sinc3_1               1.157888           1.157066           1.162699   \n",
       "intel3_1              0.368322           0.364460           0.338368   \n",
       "fun3_1                0.270075           0.291344           0.226675   \n",
       "amb3_1                0.291042           0.287851           0.289314   \n",
       "tmp_att              -0.228901          -0.235799          -0.182503   \n",
       "tmp_sin              -0.500133          -0.501809          -0.456667   \n",
       "tmp_int              -0.153934          -0.155113          -0.112810   \n",
       "tmp_fun               0.084868           0.078242           0.128587   \n",
       "tmp_amb              -0.169090          -0.170028          -0.131900   \n",
       "tmp_sha              -0.317370          -0.322119          -0.271963   \n",
       "tmp2_attr             2.478867           2.553551           2.471374   \n",
       "tmp2_sinc             0.719402           0.745056           0.573656   \n",
       "tmp2_intel           -0.156352          -0.176381           0.000000   \n",
       "tmp2_fun             -0.523987          -0.606377          -0.285504   \n",
       "tmp2_amb              0.562277           0.508961           0.399448   \n",
       "tmp2_shar             3.263970           3.348840           3.323557   \n",
       "tmp2_like             1.628210           1.619884           1.436771   \n",
       "R2_scores             0.166134           0.165744           0.167259   \n",
       "\n",
       "            Lasso(alpha=1.50)  Lasso(alpha=10.00)  \n",
       "gender               0.000000            0.000000  \n",
       "attr3_1              0.000000            0.000000  \n",
       "sinc3_1              0.640173            0.000000  \n",
       "intel3_1             0.000000            0.000000  \n",
       "fun3_1               0.000000            0.000000  \n",
       "amb3_1               0.107345            0.000000  \n",
       "tmp_att             -0.000000            0.000000  \n",
       "tmp_sin             -0.301182           -0.280771  \n",
       "tmp_int             -0.000000           -0.000000  \n",
       "tmp_fun              0.260434            0.165054  \n",
       "tmp_amb              0.000000            0.000000  \n",
       "tmp_sha             -0.124200           -0.079952  \n",
       "tmp2_attr            2.199831            0.000000  \n",
       "tmp2_sinc            0.000000            0.000000  \n",
       "tmp2_intel           0.000000            0.000000  \n",
       "tmp2_fun             0.000000            0.000000  \n",
       "tmp2_amb             0.000000            0.000000  \n",
       "tmp2_shar            3.293792            0.721565  \n",
       "tmp2_like            0.893279            0.000000  \n",
       "R2_scores            0.158944            0.028567  "
      ]
     },
     "execution_count": 30,
     "metadata": {},
     "output_type": "execute_result"
    }
   ],
   "source": [
    "comp_df"
   ]
  },
  {
   "cell_type": "markdown",
   "id": "504a408a-e06a-4304-afd4-30d3d2db1dfd",
   "metadata": {
    "tags": []
   },
   "source": [
    "### 3. 엘라스틱넷 모델"
   ]
  },
  {
   "cell_type": "code",
   "execution_count": 31,
   "id": "891dabdc-9ef5-4c73-a37e-ba6d6a7ecd55",
   "metadata": {},
   "outputs": [
    {
     "data": {
      "text/plain": [
       "ElasticNet(alpha=0.1)"
      ]
     },
     "execution_count": 31,
     "metadata": {},
     "output_type": "execute_result"
    }
   ],
   "source": [
    "from sklearn.linear_model import ElasticNet\n",
    "# 모델 구축 및 학습(alpha=1, l1_ratio=0.5)\n",
    "\n",
    "model_ElasticNet = ElasticNet(alpha=0.1, l1_ratio=0.5)\n",
    "model_ElasticNet.fit(X_train, y_train)"
   ]
  },
  {
   "cell_type": "code",
   "execution_count": 32,
   "id": "6b8229d2-3ceb-45ab-8417-6fdc5da24317",
   "metadata": {},
   "outputs": [
    {
     "name": "stdout",
     "output_type": "stream",
     "text": [
      "0.1671980115330911\n",
      "mse- 474.136\n",
      "rmse- 21.775\n",
      "r2- 0.167\n"
     ]
    }
   ],
   "source": [
    "#모델 평가 및 회귀 계수 확인\n",
    "# 엘라스틱넷 선형회귀 모델 평가(alpha=1, L1_ratio=0.5)\n",
    "# 선형 모델 평가\n",
    "y_pred = model_ElasticNet.predict(X_test)\n",
    "y_pred[y_pred < 0] = 0.\n",
    "\n",
    "r2 = r2_score(y_test, y_pred)\n",
    "print(r2)\n",
    "evaluate_score(y_test, y_pred)\n",
    "#a = 1 엘라스틱넷 모델 회귀 계수\n",
    "ElasticNet_coef = pd.Series(model_ElasticNet.coef_, index=X.columns)"
   ]
  },
  {
   "cell_type": "markdown",
   "id": "13ee7631-ac30-427b-a048-5bbd84513474",
   "metadata": {},
   "source": [
    "- 계수 시각화"
   ]
  },
  {
   "cell_type": "code",
   "execution_count": 33,
   "id": "0252db72-d474-43fa-9e50-b1bac7545586",
   "metadata": {
    "tags": []
   },
   "outputs": [
    {
     "data": {
      "image/png": "[encoded data removed]",
      "text/plain": [
       "<Figure size 1000x300 with 1 Axes>"
      ]
     },
     "metadata": {},
     "output_type": "display_data"
    }
   ],
   "source": [
    "coef = np.abs(ElasticNet_coef)\n",
    "coef = pd.Series(coef, index=train.columns).sort_values(ascending=False)\n",
    "coef\n",
    "# 시각화\n",
    "plt.figure(figsize=(10,3))\n",
    "plt.title('<Feature importance of coefficents with ELasticNet Regulization>', fontsize=15)\n",
    "plt.bar(coef.index, coef.values)\n",
    "plt.xticks(coef.index, rotation=45, fontsize=11);"
   ]
  },
  {
   "cell_type": "code",
   "execution_count": 34,
   "id": "fc21c5ae-e90f-4346-84e2-2fe30dfb7645",
   "metadata": {},
   "outputs": [
    {
     "data": {
      "text/html": [
       "<div>\n",
       "<style scoped>\n",
       "    .dataframe tbody tr th:only-of-type {\n",
       "        vertical-align: middle;\n",
       "    }\n",
       "\n",
       "    .dataframe tbody tr th {\n",
       "        vertical-align: top;\n",
       "    }\n",
       "\n",
       "    .dataframe thead th {\n",
       "        text-align: right;\n",
       "    }\n",
       "</style>\n",
       "<table border=\"1\" class=\"dataframe\">\n",
       "  <thead>\n",
       "    <tr style=\"text-align: right;\">\n",
       "      <th></th>\n",
       "      <th>LR</th>\n",
       "      <th>Ridge(alpha=0.01)</th>\n",
       "      <th>Ridge(alpha=0.10)</th>\n",
       "      <th>Ridge(alpha=1.50)</th>\n",
       "      <th>Ridge(alpha=10.00)</th>\n",
       "      <th>Lasso(alpha=0.01)</th>\n",
       "      <th>Lasso(alpha=0.10)</th>\n",
       "      <th>Lasso(alpha=1.50)</th>\n",
       "      <th>Lasso(alpha=10.00)</th>\n",
       "      <th>ElasticNet(alpha=0.01)</th>\n",
       "      <th>ElasticNet(alpha=0.10)</th>\n",
       "      <th>ElasticNet(alpha=1.50)</th>\n",
       "      <th>ElasticNet(alpha=10.00)</th>\n",
       "    </tr>\n",
       "  </thead>\n",
       "  <tbody>\n",
       "    <tr>\n",
       "      <th>gender</th>\n",
       "      <td>2.488261</td>\n",
       "      <td>2.487784</td>\n",
       "      <td>2.483503</td>\n",
       "      <td>2.418681</td>\n",
       "      <td>2.085686</td>\n",
       "      <td>2.419806</td>\n",
       "      <td>1.841103</td>\n",
       "      <td>0.000000</td>\n",
       "      <td>0.000000</td>\n",
       "      <td>2.378503</td>\n",
       "      <td>1.634247</td>\n",
       "      <td>0.000000</td>\n",
       "      <td>0.000000</td>\n",
       "    </tr>\n",
       "    <tr>\n",
       "      <th>attr3_1</th>\n",
       "      <td>0.215311</td>\n",
       "      <td>0.215320</td>\n",
       "      <td>0.215404</td>\n",
       "      <td>0.216721</td>\n",
       "      <td>0.225306</td>\n",
       "      <td>0.214496</td>\n",
       "      <td>0.203533</td>\n",
       "      <td>0.000000</td>\n",
       "      <td>0.000000</td>\n",
       "      <td>0.216468</td>\n",
       "      <td>0.227146</td>\n",
       "      <td>0.253024</td>\n",
       "      <td>0.000000</td>\n",
       "    </tr>\n",
       "    <tr>\n",
       "      <th>sinc3_1</th>\n",
       "      <td>1.153511</td>\n",
       "      <td>1.153518</td>\n",
       "      <td>1.153581</td>\n",
       "      <td>1.154499</td>\n",
       "      <td>1.157888</td>\n",
       "      <td>1.157066</td>\n",
       "      <td>1.162699</td>\n",
       "      <td>0.640173</td>\n",
       "      <td>0.000000</td>\n",
       "      <td>1.156290</td>\n",
       "      <td>1.160318</td>\n",
       "      <td>0.748322</td>\n",
       "      <td>0.000000</td>\n",
       "    </tr>\n",
       "    <tr>\n",
       "      <th>intel3_1</th>\n",
       "      <td>0.370772</td>\n",
       "      <td>0.370772</td>\n",
       "      <td>0.370766</td>\n",
       "      <td>0.370629</td>\n",
       "      <td>0.368322</td>\n",
       "      <td>0.364460</td>\n",
       "      <td>0.338368</td>\n",
       "      <td>0.000000</td>\n",
       "      <td>0.000000</td>\n",
       "      <td>0.367473</td>\n",
       "      <td>0.346495</td>\n",
       "      <td>0.001837</td>\n",
       "      <td>0.000000</td>\n",
       "    </tr>\n",
       "    <tr>\n",
       "      <th>fun3_1</th>\n",
       "      <td>0.296765</td>\n",
       "      <td>0.296732</td>\n",
       "      <td>0.296439</td>\n",
       "      <td>0.292018</td>\n",
       "      <td>0.270075</td>\n",
       "      <td>0.291344</td>\n",
       "      <td>0.226675</td>\n",
       "      <td>0.000000</td>\n",
       "      <td>0.000000</td>\n",
       "      <td>0.288905</td>\n",
       "      <td>0.230203</td>\n",
       "      <td>0.177525</td>\n",
       "      <td>0.000000</td>\n",
       "    </tr>\n",
       "    <tr>\n",
       "      <th>amb3_1</th>\n",
       "      <td>0.285441</td>\n",
       "      <td>0.285448</td>\n",
       "      <td>0.285514</td>\n",
       "      <td>0.286503</td>\n",
       "      <td>0.291042</td>\n",
       "      <td>0.287851</td>\n",
       "      <td>0.289314</td>\n",
       "      <td>0.107345</td>\n",
       "      <td>0.000000</td>\n",
       "      <td>0.287752</td>\n",
       "      <td>0.293540</td>\n",
       "      <td>0.175811</td>\n",
       "      <td>0.000000</td>\n",
       "    </tr>\n",
       "    <tr>\n",
       "      <th>tmp_att</th>\n",
       "      <td>-0.242308</td>\n",
       "      <td>-0.242293</td>\n",
       "      <td>-0.242154</td>\n",
       "      <td>-0.240036</td>\n",
       "      <td>-0.228901</td>\n",
       "      <td>-0.235799</td>\n",
       "      <td>-0.182503</td>\n",
       "      <td>-0.000000</td>\n",
       "      <td>0.000000</td>\n",
       "      <td>-0.236597</td>\n",
       "      <td>-0.194725</td>\n",
       "      <td>-0.015294</td>\n",
       "      <td>0.000000</td>\n",
       "    </tr>\n",
       "    <tr>\n",
       "      <th>tmp_sin</th>\n",
       "      <td>-0.507375</td>\n",
       "      <td>-0.507366</td>\n",
       "      <td>-0.507292</td>\n",
       "      <td>-0.506155</td>\n",
       "      <td>-0.500133</td>\n",
       "      <td>-0.501809</td>\n",
       "      <td>-0.456667</td>\n",
       "      <td>-0.301182</td>\n",
       "      <td>-0.280771</td>\n",
       "      <td>-0.503283</td>\n",
       "      <td>-0.472825</td>\n",
       "      <td>-0.332295</td>\n",
       "      <td>-0.303973</td>\n",
       "    </tr>\n",
       "    <tr>\n",
       "      <th>tmp_int</th>\n",
       "      <td>-0.160162</td>\n",
       "      <td>-0.160155</td>\n",
       "      <td>-0.160091</td>\n",
       "      <td>-0.159120</td>\n",
       "      <td>-0.153934</td>\n",
       "      <td>-0.155113</td>\n",
       "      <td>-0.112810</td>\n",
       "      <td>-0.000000</td>\n",
       "      <td>-0.000000</td>\n",
       "      <td>-0.156514</td>\n",
       "      <td>-0.128376</td>\n",
       "      <td>-0.000000</td>\n",
       "      <td>-0.000000</td>\n",
       "    </tr>\n",
       "    <tr>\n",
       "      <th>tmp_fun</th>\n",
       "      <td>0.071941</td>\n",
       "      <td>0.071956</td>\n",
       "      <td>0.072091</td>\n",
       "      <td>0.074131</td>\n",
       "      <td>0.084868</td>\n",
       "      <td>0.078242</td>\n",
       "      <td>0.128587</td>\n",
       "      <td>0.260434</td>\n",
       "      <td>0.165054</td>\n",
       "      <td>0.077456</td>\n",
       "      <td>0.117250</td>\n",
       "      <td>0.262365</td>\n",
       "      <td>0.216462</td>\n",
       "    </tr>\n",
       "    <tr>\n",
       "      <th>tmp_amb</th>\n",
       "      <td>-0.174774</td>\n",
       "      <td>-0.174768</td>\n",
       "      <td>-0.174713</td>\n",
       "      <td>-0.173865</td>\n",
       "      <td>-0.169090</td>\n",
       "      <td>-0.170028</td>\n",
       "      <td>-0.131900</td>\n",
       "      <td>0.000000</td>\n",
       "      <td>0.000000</td>\n",
       "      <td>-0.171418</td>\n",
       "      <td>-0.145202</td>\n",
       "      <td>0.000000</td>\n",
       "      <td>0.000000</td>\n",
       "    </tr>\n",
       "    <tr>\n",
       "      <th>tmp_sha</th>\n",
       "      <td>-0.328281</td>\n",
       "      <td>-0.328269</td>\n",
       "      <td>-0.328157</td>\n",
       "      <td>-0.326447</td>\n",
       "      <td>-0.317370</td>\n",
       "      <td>-0.322119</td>\n",
       "      <td>-0.271963</td>\n",
       "      <td>-0.124200</td>\n",
       "      <td>-0.079952</td>\n",
       "      <td>-0.323219</td>\n",
       "      <td>-0.285683</td>\n",
       "      <td>-0.135106</td>\n",
       "      <td>-0.130197</td>\n",
       "    </tr>\n",
       "    <tr>\n",
       "      <th>tmp2_attr</th>\n",
       "      <td>2.563608</td>\n",
       "      <td>2.563515</td>\n",
       "      <td>2.562682</td>\n",
       "      <td>2.549905</td>\n",
       "      <td>2.478867</td>\n",
       "      <td>2.553551</td>\n",
       "      <td>2.471374</td>\n",
       "      <td>2.199831</td>\n",
       "      <td>0.000000</td>\n",
       "      <td>2.543555</td>\n",
       "      <td>2.389457</td>\n",
       "      <td>1.640214</td>\n",
       "      <td>0.493767</td>\n",
       "    </tr>\n",
       "    <tr>\n",
       "      <th>tmp2_sinc</th>\n",
       "      <td>0.784270</td>\n",
       "      <td>0.784193</td>\n",
       "      <td>0.783503</td>\n",
       "      <td>0.773053</td>\n",
       "      <td>0.719402</td>\n",
       "      <td>0.745056</td>\n",
       "      <td>0.573656</td>\n",
       "      <td>0.000000</td>\n",
       "      <td>0.000000</td>\n",
       "      <td>0.752821</td>\n",
       "      <td>0.593220</td>\n",
       "      <td>0.281907</td>\n",
       "      <td>0.000000</td>\n",
       "    </tr>\n",
       "    <tr>\n",
       "      <th>tmp2_intel</th>\n",
       "      <td>-0.244149</td>\n",
       "      <td>-0.244047</td>\n",
       "      <td>-0.243125</td>\n",
       "      <td>-0.229145</td>\n",
       "      <td>-0.156352</td>\n",
       "      <td>-0.176381</td>\n",
       "      <td>0.000000</td>\n",
       "      <td>0.000000</td>\n",
       "      <td>0.000000</td>\n",
       "      <td>-0.194660</td>\n",
       "      <td>0.000000</td>\n",
       "      <td>0.015811</td>\n",
       "      <td>0.000000</td>\n",
       "    </tr>\n",
       "    <tr>\n",
       "      <th>tmp2_fun</th>\n",
       "      <td>-0.644078</td>\n",
       "      <td>-0.643948</td>\n",
       "      <td>-0.642777</td>\n",
       "      <td>-0.624788</td>\n",
       "      <td>-0.523987</td>\n",
       "      <td>-0.606377</td>\n",
       "      <td>-0.285504</td>\n",
       "      <td>0.000000</td>\n",
       "      <td>0.000000</td>\n",
       "      <td>-0.604288</td>\n",
       "      <td>-0.297151</td>\n",
       "      <td>0.359867</td>\n",
       "      <td>0.165972</td>\n",
       "    </tr>\n",
       "    <tr>\n",
       "      <th>tmp2_amb</th>\n",
       "      <td>0.542481</td>\n",
       "      <td>0.542505</td>\n",
       "      <td>0.542721</td>\n",
       "      <td>0.545977</td>\n",
       "      <td>0.562277</td>\n",
       "      <td>0.508961</td>\n",
       "      <td>0.399448</td>\n",
       "      <td>0.000000</td>\n",
       "      <td>0.000000</td>\n",
       "      <td>0.529964</td>\n",
       "      <td>0.501838</td>\n",
       "      <td>0.447593</td>\n",
       "      <td>0.000000</td>\n",
       "    </tr>\n",
       "    <tr>\n",
       "      <th>tmp2_shar</th>\n",
       "      <td>3.348662</td>\n",
       "      <td>3.348573</td>\n",
       "      <td>3.347774</td>\n",
       "      <td>3.335431</td>\n",
       "      <td>3.263970</td>\n",
       "      <td>3.348840</td>\n",
       "      <td>3.323557</td>\n",
       "      <td>3.293792</td>\n",
       "      <td>0.721565</td>\n",
       "      <td>3.334068</td>\n",
       "      <td>3.198498</td>\n",
       "      <td>2.252784</td>\n",
       "      <td>0.735805</td>\n",
       "    </tr>\n",
       "    <tr>\n",
       "      <th>tmp2_like</th>\n",
       "      <td>1.644996</td>\n",
       "      <td>1.644977</td>\n",
       "      <td>1.644803</td>\n",
       "      <td>1.642165</td>\n",
       "      <td>1.628210</td>\n",
       "      <td>1.619884</td>\n",
       "      <td>1.436771</td>\n",
       "      <td>0.893279</td>\n",
       "      <td>0.000000</td>\n",
       "      <td>1.629628</td>\n",
       "      <td>1.532108</td>\n",
       "      <td>1.360528</td>\n",
       "      <td>0.443458</td>\n",
       "    </tr>\n",
       "    <tr>\n",
       "      <th>R2_scores</th>\n",
       "      <td>0.165440</td>\n",
       "      <td>0.165441</td>\n",
       "      <td>0.165448</td>\n",
       "      <td>0.165563</td>\n",
       "      <td>0.166134</td>\n",
       "      <td>0.165744</td>\n",
       "      <td>0.167259</td>\n",
       "      <td>0.158944</td>\n",
       "      <td>0.028567</td>\n",
       "      <td>0.165724</td>\n",
       "      <td>0.167198</td>\n",
       "      <td>0.159822</td>\n",
       "      <td>0.070697</td>\n",
       "    </tr>\n",
       "  </tbody>\n",
       "</table>\n",
       "</div>"
      ],
      "text/plain": [
       "                  LR  Ridge(alpha=0.01)  Ridge(alpha=0.10)  Ridge(alpha=1.50)  \\\n",
       "gender      2.488261           2.487784           2.483503           2.418681   \n",
       "attr3_1     0.215311           0.215320           0.215404           0.216721   \n",
       "sinc3_1     1.153511           1.153518           1.153581           1.154499   \n",
       "intel3_1    0.370772           0.370772           0.370766           0.370629   \n",
       "fun3_1      0.296765           0.296732           0.296439           0.292018   \n",
       "amb3_1      0.285441           0.285448           0.285514           0.286503   \n",
       "tmp_att    -0.242308          -0.242293          -0.242154          -0.240036   \n",
       "tmp_sin    -0.507375          -0.507366          -0.507292          -0.506155   \n",
       "tmp_int    -0.160162          -0.160155          -0.160091          -0.159120   \n",
       "tmp_fun     0.071941           0.071956           0.072091           0.074131   \n",
       "tmp_amb    -0.174774          -0.174768          -0.174713          -0.173865   \n",
       "tmp_sha    -0.328281          -0.328269          -0.328157          -0.326447   \n",
       "tmp2_attr   2.563608           2.563515           2.562682           2.549905   \n",
       "tmp2_sinc   0.784270           0.784193           0.783503           0.773053   \n",
       "tmp2_intel -0.244149          -0.244047          -0.243125          -0.229145   \n",
       "tmp2_fun   -0.644078          -0.643948          -0.642777          -0.624788   \n",
       "tmp2_amb    0.542481           0.542505           0.542721           0.545977   \n",
       "tmp2_shar   3.348662           3.348573           3.347774           3.335431   \n",
       "tmp2_like   1.644996           1.644977           1.644803           1.642165   \n",
       "R2_scores   0.165440           0.165441           0.165448           0.165563   \n",
       "\n",
       "            Ridge(alpha=10.00)  Lasso(alpha=0.01)  Lasso(alpha=0.10)  \\\n",
       "gender                2.085686           2.419806           1.841103   \n",
       "attr3_1               0.225306           0.214496           0.203533   \n",
       "sinc3_1               1.157888           1.157066           1.162699   \n",
       "intel3_1              0.368322           0.364460           0.338368   \n",
       "fun3_1                0.270075           0.291344           0.226675   \n",
       "amb3_1                0.291042           0.287851           0.289314   \n",
       "tmp_att              -0.228901          -0.235799          -0.182503   \n",
       "tmp_sin              -0.500133          -0.501809          -0.456667   \n",
       "tmp_int              -0.153934          -0.155113          -0.112810   \n",
       "tmp_fun               0.084868           0.078242           0.128587   \n",
       "tmp_amb              -0.169090          -0.170028          -0.131900   \n",
       "tmp_sha              -0.317370          -0.322119          -0.271963   \n",
       "tmp2_attr             2.478867           2.553551           2.471374   \n",
       "tmp2_sinc             0.719402           0.745056           0.573656   \n",
       "tmp2_intel           -0.156352          -0.176381           0.000000   \n",
       "tmp2_fun             -0.523987          -0.606377          -0.285504   \n",
       "tmp2_amb              0.562277           0.508961           0.399448   \n",
       "tmp2_shar             3.263970           3.348840           3.323557   \n",
       "tmp2_like             1.628210           1.619884           1.436771   \n",
       "R2_scores             0.166134           0.165744           0.167259   \n",
       "\n",
       "            Lasso(alpha=1.50)  Lasso(alpha=10.00)  ElasticNet(alpha=0.01)  \\\n",
       "gender               0.000000            0.000000                2.378503   \n",
       "attr3_1              0.000000            0.000000                0.216468   \n",
       "sinc3_1              0.640173            0.000000                1.156290   \n",
       "intel3_1             0.000000            0.000000                0.367473   \n",
       "fun3_1               0.000000            0.000000                0.288905   \n",
       "amb3_1               0.107345            0.000000                0.287752   \n",
       "tmp_att             -0.000000            0.000000               -0.236597   \n",
       "tmp_sin             -0.301182           -0.280771               -0.503283   \n",
       "tmp_int             -0.000000           -0.000000               -0.156514   \n",
       "tmp_fun              0.260434            0.165054                0.077456   \n",
       "tmp_amb              0.000000            0.000000               -0.171418   \n",
       "tmp_sha             -0.124200           -0.079952               -0.323219   \n",
       "tmp2_attr            2.199831            0.000000                2.543555   \n",
       "tmp2_sinc            0.000000            0.000000                0.752821   \n",
       "tmp2_intel           0.000000            0.000000               -0.194660   \n",
       "tmp2_fun             0.000000            0.000000               -0.604288   \n",
       "tmp2_amb             0.000000            0.000000                0.529964   \n",
       "tmp2_shar            3.293792            0.721565                3.334068   \n",
       "tmp2_like            0.893279            0.000000                1.629628   \n",
       "R2_scores            0.158944            0.028567                0.165724   \n",
       "\n",
       "            ElasticNet(alpha=0.10)  ElasticNet(alpha=1.50)  \\\n",
       "gender                    1.634247                0.000000   \n",
       "attr3_1                   0.227146                0.253024   \n",
       "sinc3_1                   1.160318                0.748322   \n",
       "intel3_1                  0.346495                0.001837   \n",
       "fun3_1                    0.230203                0.177525   \n",
       "amb3_1                    0.293540                0.175811   \n",
       "tmp_att                  -0.194725               -0.015294   \n",
       "tmp_sin                  -0.472825               -0.332295   \n",
       "tmp_int                  -0.128376               -0.000000   \n",
       "tmp_fun                   0.117250                0.262365   \n",
       "tmp_amb                  -0.145202                0.000000   \n",
       "tmp_sha                  -0.285683               -0.135106   \n",
       "tmp2_attr                 2.389457                1.640214   \n",
       "tmp2_sinc                 0.593220                0.281907   \n",
       "tmp2_intel                0.000000                0.015811   \n",
       "tmp2_fun                 -0.297151                0.359867   \n",
       "tmp2_amb                  0.501838                0.447593   \n",
       "tmp2_shar                 3.198498                2.252784   \n",
       "tmp2_like                 1.532108                1.360528   \n",
       "R2_scores                 0.167198                0.159822   \n",
       "\n",
       "            ElasticNet(alpha=10.00)  \n",
       "gender                     0.000000  \n",
       "attr3_1                    0.000000  \n",
       "sinc3_1                    0.000000  \n",
       "intel3_1                   0.000000  \n",
       "fun3_1                     0.000000  \n",
       "amb3_1                     0.000000  \n",
       "tmp_att                    0.000000  \n",
       "tmp_sin                   -0.303973  \n",
       "tmp_int                   -0.000000  \n",
       "tmp_fun                    0.216462  \n",
       "tmp_amb                    0.000000  \n",
       "tmp_sha                   -0.130197  \n",
       "tmp2_attr                  0.493767  \n",
       "tmp2_sinc                  0.000000  \n",
       "tmp2_intel                 0.000000  \n",
       "tmp2_fun                   0.165972  \n",
       "tmp2_amb                   0.000000  \n",
       "tmp2_shar                  0.735805  \n",
       "tmp2_like                  0.443458  \n",
       "R2_scores                  0.070697  "
      ]
     },
     "execution_count": 34,
     "metadata": {},
     "output_type": "execute_result"
    }
   ],
   "source": [
    "# alpha_list=[0.01, 1, 10, 100]인 경우, l1_ratio=0.5 \n",
    "\n",
    "alpha_list = [0.01, 0.1, 1.5, 10]\n",
    "\n",
    "for each in alpha_list:\n",
    "    model_ElasticNet = ElasticNet(alpha=each)\n",
    "    model_ElasticNet.fit(X_train, y_train)\n",
    "    \n",
    "    y_pred = model_ElasticNet.predict(X_test)\n",
    "    y_pred[y_pred < 0] = 0.\n",
    "    \n",
    "    r2 = r2_score(y_test, y_pred)\n",
    "    col_name = f'ElasticNet(alpha={each:.2f})'\n",
    "    \n",
    "    comp_df[col_name] = np.append(model_ElasticNet.coef_, r2)\n",
    "comp_df"
   ]
  },
  {
   "cell_type": "markdown",
   "id": "c7e53fd6-15ba-4d70-943b-bab972ce1c85",
   "metadata": {
    "tags": []
   },
   "source": [
    "# Scaling, GridSerchCV"
   ]
  },
  {
   "cell_type": "markdown",
   "id": "8332497e-698e-47f9-a695-bb338ff9b4d1",
   "metadata": {
    "jp-MarkdownHeadingCollapsed": true,
    "tags": []
   },
   "source": [
    "####  데이터셋에 대한 설명 및 정보 확인"
   ]
  },
  {
   "cell_type": "code",
   "execution_count": 35,
   "id": "f5711faf-b59b-4ba6-8581-1a9a2420a2f0",
   "metadata": {},
   "outputs": [],
   "source": [
    "# 데이터 csv 불러오기\n",
    "train = pd.read_csv('../data/train3.csv')"
   ]
  },
  {
   "cell_type": "code",
   "execution_count": 36,
   "id": "78077f97-4690-4e06-a90d-cafb2a4a6d1d",
   "metadata": {},
   "outputs": [],
   "source": [
    "# Unnamed: 0 column제거\n",
    "train = train.iloc[:,1:]\n",
    "# 소수점 2자리까지\n",
    "train.match = round(train.match, 2)"
   ]
  },
  {
   "cell_type": "code",
   "execution_count": 37,
   "id": "41923945-0fdc-4b4e-85d3-f375fa6f6a64",
   "metadata": {},
   "outputs": [],
   "source": [
    "train.set_index('iid', inplace=True)"
   ]
  },
  {
   "cell_type": "code",
   "execution_count": 38,
   "id": "406078f4-a9db-41f7-95e0-c2c979f9d50e",
   "metadata": {},
   "outputs": [],
   "source": [
    "# X(독립변수), Y(종속변수) 분할\n",
    "X = train.drop('match', axis=1)\n",
    "y = train['match']\n",
    "# 학습용 데이터와 평가용 데이터로 분할하기\n",
    "X_train, X_test, y_train, y_test = train_test_split(X, y, test_size=0.3, random_state=42)"
   ]
  },
  {
   "cell_type": "markdown",
   "id": "d0b12566-4c17-4fdf-918e-475d266a45af",
   "metadata": {
    "tags": []
   },
   "source": [
    "### 규제가 없는 선형 모델"
   ]
  },
  {
   "cell_type": "code",
   "execution_count": 39,
   "id": "c5be758b-21de-4710-924a-e74cbed8e02c",
   "metadata": {},
   "outputs": [
    {
     "name": "stdout",
     "output_type": "stream",
     "text": [
      "Best Parameters:  {}\n",
      "mse- 475.137\n",
      "rmse- 21.798\n",
      "r2- 0.165\n"
     ]
    }
   ],
   "source": [
    "# 파이프라인 정의\n",
    "pipeline = Pipeline([\n",
    "    ('scaler', StandardScaler()),\n",
    "    ('linear_regression', LinearRegression())\n",
    "])\n",
    "\n",
    "# 탐색할 하이퍼파라미터 값 지정\n",
    "param_grid = {}\n",
    "\n",
    "# 그리드 서치 객체 생성\n",
    "grid_search = GridSearchCV(pipeline, param_grid, cv=5)\n",
    "\n",
    "# 모델 학습\n",
    "grid_search.fit(X_train, y_train)\n",
    "\n",
    "# 최적의 모델 선택\n",
    "best_model = grid_search.best_estimator_\n",
    "\n",
    "# 최적의 하이퍼파라미터 출력\n",
    "print(\"Best Parameters: \", grid_search.best_params_)\n",
    "\n",
    "# 모델 평가\n",
    "y_pred = best_model.predict(X_test)\n",
    "y_pred[y_pred < 0] = 0.\n",
    "\n",
    "evaluate_score(y_test, y_pred)"
   ]
  },
  {
   "cell_type": "code",
   "execution_count": 40,
   "id": "b7d2a938-2a25-4744-9a96-cf396061b37f",
   "metadata": {},
   "outputs": [
    {
     "data": {
      "text/plain": [
       "gender        1.244079\n",
       "attr3_1       0.304411\n",
       "sinc3_1       1.668592\n",
       "intel3_1      0.418015\n",
       "fun3_1        0.457031\n",
       "amb3_1        0.535900\n",
       "tmp_att      -2.862511\n",
       "tmp_sin      -3.797218\n",
       "tmp_int      -1.135329\n",
       "tmp_fun       0.475726\n",
       "tmp_amb      -1.114728\n",
       "tmp_sha      -2.200314\n",
       "tmp2_attr     3.402794\n",
       "tmp2_sinc     0.805681\n",
       "tmp2_intel   -0.234299\n",
       "tmp2_fun     -0.810385\n",
       "tmp2_amb      0.580069\n",
       "tmp2_shar     4.721616\n",
       "tmp2_like     2.035413\n",
       "dtype: float64"
      ]
     },
     "execution_count": 40,
     "metadata": {},
     "output_type": "execute_result"
    }
   ],
   "source": [
    "# 회귀 계수 확인\n",
    "LR_coef = pd.Series(best_model.named_steps['linear_regression'].coef_, index=X.columns)\n",
    "LR_coef"
   ]
  },
  {
   "cell_type": "code",
   "execution_count": 41,
   "id": "67b11a66-036b-4075-9163-3588d3a69a8e",
   "metadata": {
    "tags": []
   },
   "outputs": [
    {
     "data": {
      "image/png": "[encoded data removed]",
      "text/plain": [
       "<Figure size 1000x300 with 1 Axes>"
      ]
     },
     "metadata": {},
     "output_type": "display_data"
    }
   ],
   "source": [
    "coef = np.abs(LR_coef)\n",
    "coef = pd.Series(coef, index=train.columns).sort_values(ascending=False)\n",
    "coef\n",
    "# 시각화\n",
    "plt.figure(figsize=(10,3))\n",
    "plt.title('<Feature importance of coefficents with Linear Regression>', fontsize=15)\n",
    "plt.bar(coef.index, coef.values)\n",
    "plt.xticks(coef.index, rotation=45, fontsize=11);"
   ]
  },
  {
   "cell_type": "markdown",
   "id": "6433993d-edfa-495a-b181-b4c408357d77",
   "metadata": {},
   "source": [
    "### 릿지 모델 scaling, GridSerchCV"
   ]
  },
  {
   "cell_type": "code",
   "execution_count": 42,
   "id": "659a1fb0-f827-4775-93c2-60dc8c94da57",
   "metadata": {},
   "outputs": [
    {
     "name": "stdout",
     "output_type": "stream",
     "text": [
      "Best Parameters:  {'ridge__alpha': 125}\n",
      "mse- 466.695\n",
      "rmse- 21.603\n",
      "r2- 0.180\n"
     ]
    }
   ],
   "source": [
    "# 파이프라인 정의\n",
    "pipeline = Pipeline([\n",
    "    ('scaler', StandardScaler()),\n",
    "    ('ridge', Ridge())\n",
    "])\n",
    "\n",
    "# 탐색할 하이퍼파라미터 값 지정\n",
    "param_grid = {\n",
    "    'ridge__alpha': [0.01, 0.1, 1, 10, 125]\n",
    "}\n",
    "\n",
    "# 그리드 서치 객체 생성\n",
    "grid_search = GridSearchCV(pipeline, param_grid, cv=5)\n",
    "\n",
    "# 모델 학습\n",
    "grid_search.fit(X_train, y_train)\n",
    "\n",
    "# 최적의 모델 선택\n",
    "best_model = grid_search.best_estimator_\n",
    "\n",
    "# 최적의 하이퍼파라미터 출력\n",
    "print(\"Best Parameters: \", grid_search.best_params_)\n",
    "\n",
    "# 릿지 선형회귀 모델 평가\n",
    "y_pred = best_model.predict(X_test)\n",
    "y_pred[y_pred < 0] = 0.\n",
    "\n",
    "evaluate_score(y_test, y_pred)"
   ]
  },
  {
   "cell_type": "code",
   "execution_count": 43,
   "id": "3ad91f92-3ab8-4a5f-9ec7-0017d88c9b8b",
   "metadata": {},
   "outputs": [
    {
     "data": {
      "text/plain": [
       "gender        0.620075\n",
       "attr3_1       0.596216\n",
       "sinc3_1       1.166149\n",
       "intel3_1      0.338193\n",
       "fun3_1        0.547402\n",
       "amb3_1        0.520311\n",
       "tmp_att      -0.062035\n",
       "tmp_sin      -1.654227\n",
       "tmp_int       0.196175\n",
       "tmp_fun       1.499164\n",
       "tmp_amb       0.062913\n",
       "tmp_sha      -0.597948\n",
       "tmp2_attr     2.493181\n",
       "tmp2_sinc     0.594529\n",
       "tmp2_intel    0.169489\n",
       "tmp2_fun      0.503484\n",
       "tmp2_amb      0.685177\n",
       "tmp2_shar     3.119389\n",
       "tmp2_like     1.966726\n",
       "dtype: float64"
      ]
     },
     "execution_count": 43,
     "metadata": {},
     "output_type": "execute_result"
    }
   ],
   "source": [
    "# 릿지모델 회귀 계수\n",
    "ridge_coef = pd.Series(best_model.named_steps['ridge'].coef_, index=X.columns)\n",
    "ridge_coef"
   ]
  },
  {
   "cell_type": "code",
   "execution_count": 44,
   "id": "4c85b9b0-0306-48e0-ba65-763d2f016105",
   "metadata": {
    "tags": []
   },
   "outputs": [
    {
     "data": {
      "image/png": "[encoded data removed]",
      "text/plain": [
       "<Figure size 1000x300 with 1 Axes>"
      ]
     },
     "metadata": {},
     "output_type": "display_data"
    }
   ],
   "source": [
    "coef = np.abs(ridge_coef)\n",
    "coef = pd.Series(coef, index=train.columns).sort_values(ascending=False)\n",
    "coef\n",
    "# 시각화\n",
    "plt.figure(figsize=(10,3))\n",
    "plt.title('<Feature importance of coefficents with Ridge Regulization>', fontsize=15)\n",
    "plt.bar(coef.index, coef.values)\n",
    "plt.xticks(coef.index, rotation=45, fontsize=11);"
   ]
  },
  {
   "cell_type": "markdown",
   "id": "c869740d-673f-4319-bb4c-cdfc686e6c7e",
   "metadata": {
    "jp-MarkdownHeadingCollapsed": true,
    "tags": []
   },
   "source": [
    "#### 예측값"
   ]
  },
  {
   "cell_type": "code",
   "execution_count": 45,
   "id": "b5c2e271-e931-4989-967c-81876d6a3c63",
   "metadata": {},
   "outputs": [
    {
     "data": {
      "text/plain": [
       "array([18.5217421 , 13.73970287, 15.98902636, 32.75827037, 11.98764401,\n",
       "       38.18448306, 20.80517784, 21.80175472, 31.84899718, 27.48232343,\n",
       "        7.01737541, 11.31945531, 27.83957038, 22.29352331, 19.36349938,\n",
       "        8.10558352,  0.        , 25.73073227, 22.65620137, 12.57542273,\n",
       "       16.79952937, 43.8311671 , 27.49932271, 11.0603332 , 19.8053177 ,\n",
       "       20.33119828, 46.9802223 , 14.63188642, 21.39368331, 20.52725653,\n",
       "       13.68310847, 37.52582901, 26.87206014, 23.20333166, 22.60182263,\n",
       "        9.0886002 , 10.6600054 , 27.75825268, 22.38616537,  9.93387405,\n",
       "       31.00235772,  8.45219469,  9.81262263, 26.97753302, 34.53378259,\n",
       "       14.01474238,  3.34318366, 16.54968341, 21.49434758, 26.86969967,\n",
       "       17.11356624, 21.50457913, 14.15658527, 28.15969093,  5.86616401,\n",
       "       20.58180691, 17.71204848, 17.80203125, 22.62961343,  0.93426904,\n",
       "       19.71189578, 20.27642589, 14.14778278, 11.25184111, 23.41658528,\n",
       "       30.19381501, 24.91566645,  9.76394705, 31.56232609, 19.63331406,\n",
       "       14.68398205, 19.49001229, 16.06187047, 13.83609871, 14.60763744,\n",
       "       21.12296582, 22.62610172, 15.71300683, 28.06849144, 10.74577147,\n",
       "       20.0133224 , 18.78704526, 38.85403001, 22.50641389, 14.46365005,\n",
       "       13.66893576, 14.68559462, 21.52583821, 31.27645022, 29.74124368,\n",
       "       19.97010896,  9.43740429, 18.3852223 , 21.70118425,  8.08523177,\n",
       "       31.16759395, 14.84614037, 16.14881258, 32.80509766, 11.78350868,\n",
       "       20.82182425, 13.4127714 , 18.2189755 , 40.21782928, 23.04661268,\n",
       "       11.99801063,  9.62702038, 19.47503326, 12.2563236 , 32.5365791 ,\n",
       "       26.80157378, 23.06280822, 18.10486282, 14.1097741 , 12.70389638,\n",
       "       14.09076751, 17.99810326,  2.59109557, 17.96035677,  6.72948227,\n",
       "       43.76484615, 25.30130674, 25.15586751,  3.48977257, 25.06396752,\n",
       "       15.36558525,  0.        , 23.12531454, 12.83598472,  0.        ,\n",
       "       43.43854343, 15.4650284 , 22.23084539, 35.52947833, 15.31462061,\n",
       "       22.90710883, 21.6115538 , 27.13429198, 27.049145  , 33.60522152,\n",
       "       20.31388554,  4.70438994, 17.08148012])"
      ]
     },
     "execution_count": 45,
     "metadata": {},
     "output_type": "execute_result"
    }
   ],
   "source": [
    "y_pred"
   ]
  },
  {
   "cell_type": "markdown",
   "id": "c705a0b5-2d28-426a-9a18-a5789f9a5a89",
   "metadata": {
    "jp-MarkdownHeadingCollapsed": true,
    "tags": []
   },
   "source": [
    "### 라쏘 모델 scaling, GridSerchCV"
   ]
  },
  {
   "cell_type": "code",
   "execution_count": 46,
   "id": "a988f865-3ee6-4f45-b466-f58f61fe7a6c",
   "metadata": {},
   "outputs": [
    {
     "name": "stdout",
     "output_type": "stream",
     "text": [
      "Best Parameters:  {'lasso__alpha': 1.5}\n",
      "mse- 468.075\n",
      "rmse- 21.635\n",
      "r2- 0.178\n"
     ]
    }
   ],
   "source": [
    "# 데이터 로드\n",
    "X = train.drop('match', axis=1)\n",
    "y = train['match']\n",
    "# 학습용 데이터와 평가용 데이터로 분할하기\n",
    "X_train, X_test, y_train, y_test = train_test_split(X, y, test_size=0.3, random_state=42)\n",
    "\n",
    "# 파이프라인 정의\n",
    "pipeline = Pipeline([\n",
    "    ('scaler', StandardScaler()),\n",
    "    ('lasso', Lasso())\n",
    "])\n",
    "\n",
    "# 탐색할 하이퍼파라미터 값 지정\n",
    "param_grid = {\n",
    "    'lasso__alpha': [0.001, 0.01, 0.1, 1.5, 10, 100]\n",
    "}\n",
    "\n",
    "# 그리드 서치 객체 생성\n",
    "grid_search = GridSearchCV(pipeline, param_grid, cv=5)\n",
    "\n",
    "# 모델 학습\n",
    "grid_search.fit(X_train, y_train)\n",
    "\n",
    "# 최적의 모델 선택\n",
    "best_model = grid_search.best_estimator_\n",
    "\n",
    "# 최적의 하이퍼파라미터 출력\n",
    "print(\"Best Parameters: \", grid_search.best_params_)\n",
    "\n",
    "# 예측\n",
    "y_pred = best_model.predict(X_test)\n",
    "y_pred[y_pred < 0] = 0.\n",
    "# 모델 성능 평가\n",
    "evaluate_score(y_test, y_pred)"
   ]
  },
  {
   "cell_type": "code",
   "execution_count": 47,
   "id": "7c203475-d28b-424a-83fa-e8d3d9652be9",
   "metadata": {
    "tags": []
   },
   "outputs": [
    {
     "data": {
      "text/plain": [
       "gender        0.000000\n",
       "attr3_1       0.000000\n",
       "sinc3_1       0.000000\n",
       "intel3_1      0.000000\n",
       "fun3_1        0.234856\n",
       "amb3_1        0.000000\n",
       "tmp_att       0.000000\n",
       "tmp_sin      -0.899348\n",
       "tmp_int      -0.000000\n",
       "tmp_fun       0.795613\n",
       "tmp_amb      -0.000000\n",
       "tmp_sha      -0.000000\n",
       "tmp2_attr     3.386943\n",
       "tmp2_sinc     0.000000\n",
       "tmp2_intel    0.000000\n",
       "tmp2_fun      0.000000\n",
       "tmp2_amb      0.000000\n",
       "tmp2_shar     4.224028\n",
       "tmp2_like     1.051705\n",
       "dtype: float64"
      ]
     },
     "execution_count": 47,
     "metadata": {},
     "output_type": "execute_result"
    }
   ],
   "source": [
    "#라쏘 모델 회귀 계수\n",
    "Lasso_coef = pd.Series(best_model.named_steps['lasso'].coef_, index=X.columns)\n",
    "Lasso_coef"
   ]
  },
  {
   "cell_type": "markdown",
   "id": "4e46e76c-39c0-44e3-9aac-3f41b1897060",
   "metadata": {},
   "source": [
    "- 계수 시각화"
   ]
  },
  {
   "cell_type": "code",
   "execution_count": 48,
   "id": "ddf1cfac-2b0b-4f77-8cb1-03a48644ed6e",
   "metadata": {
    "tags": []
   },
   "outputs": [
    {
     "data": {
      "image/png": "[encoded data removed]",
      "text/plain": [
       "<Figure size 1000x300 with 1 Axes>"
      ]
     },
     "metadata": {},
     "output_type": "display_data"
    }
   ],
   "source": [
    "coef = np.abs(Lasso_coef)\n",
    "coef = pd.Series(coef, index=train.columns).sort_values(ascending=False)\n",
    "coef\n",
    "# 시각화\n",
    "plt.figure(figsize=(10,3))\n",
    "plt.title('<Feature importance of coefficents with Lasso Regulization>', fontsize=15)\n",
    "plt.bar(coef.index, coef.values)\n",
    "plt.xticks(coef.index, rotation=45, fontsize=11);"
   ]
  },
  {
   "cell_type": "markdown",
   "id": "7226fb28-1895-4b70-b44b-81a3f3a0444a",
   "metadata": {
    "jp-MarkdownHeadingCollapsed": true,
    "tags": []
   },
   "source": [
    "#### 예측값"
   ]
  },
  {
   "cell_type": "code",
   "execution_count": 49,
   "id": "af6148bb-4ab1-4f84-92bb-34db9722443a",
   "metadata": {},
   "outputs": [
    {
     "data": {
      "text/plain": [
       "array([17.04999563, 14.03891218, 14.24741939, 30.1504801 , 15.77274854,\n",
       "       39.00017574, 16.75278605, 21.29042567, 28.31064513, 25.02491484,\n",
       "       11.34113949,  9.8347645 , 30.25440089, 16.67484427, 20.58001568,\n",
       "        7.57578204,  0.        , 23.71532823, 22.37629714, 11.16301542,\n",
       "       19.06440735, 43.65590106, 27.18685864, 13.13230227, 23.13758747,\n",
       "       20.52859556, 42.76988038, 16.05483542, 19.58075787, 19.17550864,\n",
       "        8.15107062, 31.43390614, 27.06927508, 22.75036898, 22.76140682,\n",
       "        7.61151964, 13.37210015, 27.91197065, 21.6502259 ,  8.7505469 ,\n",
       "       26.61821852,  9.21342802, 12.42725198, 25.18506569, 28.97175794,\n",
       "       16.09056335,  4.38283656, 17.68022262, 20.85340736, 28.55813411,\n",
       "       17.4994513 , 23.62192495, 16.17578911, 28.06486746,  6.27627997,\n",
       "       22.01512503, 20.38511652, 19.47544738, 20.22499134,  1.17543796,\n",
       "       21.49717366, 17.05518621, 15.93126598, 15.5192302 , 24.4872206 ,\n",
       "       27.42100168, 21.93580158, 10.77899307, 31.81827259, 19.18261031,\n",
       "       17.61770101, 19.40282356, 16.83055655, 16.62530791, 15.52842114,\n",
       "       21.60204001, 16.76192705, 15.37932662, 24.56526662, 11.70880243,\n",
       "       20.67136938, 19.43905279, 35.41974653, 23.21145922, 13.04751121,\n",
       "       14.0700948 , 13.53009048, 20.19256489, 30.55392248, 25.89672593,\n",
       "       20.03089611,  5.91297573, 17.00754955, 19.4116182 ,  1.63808758,\n",
       "       28.15411865, 11.25493748, 18.45322023, 31.59146727, 10.61869605,\n",
       "       21.61743159, 15.17388508, 19.33877886, 34.2996069 , 20.79959645,\n",
       "       13.45120961,  7.87514604, 19.95949812, 13.25095382, 30.05058072,\n",
       "       28.86777366, 21.49115078, 16.11938532, 16.51465941, 12.18272621,\n",
       "       10.7170873 , 20.31750846,  4.97486065, 15.19950838,  9.85990897,\n",
       "       39.21500217, 23.4424626 , 24.52643483,  5.31435345, 23.71948076,\n",
       "       12.87552999,  0.        , 20.79392579,  9.78914391,  0.        ,\n",
       "       44.25822033, 17.39839815, 20.873058  , 33.75079235, 19.73211644,\n",
       "       23.59521226, 22.60603176, 26.22378079, 19.01194085, 30.82086444,\n",
       "       21.81044582,  7.29577516, 17.55894863])"
      ]
     },
     "execution_count": 49,
     "metadata": {},
     "output_type": "execute_result"
    }
   ],
   "source": [
    "y_pred"
   ]
  },
  {
   "cell_type": "markdown",
   "id": "d3097996-6e2b-4561-91f2-bdae754553e0",
   "metadata": {
    "jp-MarkdownHeadingCollapsed": true,
    "tags": []
   },
   "source": [
    "### SGDRegressor의 엘라스틱넷규제 모델 scaling, GridSerchCV"
   ]
  },
  {
   "cell_type": "code",
   "execution_count": 50,
   "id": "04bab57f-7846-4b11-a359-83cf264856c7",
   "metadata": {},
   "outputs": [
    {
     "name": "stdout",
     "output_type": "stream",
     "text": [
      "Best parameters:  {'sgdregressor__alpha': 1.5, 'sgdregressor__l1_ratio': 0.15, 'sgdregressor__max_iter': 100}\n",
      "mse- 459.271\n",
      "rmse- 21.431\n",
      "r2- 0.193\n"
     ]
    }
   ],
   "source": [
    "# 데이터셋을 훈련용과 테스트용으로 분리\n",
    "X = train.drop('match', axis=1)\n",
    "y = train['match']\n",
    "# 학습용 데이터와 평가용 데이터로 분할하기\n",
    "X_train, X_test, y_train, y_test = train_test_split(X, y, test_size=0.3, random_state=42)\n",
    "\n",
    "# 모델 파이프라인 생성\n",
    "model = make_pipeline(\n",
    "    StandardScaler(),\n",
    "    SGDRegressor(loss='squared_error', penalty='elasticnet', random_state=42)\n",
    ")\n",
    "\n",
    "# GridSearchCV를 사용하여 하이퍼파라미터 튜닝\n",
    "param_grid = {\n",
    "    'sgdregressor__alpha': [0.001, 0.01, 0.1, 1.5, 10, 100],\n",
    "    'sgdregressor__l1_ratio': [0.05, 0.1, 0.15, 0.5, 0.75, 0.9],\n",
    "    'sgdregressor__max_iter': [100],\n",
    "}\n",
    "\n",
    "# 그리드 서치 객체 생성\n",
    "grid = GridSearchCV(model, param_grid, cv=5)\n",
    "\n",
    "# 모델 학습\n",
    "grid.fit(X_train, y_train)\n",
    "\n",
    "# 최적의 하이퍼파라미터 출력\n",
    "print(\"Best parameters: \", grid.best_params_)\n",
    "\n",
    "# 최적의 모델 선택\n",
    "best_model = grid.best_estimator_\n",
    "\n",
    "# 예측\n",
    "y_pred = best_model.predict(X_test)\n",
    "y_pred[y_pred < 0] = 0.\n",
    "\n",
    "# 최적의 모델로 성능 평가\n",
    "evaluate_score(y_test, y_pred)"
   ]
  },
  {
   "cell_type": "code",
   "execution_count": 51,
   "id": "ec06761d-de25-45a1-b86e-dca0ad7c28a8",
   "metadata": {},
   "outputs": [
    {
     "data": {
      "text/plain": [
       "gender        0.162995\n",
       "attr3_1       0.664603\n",
       "sinc3_1       0.562571\n",
       "intel3_1      0.326720\n",
       "fun3_1        0.654347\n",
       "amb3_1        0.384329\n",
       "tmp_att       0.000000\n",
       "tmp_sin      -1.031329\n",
       "tmp_int       0.000000\n",
       "tmp_fun       1.032463\n",
       "tmp_amb       0.000000\n",
       "tmp_sha      -0.402706\n",
       "tmp2_attr     1.914232\n",
       "tmp2_sinc     0.708253\n",
       "tmp2_intel    0.465761\n",
       "tmp2_fun      1.072300\n",
       "tmp2_amb      0.895063\n",
       "tmp2_shar     2.226682\n",
       "tmp2_like     1.805901\n",
       "dtype: float64"
      ]
     },
     "execution_count": 51,
     "metadata": {},
     "output_type": "execute_result"
    }
   ],
   "source": [
    "#모델 회귀 계수\n",
    "ElasticNet_coef = pd.Series(best_model.named_steps['sgdregressor'].coef_, index=X.columns)\n",
    "ElasticNet_coef"
   ]
  },
  {
   "cell_type": "code",
   "execution_count": 52,
   "id": "5b631d65-40f2-499a-8df5-bcb190558fa3",
   "metadata": {},
   "outputs": [
    {
     "data": {
      "image/png": "[encoded data removed]",
      "text/plain": [
       "<Figure size 1000x300 with 1 Axes>"
      ]
     },
     "metadata": {},
     "output_type": "display_data"
    }
   ],
   "source": [
    "coef = np.abs(ElasticNet_coef)\n",
    "coef = pd.Series(coef, index=train.columns).sort_values(ascending=False)\n",
    "coef\n",
    "# 시각화\n",
    "plt.figure(figsize=(10,3))\n",
    "plt.title('<Feature importance of coefficents with ElasticNet Regulization>', fontsize=15)\n",
    "plt.bar(coef.index, coef.values)\n",
    "plt.xticks(coef.index, rotation=45, fontsize=11);"
   ]
  },
  {
   "cell_type": "markdown",
   "id": "11dc98ab-03ed-456c-9d2d-be0083a00879",
   "metadata": {
    "tags": []
   },
   "source": [
    "#### 예측값"
   ]
  },
  {
   "cell_type": "code",
   "execution_count": 53,
   "id": "12806158-c5ab-4723-a94c-955c8c739f3a",
   "metadata": {},
   "outputs": [
    {
     "name": "stdout",
     "output_type": "stream",
     "text": [
      "Predictions:  [18.42849761 14.07748178 15.54964443 30.62834033 12.92037093 40.32695235\n",
      " 20.92423803 21.60564399 30.88836918 25.48080735  8.47289561 11.36383956\n",
      " 28.48841525 22.31775842 20.2214452   7.9734803   0.         24.43709862\n",
      " 21.7239265  12.05133343 17.30309964 43.32613334 26.84192444 12.32074271\n",
      " 18.67819787 19.74618424 46.43743626 13.69398753 20.83129655 20.33565901\n",
      " 14.31415079 35.71919961 26.06643809 23.16134432 21.55515066 11.05750302\n",
      " 12.20611833 27.00256784 22.35029618  9.72020887 28.75188101  9.14780437\n",
      "  9.36262132 26.36615565 32.88666222 15.24714751  5.67452495 18.47261418\n",
      " 21.00911096 27.12601347 17.6356613  20.02804667 14.59214292 27.57745148\n",
      "  6.44984804 20.38609714 17.74399131 18.11469496 22.11266136  2.86521778\n",
      " 20.07757866 19.32072574 15.40285561 13.12698539 21.95536428 29.32943345\n",
      " 23.19362537  9.59376661 30.26758283 19.42836837 15.00247021 18.78973426\n",
      " 16.15526574 14.38556799 12.81885259 23.12162233 22.13314157 14.34704441\n",
      " 28.87576782 11.18462667 20.26203618 18.12993603 39.25453936 20.50454486\n",
      " 15.33253416 14.44072454 15.06514152 21.61532328 30.05385277 28.69792904\n",
      " 19.1581037   9.80409271 19.82878913 22.4634471   8.75711813 29.50398249\n",
      " 14.74797052 16.76267367 30.39990039 10.75989608 21.21087573 14.10484367\n",
      " 19.16710148 39.09036599 23.91112902 13.36096804  9.40843469 20.10592606\n",
      " 13.15371925 32.45105453 25.89978868 23.69136382 17.98944092 15.65933301\n",
      " 12.87381638 14.2181804  17.96110057  5.07552315 19.38140698  8.11052792\n",
      " 41.54369358 25.12658997 24.14048883  2.73082643 24.28527627 16.46602922\n",
      "  0.         23.47693013 13.1570148   0.87184885 43.21984676 16.61257879\n",
      " 21.49155487 34.29341783 16.08837651 22.55381349 21.78733656 27.18494641\n",
      " 24.91788795 33.89357962 22.49714687  4.2849712  17.05288886]\n"
     ]
    }
   ],
   "source": [
    "y_pred = grid.predict(X_test)\n",
    "y_pred[y_pred < 0] = 0.\n",
    "\n",
    "print(\"Predictions: \", y_pred)"
   ]
  }
 ],
 "metadata": {
  "kernelspec": {
   "display_name": "Python 3 (ipykernel)",
   "language": "python",
   "name": "python3"
  },
  "language_info": {
   "codemirror_mode": {
    "name": "ipython",
    "version": 3
   },
   "file_extension": ".py",
   "mimetype": "text/x-python",
   "name": "python",
   "nbconvert_exporter": "python",
   "pygments_lexer": "ipython3",
   "version": "3.9.13"
  }
 },
 "nbformat": 4,
 "nbformat_minor": 5
}
