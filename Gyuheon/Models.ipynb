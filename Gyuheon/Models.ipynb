{
 "cells": [
  {
   "cell_type": "markdown",
   "id": "a497885b-36c0-4811-90d6-43599f98d280",
   "metadata": {
    "tags": []
   },
   "source": [
    "# 규제가 있는 선형회귀 - 릿지, 라쏘, 엘라스틱넷 회귀"
   ]
  },
  {
   "cell_type": "markdown",
   "id": "10c8bc28-f21a-4d75-99a1-adae567d6ec3",
   "metadata": {
    "jp-MarkdownHeadingCollapsed": true,
    "tags": []
   },
   "source": [
    "#### 규제가 있는 모델 구축 - 당뇨병 데이터세트\n",
    "#### 1. 데이터 전처리\n",
    "#### 2. Ridge, Lasso, Elasticnet regression 구축: 회귀 계수 확인, 하이퍼 파라미터 탐색\n",
    "#### 3. 교차 검증으로 최적의 하이퍼파라미터 탐색: LassoCV()"
   ]
  },
  {
   "cell_type": "code",
   "execution_count": 2,
   "id": "37292e3f-9b3a-49f8-96e9-6b57d235d76b",
   "metadata": {},
   "outputs": [],
   "source": [
    "# 관련 라이브러리 및 모듈 Import\n",
    "# import\n",
    "from sklearn.datasets import load_diabetes\n",
    "from sklearn.linear_model import LinearRegression\n",
    "from sklearn.linear_model import Ridge\n",
    "from sklearn.linear_model import Lasso\n",
    "from sklearn.linear_model import ElasticNet\n",
    "\n",
    "from sklearn.linear_model import RidgeCV\n",
    "from sklearn.linear_model import LassoCV\n",
    "\n",
    "from sklearn.model_selection import train_test_split\n",
    "from sklearn.metrics import mean_squared_error, r2_score\n",
    "\n",
    "import pandas as pd\n",
    "import numpy as np\n",
    "\n",
    "from sklearn.linear_model import SGDRegressor\n",
    "\n",
    "import matplotlib.pyplot as plt"
   ]
  },
  {
   "cell_type": "code",
   "execution_count": 3,
   "id": "06b690c8-6bfd-462a-8367-a81d47b73dce",
   "metadata": {},
   "outputs": [],
   "source": [
    "import warnings\n",
    "warnings.filterwarnings(action='ignore')"
   ]
  },
  {
   "cell_type": "markdown",
   "id": "1c8b000f-9979-4216-ab01-d258fa20f513",
   "metadata": {
    "jp-MarkdownHeadingCollapsed": true,
    "tags": []
   },
   "source": [
    "## 데이터 수집, 탐색, 준비"
   ]
  },
  {
   "cell_type": "code",
   "execution_count": 4,
   "id": "53650907-4bd5-403a-a494-011ec425dcbf",
   "metadata": {},
   "outputs": [],
   "source": [
    "def evaluate_score(y_test, y_pred):\n",
    "    mse = mean_squared_error(y_test, y_pred)\n",
    "    rmse = np.sqrt(mse)\n",
    "    r2 = r2_score(y_test, y_pred)\n",
    "    \n",
    "    print(f'mse- {mse:.3f}')\n",
    "    print(f'rmse- {rmse:.3f}')\n",
    "    print(f'r2- {r2:.3f}')\n",
    "    \n",
    "    return"
   ]
  },
  {
   "cell_type": "markdown",
   "id": "ac351c8a-b625-45e9-830e-c5b52686ffd7",
   "metadata": {
    "jp-MarkdownHeadingCollapsed": true,
    "tags": []
   },
   "source": [
    "####  데이터셋에 대한 설명 및 정보 확인"
   ]
  },
  {
   "cell_type": "code",
   "execution_count": 4,
   "id": "5febfa66-424a-4b92-a820-bda1a843ebee",
   "metadata": {},
   "outputs": [],
   "source": [
    "# 데이터 csv 불러오기\n",
    "train = pd.read_csv('../data/train3.csv')"
   ]
  },
  {
   "cell_type": "code",
   "execution_count": 5,
   "id": "9f60a29a-20df-4eaf-b4f4-29c1aa1a631a",
   "metadata": {},
   "outputs": [],
   "source": [
    "# Unnamed: 0 column제거\n",
    "train = train.iloc[:,1:]\n",
    "# 소수점 2자리까지\n",
    "train.match = round(train.match, 2)"
   ]
  },
  {
   "cell_type": "code",
   "execution_count": 6,
   "id": "0f7999c0-5d15-46cd-a906-bf9df18d755b",
   "metadata": {},
   "outputs": [],
   "source": [
    "# X(독립변수), Y(종속변수) 분할\n",
    "X = train.drop('match', axis=1)\n",
    "y = train['match']\n",
    "# 학습용 데이터와 평가용 데이터로 분할하기\n",
    "X_train, X_test, y_train, y_test = train_test_split(X, y, test_size=0.3, random_state=42)"
   ]
  },
  {
   "cell_type": "markdown",
   "id": "ca0c2cc5-fd35-4602-a45c-90abbd83e3ef",
   "metadata": {
    "jp-MarkdownHeadingCollapsed": true,
    "tags": []
   },
   "source": [
    "## 모델별 계수변화, 알파별 계수 비교 데이터프레임(comp_df)"
   ]
  },
  {
   "cell_type": "code",
   "execution_count": 7,
   "id": "45517990-9368-49cf-8502-59da530de56d",
   "metadata": {},
   "outputs": [
    {
     "data": {
      "text/html": [
       "<div>\n",
       "<style scoped>\n",
       "    .dataframe tbody tr th:only-of-type {\n",
       "        vertical-align: middle;\n",
       "    }\n",
       "\n",
       "    .dataframe tbody tr th {\n",
       "        vertical-align: top;\n",
       "    }\n",
       "\n",
       "    .dataframe thead th {\n",
       "        text-align: right;\n",
       "    }\n",
       "</style>\n",
       "<table border=\"1\" class=\"dataframe\">\n",
       "  <thead>\n",
       "    <tr style=\"text-align: right;\">\n",
       "      <th></th>\n",
       "    </tr>\n",
       "  </thead>\n",
       "  <tbody>\n",
       "    <tr>\n",
       "      <th>iid</th>\n",
       "    </tr>\n",
       "    <tr>\n",
       "      <th>gender</th>\n",
       "    </tr>\n",
       "    <tr>\n",
       "      <th>attr3_1</th>\n",
       "    </tr>\n",
       "    <tr>\n",
       "      <th>sinc3_1</th>\n",
       "    </tr>\n",
       "    <tr>\n",
       "      <th>intel3_1</th>\n",
       "    </tr>\n",
       "    <tr>\n",
       "      <th>fun3_1</th>\n",
       "    </tr>\n",
       "    <tr>\n",
       "      <th>amb3_1</th>\n",
       "    </tr>\n",
       "    <tr>\n",
       "      <th>tmp_att</th>\n",
       "    </tr>\n",
       "    <tr>\n",
       "      <th>tmp_sin</th>\n",
       "    </tr>\n",
       "    <tr>\n",
       "      <th>tmp_int</th>\n",
       "    </tr>\n",
       "    <tr>\n",
       "      <th>tmp_fun</th>\n",
       "    </tr>\n",
       "    <tr>\n",
       "      <th>tmp_amb</th>\n",
       "    </tr>\n",
       "    <tr>\n",
       "      <th>tmp_sha</th>\n",
       "    </tr>\n",
       "    <tr>\n",
       "      <th>tmp2_attr</th>\n",
       "    </tr>\n",
       "    <tr>\n",
       "      <th>tmp2_sinc</th>\n",
       "    </tr>\n",
       "    <tr>\n",
       "      <th>tmp2_intel</th>\n",
       "    </tr>\n",
       "    <tr>\n",
       "      <th>tmp2_fun</th>\n",
       "    </tr>\n",
       "    <tr>\n",
       "      <th>tmp2_amb</th>\n",
       "    </tr>\n",
       "    <tr>\n",
       "      <th>tmp2_shar</th>\n",
       "    </tr>\n",
       "    <tr>\n",
       "      <th>tmp2_like</th>\n",
       "    </tr>\n",
       "    <tr>\n",
       "      <th>R2_scores</th>\n",
       "    </tr>\n",
       "  </tbody>\n",
       "</table>\n",
       "</div>"
      ],
      "text/plain": [
       "Empty DataFrame\n",
       "Columns: []\n",
       "Index: [iid, gender, attr3_1, sinc3_1, intel3_1, fun3_1, amb3_1, tmp_att, tmp_sin, tmp_int, tmp_fun, tmp_amb, tmp_sha, tmp2_attr, tmp2_sinc, tmp2_intel, tmp2_fun, tmp2_amb, tmp2_shar, tmp2_like, R2_scores]"
      ]
     },
     "execution_count": 7,
     "metadata": {},
     "output_type": "execute_result"
    }
   ],
   "source": [
    "#각 모델별 계수로 이루어진 데이터프레임 준비\n",
    "comp_df = pd.DataFrame(index=list(X.columns)+['R2_scores'])\n",
    "comp_df"
   ]
  },
  {
   "cell_type": "markdown",
   "id": "373aa66b-dbe9-4391-bc16-c6c5646c5f8f",
   "metadata": {
    "jp-MarkdownHeadingCollapsed": true,
    "tags": []
   },
   "source": [
    "## 각 모델별, 규제강도별 평가지표 저장"
   ]
  },
  {
   "cell_type": "markdown",
   "id": "338f961b-9873-4816-89f9-3c612aa9aa6d",
   "metadata": {
    "jp-MarkdownHeadingCollapsed": true,
    "tags": []
   },
   "source": [
    "####  데이터셋에 대한 설명 및 정보 확인"
   ]
  },
  {
   "cell_type": "code",
   "execution_count": 8,
   "id": "195c09c9-35d4-49ed-ba16-06e9c7b0d00b",
   "metadata": {},
   "outputs": [],
   "source": [
    "# 데이터 csv 불러오기\n",
    "train = pd.read_csv('../data/train3.csv')"
   ]
  },
  {
   "cell_type": "code",
   "execution_count": 9,
   "id": "b6856272-7ba8-4c07-a453-9f06fb8cc35c",
   "metadata": {},
   "outputs": [],
   "source": [
    "# Unnamed: 0 column제거\n",
    "train = train.iloc[:,1:]\n",
    "# 소수점 2자리까지\n",
    "train.match = round(train.match, 2)"
   ]
  },
  {
   "cell_type": "code",
   "execution_count": 10,
   "id": "ffd64a4f-31ed-40fd-98b3-07f8a1d10e52",
   "metadata": {},
   "outputs": [],
   "source": [
    "# X(독립변수), Y(종속변수) 분할\n",
    "X = train.drop('match', axis=1)\n",
    "y = train['match']\n",
    "# 학습용 데이터와 평가용 데이터로 분할하기\n",
    "X_train, X_test, y_train, y_test = train_test_split(X, y, test_size=0.3, random_state=42)"
   ]
  },
  {
   "cell_type": "markdown",
   "id": "42c8fa85-8353-4fe4-8b65-69ed87919378",
   "metadata": {
    "jp-MarkdownHeadingCollapsed": true,
    "tags": []
   },
   "source": [
    "### 1. 규제가 없는 선형모델"
   ]
  },
  {
   "cell_type": "code",
   "execution_count": 11,
   "id": "d423b905-164b-4111-aee7-871f5c59ad1d",
   "metadata": {},
   "outputs": [],
   "source": [
    "train_mean = np.mean(X_train, axis=0)\n",
    "train_std = np.std(X_train, axis=0)\n",
    "\n",
    "X_train_scaled = (X_train - train_mean) / train_std\n",
    "X_test_scaled = (X_test - train_mean) / train_std"
   ]
  },
  {
   "cell_type": "code",
   "execution_count": 12,
   "id": "74a9f193-5138-4a62-b5b9-829c6056e62d",
   "metadata": {},
   "outputs": [
    {
     "name": "stdout",
     "output_type": "stream",
     "text": [
      "r2= 0.151356\n",
      "mse- 483.155\n",
      "rmse- 21.981\n",
      "r2- 0.151\n",
      "iid           1.280159\n",
      "gender        1.237282\n",
      "attr3_1       0.252238\n",
      "sinc3_1       1.578972\n",
      "intel3_1      0.500427\n",
      "fun3_1        0.512621\n",
      "amb3_1        0.387214\n",
      "tmp_att      -2.844377\n",
      "tmp_sin      -3.695316\n",
      "tmp_int      -0.956110\n",
      "tmp_fun       0.613748\n",
      "tmp_amb      -0.851118\n",
      "tmp_sha      -2.216330\n",
      "tmp2_attr     3.392323\n",
      "tmp2_sinc     0.761691\n",
      "tmp2_intel   -0.155377\n",
      "tmp2_fun     -0.973954\n",
      "tmp2_amb      0.563172\n",
      "tmp2_shar     4.876733\n",
      "tmp2_like     2.115962\n",
      "dtype: float64\n"
     ]
    }
   ],
   "source": [
    "#모델 구축 및 학습\n",
    "model_LR = LinearRegression()\n",
    "model_LR = model_LR.fit(X_train_scaled, y_train)\n",
    "\n",
    "#모델 평가\n",
    "y_pred = model_LR.predict(X_test_scaled)\n",
    "y_pred[y_pred < 0] = 0.\n",
    "\n",
    "r2 = r2_score(y_test, y_pred)\n",
    "print(f\"r2= {r2:3f}\")\n",
    "# 회귀 계수 확인\n",
    "evaluate_score(y_test, y_pred)\n",
    "\n",
    "# r2\n",
    "LR_coef = pd.Series(model_LR.coef_, index=X.columns)\n",
    "print(LR_coef)"
   ]
  },
  {
   "cell_type": "code",
   "execution_count": 13,
   "id": "aeddeae8-3d26-4e96-bdd3-c2207b24608c",
   "metadata": {},
   "outputs": [
    {
     "name": "stdout",
     "output_type": "stream",
     "text": [
      "[ 1.09030479  0.89086754  0.51317045  1.53069276  0.41430448  0.46344769\n",
      "  0.49091966 -0.31230483 -2.0604321   0.43522873  1.95857357  0.1834611\n",
      " -0.66876052  2.94355509  0.54137595  0.01908409  0.12051811  0.62760701\n",
      "  3.95360066  2.25486784] [18.10715864]\n",
      "mse- 476.452\n",
      "rmse- 21.828\n",
      "r2- 0.163\n"
     ]
    }
   ],
   "source": [
    "train_mean = np.mean(X_train, axis=0)\n",
    "train_std = np.std(X_train, axis=0)\n",
    "\n",
    "X_train_scaled = (X_train - train_mean) / train_std\n",
    "X_test_scaled = (X_test - train_mean) / train_std\n",
    "\n",
    "# 모델 객체 생성\n",
    "reg = SGDRegressor(max_iter=100000000, eta0=0.0001, learning_rate='invscaling', loss= 'squared_error', random_state=42)\n",
    "\n",
    "reg.fit(X_train_scaled, y_train)\n",
    "\n",
    "# 계수 확인\n",
    "print(reg.coef_, reg.intercept_)\n",
    "\n",
    "# 평가 지표\n",
    "y_pred = reg.predict(X_test_scaled)\n",
    "y_pred[y_pred < 0] = 0.\n",
    "evaluate_score(y_test, y_pred)"
   ]
  },
  {
   "cell_type": "markdown",
   "id": "62987d3b-b599-4320-b52e-0a54da0f2a72",
   "metadata": {},
   "source": [
    "- 계수값 시각화"
   ]
  },
  {
   "cell_type": "code",
   "execution_count": 14,
   "id": "9642d4cf-d917-46b8-a9e1-7df544744489",
   "metadata": {},
   "outputs": [
    {
     "data": {
      "image/png": "[encoded data removed]",
      "text/plain": [
       "<Figure size 1000x300 with 1 Axes>"
      ]
     },
     "metadata": {},
     "output_type": "display_data"
    }
   ],
   "source": [
    "coef = LR_coef.sort_values(ascending=False)\n",
    "coef = np.abs(LR_coef).sort_values(ascending=False)\n",
    "# print('======')\n",
    "# 시각화\n",
    "plt.figure(figsize=(10,3))\n",
    "plt.title('<Feature importance of coefficents without Regulization>', fontsize=15)\n",
    "plt.bar(coef.index, coef.values)\n",
    "plt.xticks(coef.index, rotation=45, fontsize=11);"
   ]
  },
  {
   "cell_type": "code",
   "execution_count": 15,
   "id": "6e0a5abc-07d0-4c3b-963f-9888824ad7e4",
   "metadata": {
    "tags": []
   },
   "outputs": [
    {
     "data": {
      "text/html": [
       "<div>\n",
       "<style scoped>\n",
       "    .dataframe tbody tr th:only-of-type {\n",
       "        vertical-align: middle;\n",
       "    }\n",
       "\n",
       "    .dataframe tbody tr th {\n",
       "        vertical-align: top;\n",
       "    }\n",
       "\n",
       "    .dataframe thead th {\n",
       "        text-align: right;\n",
       "    }\n",
       "</style>\n",
       "<table border=\"1\" class=\"dataframe\">\n",
       "  <thead>\n",
       "    <tr style=\"text-align: right;\">\n",
       "      <th></th>\n",
       "      <th>LR</th>\n",
       "    </tr>\n",
       "  </thead>\n",
       "  <tbody>\n",
       "    <tr>\n",
       "      <th>iid</th>\n",
       "      <td>1.280159</td>\n",
       "    </tr>\n",
       "    <tr>\n",
       "      <th>gender</th>\n",
       "      <td>1.237282</td>\n",
       "    </tr>\n",
       "    <tr>\n",
       "      <th>attr3_1</th>\n",
       "      <td>0.252238</td>\n",
       "    </tr>\n",
       "    <tr>\n",
       "      <th>sinc3_1</th>\n",
       "      <td>1.578972</td>\n",
       "    </tr>\n",
       "    <tr>\n",
       "      <th>intel3_1</th>\n",
       "      <td>0.500427</td>\n",
       "    </tr>\n",
       "    <tr>\n",
       "      <th>fun3_1</th>\n",
       "      <td>0.512621</td>\n",
       "    </tr>\n",
       "    <tr>\n",
       "      <th>amb3_1</th>\n",
       "      <td>0.387214</td>\n",
       "    </tr>\n",
       "    <tr>\n",
       "      <th>tmp_att</th>\n",
       "      <td>-2.844377</td>\n",
       "    </tr>\n",
       "    <tr>\n",
       "      <th>tmp_sin</th>\n",
       "      <td>-3.695316</td>\n",
       "    </tr>\n",
       "    <tr>\n",
       "      <th>tmp_int</th>\n",
       "      <td>-0.956110</td>\n",
       "    </tr>\n",
       "    <tr>\n",
       "      <th>tmp_fun</th>\n",
       "      <td>0.613748</td>\n",
       "    </tr>\n",
       "    <tr>\n",
       "      <th>tmp_amb</th>\n",
       "      <td>-0.851118</td>\n",
       "    </tr>\n",
       "    <tr>\n",
       "      <th>tmp_sha</th>\n",
       "      <td>-2.216330</td>\n",
       "    </tr>\n",
       "    <tr>\n",
       "      <th>tmp2_attr</th>\n",
       "      <td>3.392323</td>\n",
       "    </tr>\n",
       "    <tr>\n",
       "      <th>tmp2_sinc</th>\n",
       "      <td>0.761691</td>\n",
       "    </tr>\n",
       "    <tr>\n",
       "      <th>tmp2_intel</th>\n",
       "      <td>-0.155377</td>\n",
       "    </tr>\n",
       "    <tr>\n",
       "      <th>tmp2_fun</th>\n",
       "      <td>-0.973954</td>\n",
       "    </tr>\n",
       "    <tr>\n",
       "      <th>tmp2_amb</th>\n",
       "      <td>0.563172</td>\n",
       "    </tr>\n",
       "    <tr>\n",
       "      <th>tmp2_shar</th>\n",
       "      <td>4.876733</td>\n",
       "    </tr>\n",
       "    <tr>\n",
       "      <th>tmp2_like</th>\n",
       "      <td>2.115962</td>\n",
       "    </tr>\n",
       "    <tr>\n",
       "      <th>R2_scores</th>\n",
       "      <td>0.151356</td>\n",
       "    </tr>\n",
       "  </tbody>\n",
       "</table>\n",
       "</div>"
      ],
      "text/plain": [
       "                  LR\n",
       "iid         1.280159\n",
       "gender      1.237282\n",
       "attr3_1     0.252238\n",
       "sinc3_1     1.578972\n",
       "intel3_1    0.500427\n",
       "fun3_1      0.512621\n",
       "amb3_1      0.387214\n",
       "tmp_att    -2.844377\n",
       "tmp_sin    -3.695316\n",
       "tmp_int    -0.956110\n",
       "tmp_fun     0.613748\n",
       "tmp_amb    -0.851118\n",
       "tmp_sha    -2.216330\n",
       "tmp2_attr   3.392323\n",
       "tmp2_sinc   0.761691\n",
       "tmp2_intel -0.155377\n",
       "tmp2_fun   -0.973954\n",
       "tmp2_amb    0.563172\n",
       "tmp2_shar   4.876733\n",
       "tmp2_like   2.115962\n",
       "R2_scores   0.151356"
      ]
     },
     "execution_count": 15,
     "metadata": {},
     "output_type": "execute_result"
    }
   ],
   "source": [
    "# 모델별 비교 데이터프레임 열 추가\n",
    "comp_df[\"LR\"] = np.append(model_LR.coef_, r2)\n",
    "comp_df"
   ]
  },
  {
   "cell_type": "markdown",
   "id": "708fe92b-f953-4377-81df-6fca0155d017",
   "metadata": {
    "tags": []
   },
   "source": [
    "####  데이터셋에 대한 설명 및 정보 확인"
   ]
  },
  {
   "cell_type": "code",
   "execution_count": 16,
   "id": "d3e38ae9-171f-45ac-945b-e8bc2f7afef4",
   "metadata": {},
   "outputs": [],
   "source": [
    "# 데이터 csv 불러오기\n",
    "train = pd.read_csv('../data/train3.csv')"
   ]
  },
  {
   "cell_type": "code",
   "execution_count": 17,
   "id": "15b9f35a-187d-4171-be51-7f41a2f58f14",
   "metadata": {},
   "outputs": [],
   "source": [
    "# Unnamed: 0 column제거\n",
    "train = train.iloc[:,1:]\n",
    "# 소수점 2자리까지\n",
    "train.match = round(train.match, 2)"
   ]
  },
  {
   "cell_type": "code",
   "execution_count": 18,
   "id": "f1ec4c6a-22bc-44e7-b7b1-1c72bfb8c920",
   "metadata": {},
   "outputs": [],
   "source": [
    "# X(독립변수), Y(종속변수) 분할\n",
    "X = train.drop('match', axis=1)\n",
    "y = train['match']\n",
    "# 학습용 데이터와 평가용 데이터로 분할하기\n",
    "X_train, X_test, y_train, y_test = train_test_split(X, y, test_size=0.3, random_state=42)"
   ]
  },
  {
   "cell_type": "markdown",
   "id": "bfb64f6c-3f9c-4a54-beb5-9661e241fc00",
   "metadata": {
    "jp-MarkdownHeadingCollapsed": true,
    "tags": []
   },
   "source": [
    "### 1. 릿지 모델"
   ]
  },
  {
   "cell_type": "code",
   "execution_count": 19,
   "id": "25d611da-9e9d-41db-9df7-6f6587bfdcbf",
   "metadata": {},
   "outputs": [
    {
     "data": {
      "text/html": [
       "<style>#sk-container-id-1 {color: black;background-color: white;}#sk-container-id-1 pre{padding: 0;}#sk-container-id-1 div.sk-toggleable {background-color: white;}#sk-container-id-1 label.sk-toggleable__label {cursor: pointer;display: block;width: 100%;margin-bottom: 0;padding: 0.3em;box-sizing: border-box;text-align: center;}#sk-container-id-1 label.sk-toggleable__label-arrow:before {content: \"▸\";float: left;margin-right: 0.25em;color: #696969;}#sk-container-id-1 label.sk-toggleable__label-arrow:hover:before {color: black;}#sk-container-id-1 div.sk-estimator:hover label.sk-toggleable__label-arrow:before {color: black;}#sk-container-id-1 div.sk-toggleable__content {max-height: 0;max-width: 0;overflow: hidden;text-align: left;background-color: #f0f8ff;}#sk-container-id-1 div.sk-toggleable__content pre {margin: 0.2em;color: black;border-radius: 0.25em;background-color: #f0f8ff;}#sk-container-id-1 input.sk-toggleable__control:checked~div.sk-toggleable__content {max-height: 200px;max-width: 100%;overflow: auto;}#sk-container-id-1 input.sk-toggleable__control:checked~label.sk-toggleable__label-arrow:before {content: \"▾\";}#sk-container-id-1 div.sk-estimator input.sk-toggleable__control:checked~label.sk-toggleable__label {background-color: #d4ebff;}#sk-container-id-1 div.sk-label input.sk-toggleable__control:checked~label.sk-toggleable__label {background-color: #d4ebff;}#sk-container-id-1 input.sk-hidden--visually {border: 0;clip: rect(1px 1px 1px 1px);clip: rect(1px, 1px, 1px, 1px);height: 1px;margin: -1px;overflow: hidden;padding: 0;position: absolute;width: 1px;}#sk-container-id-1 div.sk-estimator {font-family: monospace;background-color: #f0f8ff;border: 1px dotted black;border-radius: 0.25em;box-sizing: border-box;margin-bottom: 0.5em;}#sk-container-id-1 div.sk-estimator:hover {background-color: #d4ebff;}#sk-container-id-1 div.sk-parallel-item::after {content: \"\";width: 100%;border-bottom: 1px solid gray;flex-grow: 1;}#sk-container-id-1 div.sk-label:hover label.sk-toggleable__label {background-color: #d4ebff;}#sk-container-id-1 div.sk-serial::before {content: \"\";position: absolute;border-left: 1px solid gray;box-sizing: border-box;top: 0;bottom: 0;left: 50%;z-index: 0;}#sk-container-id-1 div.sk-serial {display: flex;flex-direction: column;align-items: center;background-color: white;padding-right: 0.2em;padding-left: 0.2em;position: relative;}#sk-container-id-1 div.sk-item {position: relative;z-index: 1;}#sk-container-id-1 div.sk-parallel {display: flex;align-items: stretch;justify-content: center;background-color: white;position: relative;}#sk-container-id-1 div.sk-item::before, #sk-container-id-1 div.sk-parallel-item::before {content: \"\";position: absolute;border-left: 1px solid gray;box-sizing: border-box;top: 0;bottom: 0;left: 50%;z-index: -1;}#sk-container-id-1 div.sk-parallel-item {display: flex;flex-direction: column;z-index: 1;position: relative;background-color: white;}#sk-container-id-1 div.sk-parallel-item:first-child::after {align-self: flex-end;width: 50%;}#sk-container-id-1 div.sk-parallel-item:last-child::after {align-self: flex-start;width: 50%;}#sk-container-id-1 div.sk-parallel-item:only-child::after {width: 0;}#sk-container-id-1 div.sk-dashed-wrapped {border: 1px dashed gray;margin: 0 0.4em 0.5em 0.4em;box-sizing: border-box;padding-bottom: 0.4em;background-color: white;}#sk-container-id-1 div.sk-label label {font-family: monospace;font-weight: bold;display: inline-block;line-height: 1.2em;}#sk-container-id-1 div.sk-label-container {text-align: center;}#sk-container-id-1 div.sk-container {/* jupyter's `normalize.less` sets `[hidden] { display: none; }` but bootstrap.min.css set `[hidden] { display: none !important; }` so we also need the `!important` here to be able to override the default hidden behavior on the sphinx rendered scikit-learn.org. See: https://github.com/scikit-learn/scikit-learn/issues/21755 */display: inline-block !important;position: relative;}#sk-container-id-1 div.sk-text-repr-fallback {display: none;}</style><div id=\"sk-container-id-1\" class=\"sk-top-container\"><div class=\"sk-text-repr-fallback\"><pre>Ridge(alpha=1)</pre><b>In a Jupyter environment, please rerun this cell to show the HTML representation or trust the notebook. <br />On GitHub, the HTML representation is unable to render, please try loading this page with nbviewer.org.</b></div><div class=\"sk-container\" hidden><div class=\"sk-item\"><div class=\"sk-estimator sk-toggleable\"><input class=\"sk-toggleable__control sk-hidden--visually\" id=\"sk-estimator-id-1\" type=\"checkbox\" checked><label for=\"sk-estimator-id-1\" class=\"sk-toggleable__label sk-toggleable__label-arrow\">Ridge</label><div class=\"sk-toggleable__content\"><pre>Ridge(alpha=1)</pre></div></div></div></div></div>"
      ],
      "text/plain": [
       "Ridge(alpha=1)"
      ]
     },
     "execution_count": 19,
     "metadata": {},
     "output_type": "execute_result"
    }
   ],
   "source": [
    "from sklearn.linear_model import Ridge\n",
    "\n",
    "model_Ridge = Ridge(alpha=1)\n",
    "model_Ridge.fit(X_train, y_train)"
   ]
  },
  {
   "cell_type": "code",
   "execution_count": 20,
   "id": "c6a06df9-e21a-443a-aca8-d52c19ff70f3",
   "metadata": {},
   "outputs": [
    {
     "name": "stdout",
     "output_type": "stream",
     "text": [
      "0.15144369148335468\n"
     ]
    },
    {
     "data": {
      "text/plain": [
       "iid           0.008453\n",
       "gender        2.428098\n",
       "attr3_1       0.179584\n",
       "sinc3_1       1.092450\n",
       "intel3_1      0.443488\n",
       "fun3_1        0.329410\n",
       "amb3_1        0.207067\n",
       "tmp_att      -0.239298\n",
       "tmp_sin      -0.493005\n",
       "tmp_int      -0.134245\n",
       "tmp_fun       0.094226\n",
       "tmp_amb      -0.132918\n",
       "tmp_sha      -0.329465\n",
       "tmp2_attr     2.546567\n",
       "tmp2_sinc     0.734506\n",
       "tmp2_intel   -0.152827\n",
       "tmp2_fun     -0.760198\n",
       "tmp2_amb      0.529438\n",
       "tmp2_shar     3.449310\n",
       "tmp2_like     1.707656\n",
       "dtype: float64"
      ]
     },
     "execution_count": 20,
     "metadata": {},
     "output_type": "execute_result"
    }
   ],
   "source": [
    "# 릿지 선형회귀 모델 평가: model_Ridge1, alpha=1\n",
    "y_pred = model_Ridge.predict(X_test)\n",
    "y_pred[y_pred < 0] = 0.\n",
    "\n",
    "r2 = r2_score(y_test, y_pred)\n",
    "print(r2)\n",
    "# a=1일때 회귀 계수 확인\n",
    "\n",
    "Ridge_coef = pd.Series(model_Ridge.coef_, index=X.columns)\n",
    "Ridge_coef"
   ]
  },
  {
   "cell_type": "markdown",
   "id": "9bc9910c-57eb-406a-a13d-b6b4ebb1a954",
   "metadata": {},
   "source": [
    "- 계수값 시각화"
   ]
  },
  {
   "cell_type": "code",
   "execution_count": 21,
   "id": "ed3753d8-4db5-4eb1-97f9-47e3f1c37d12",
   "metadata": {},
   "outputs": [
    {
     "data": {
      "text/plain": [
       "iid           0.008453\n",
       "gender        2.428098\n",
       "attr3_1       0.179584\n",
       "sinc3_1       1.092450\n",
       "intel3_1      0.443488\n",
       "fun3_1        0.329410\n",
       "amb3_1        0.207067\n",
       "tmp_att       0.239298\n",
       "tmp_sin       0.493005\n",
       "tmp_int       0.134245\n",
       "tmp_fun       0.094226\n",
       "tmp_amb       0.132918\n",
       "tmp_sha       0.329465\n",
       "tmp2_attr     2.546567\n",
       "tmp2_sinc     0.734506\n",
       "tmp2_intel    0.152827\n",
       "tmp2_fun      0.760198\n",
       "tmp2_amb      0.529438\n",
       "tmp2_shar     3.449310\n",
       "tmp2_like     1.707656\n",
       "dtype: float64"
      ]
     },
     "execution_count": 21,
     "metadata": {},
     "output_type": "execute_result"
    }
   ],
   "source": [
    "pd.Series(np.abs(Ridge_coef), index=X.columns)"
   ]
  },
  {
   "cell_type": "code",
   "execution_count": 22,
   "id": "e01fbc5e-6ae2-48dc-bf22-f25729a14c59",
   "metadata": {},
   "outputs": [
    {
     "data": {
      "image/png": "[encoded data removed]",
      "text/plain": [
       "<Figure size 1000x300 with 1 Axes>"
      ]
     },
     "metadata": {},
     "output_type": "display_data"
    }
   ],
   "source": [
    "coef = pd.Series(np.abs(Ridge_coef), index=X.columns)\n",
    "coef = coef.sort_values(ascending=False)\n",
    "# 시각화\n",
    "plt.figure(figsize=(10,3))\n",
    "plt.title('<Feature importance of coefficents with Ridge Regulization>', fontsize=15)\n",
    "plt.bar(coef.index, coef.values)\n",
    "plt.xticks(coef.index, rotation=45, fontsize=11);"
   ]
  },
  {
   "cell_type": "code",
   "execution_count": 23,
   "id": "ca5ce5ac-9caf-4165-9348-933b41c262d4",
   "metadata": {
    "scrolled": true
   },
   "outputs": [],
   "source": [
    "# alpha_list=[0.01, 1, 10, 100]인 경우\n",
    "\n",
    "alpha_list = [0.01, 1, 10, 100]\n",
    "\n",
    "for each in alpha_list:\n",
    "    model_Ridge = Ridge(alpha=each)\n",
    "    model_Ridge.fit(X_train, y_train)\n",
    "    \n",
    "    y_pred = model_Ridge.predict(X_test)\n",
    "    y_pred[y_pred < 0] = 0.\n",
    "    \n",
    "    r2 = r2_score(y_test, y_pred)\n",
    "    col_name = f'Ridge(alpha={each:.2f})'\n",
    "    \n",
    "    comp_df[col_name] = np.append(model_Ridge.coef_, r2)"
   ]
  },
  {
   "cell_type": "code",
   "execution_count": 24,
   "id": "1adee952-3fd0-417c-bdb8-d56a6ef25234",
   "metadata": {},
   "outputs": [
    {
     "data": {
      "text/html": [
       "<div>\n",
       "<style scoped>\n",
       "    .dataframe tbody tr th:only-of-type {\n",
       "        vertical-align: middle;\n",
       "    }\n",
       "\n",
       "    .dataframe tbody tr th {\n",
       "        vertical-align: top;\n",
       "    }\n",
       "\n",
       "    .dataframe thead th {\n",
       "        text-align: right;\n",
       "    }\n",
       "</style>\n",
       "<table border=\"1\" class=\"dataframe\">\n",
       "  <thead>\n",
       "    <tr style=\"text-align: right;\">\n",
       "      <th></th>\n",
       "      <th>LR</th>\n",
       "      <th>Ridge(alpha=0.01)</th>\n",
       "      <th>Ridge(alpha=1.00)</th>\n",
       "      <th>Ridge(alpha=10.00)</th>\n",
       "      <th>Ridge(alpha=100.00)</th>\n",
       "    </tr>\n",
       "  </thead>\n",
       "  <tbody>\n",
       "    <tr>\n",
       "      <th>iid</th>\n",
       "      <td>1.280159</td>\n",
       "      <td>0.008460</td>\n",
       "      <td>0.008453</td>\n",
       "      <td>0.008391</td>\n",
       "      <td>0.007952</td>\n",
       "    </tr>\n",
       "    <tr>\n",
       "      <th>gender</th>\n",
       "      <td>1.237282</td>\n",
       "      <td>2.474192</td>\n",
       "      <td>2.428098</td>\n",
       "      <td>2.074145</td>\n",
       "      <td>0.811326</td>\n",
       "    </tr>\n",
       "    <tr>\n",
       "      <th>attr3_1</th>\n",
       "      <td>0.252238</td>\n",
       "      <td>0.178421</td>\n",
       "      <td>0.179584</td>\n",
       "      <td>0.190681</td>\n",
       "      <td>0.283197</td>\n",
       "    </tr>\n",
       "    <tr>\n",
       "      <th>sinc3_1</th>\n",
       "      <td>1.578972</td>\n",
       "      <td>1.091565</td>\n",
       "      <td>1.092450</td>\n",
       "      <td>1.098078</td>\n",
       "      <td>1.059285</td>\n",
       "    </tr>\n",
       "    <tr>\n",
       "      <th>intel3_1</th>\n",
       "      <td>0.500427</td>\n",
       "      <td>0.443866</td>\n",
       "      <td>0.443488</td>\n",
       "      <td>0.438512</td>\n",
       "      <td>0.364319</td>\n",
       "    </tr>\n",
       "    <tr>\n",
       "      <th>fun3_1</th>\n",
       "      <td>0.512621</td>\n",
       "      <td>0.332826</td>\n",
       "      <td>0.329410</td>\n",
       "      <td>0.303775</td>\n",
       "      <td>0.240203</td>\n",
       "    </tr>\n",
       "    <tr>\n",
       "      <th>amb3_1</th>\n",
       "      <td>0.387214</td>\n",
       "      <td>0.206253</td>\n",
       "      <td>0.207067</td>\n",
       "      <td>0.212928</td>\n",
       "      <td>0.221180</td>\n",
       "    </tr>\n",
       "    <tr>\n",
       "      <th>tmp_att</th>\n",
       "      <td>-2.844377</td>\n",
       "      <td>-0.240758</td>\n",
       "      <td>-0.239298</td>\n",
       "      <td>-0.227847</td>\n",
       "      <td>-0.177541</td>\n",
       "    </tr>\n",
       "    <tr>\n",
       "      <th>tmp_sin</th>\n",
       "      <td>-3.695316</td>\n",
       "      <td>-0.493751</td>\n",
       "      <td>-0.493005</td>\n",
       "      <td>-0.487134</td>\n",
       "      <td>-0.459123</td>\n",
       "    </tr>\n",
       "    <tr>\n",
       "      <th>tmp_int</th>\n",
       "      <td>-0.956110</td>\n",
       "      <td>-0.134873</td>\n",
       "      <td>-0.134245</td>\n",
       "      <td>-0.129274</td>\n",
       "      <td>-0.105437</td>\n",
       "    </tr>\n",
       "    <tr>\n",
       "      <th>tmp_fun</th>\n",
       "      <td>0.613748</td>\n",
       "      <td>0.092828</td>\n",
       "      <td>0.094226</td>\n",
       "      <td>0.105188</td>\n",
       "      <td>0.152389</td>\n",
       "    </tr>\n",
       "    <tr>\n",
       "      <th>tmp_amb</th>\n",
       "      <td>-0.851118</td>\n",
       "      <td>-0.133438</td>\n",
       "      <td>-0.132918</td>\n",
       "      <td>-0.128557</td>\n",
       "      <td>-0.099529</td>\n",
       "    </tr>\n",
       "    <tr>\n",
       "      <th>tmp_sha</th>\n",
       "      <td>-2.216330</td>\n",
       "      <td>-0.330659</td>\n",
       "      <td>-0.329465</td>\n",
       "      <td>-0.319999</td>\n",
       "      <td>-0.276799</td>\n",
       "    </tr>\n",
       "    <tr>\n",
       "      <th>tmp2_attr</th>\n",
       "      <td>3.392323</td>\n",
       "      <td>2.555626</td>\n",
       "      <td>2.546567</td>\n",
       "      <td>2.471201</td>\n",
       "      <td>2.039222</td>\n",
       "    </tr>\n",
       "    <tr>\n",
       "      <th>tmp2_sinc</th>\n",
       "      <td>0.761691</td>\n",
       "      <td>0.741379</td>\n",
       "      <td>0.734506</td>\n",
       "      <td>0.681951</td>\n",
       "      <td>0.513535</td>\n",
       "    </tr>\n",
       "    <tr>\n",
       "      <th>tmp2_intel</th>\n",
       "      <td>-0.155377</td>\n",
       "      <td>-0.161817</td>\n",
       "      <td>-0.152827</td>\n",
       "      <td>-0.083034</td>\n",
       "      <td>0.183374</td>\n",
       "    </tr>\n",
       "    <tr>\n",
       "      <th>tmp2_fun</th>\n",
       "      <td>-0.973954</td>\n",
       "      <td>-0.773939</td>\n",
       "      <td>-0.760198</td>\n",
       "      <td>-0.644842</td>\n",
       "      <td>0.010607</td>\n",
       "    </tr>\n",
       "    <tr>\n",
       "      <th>tmp2_amb</th>\n",
       "      <td>0.563172</td>\n",
       "      <td>0.526707</td>\n",
       "      <td>0.529438</td>\n",
       "      <td>0.550029</td>\n",
       "      <td>0.610190</td>\n",
       "    </tr>\n",
       "    <tr>\n",
       "      <th>tmp2_shar</th>\n",
       "      <td>4.876733</td>\n",
       "      <td>3.458580</td>\n",
       "      <td>3.449310</td>\n",
       "      <td>3.369014</td>\n",
       "      <td>2.813598</td>\n",
       "    </tr>\n",
       "    <tr>\n",
       "      <th>tmp2_like</th>\n",
       "      <td>2.115962</td>\n",
       "      <td>1.710070</td>\n",
       "      <td>1.707656</td>\n",
       "      <td>1.688315</td>\n",
       "      <td>1.579492</td>\n",
       "    </tr>\n",
       "    <tr>\n",
       "      <th>R2_scores</th>\n",
       "      <td>0.151356</td>\n",
       "      <td>0.151357</td>\n",
       "      <td>0.151444</td>\n",
       "      <td>0.152092</td>\n",
       "      <td>0.154228</td>\n",
       "    </tr>\n",
       "  </tbody>\n",
       "</table>\n",
       "</div>"
      ],
      "text/plain": [
       "                  LR  Ridge(alpha=0.01)  Ridge(alpha=1.00)  \\\n",
       "iid         1.280159           0.008460           0.008453   \n",
       "gender      1.237282           2.474192           2.428098   \n",
       "attr3_1     0.252238           0.178421           0.179584   \n",
       "sinc3_1     1.578972           1.091565           1.092450   \n",
       "intel3_1    0.500427           0.443866           0.443488   \n",
       "fun3_1      0.512621           0.332826           0.329410   \n",
       "amb3_1      0.387214           0.206253           0.207067   \n",
       "tmp_att    -2.844377          -0.240758          -0.239298   \n",
       "tmp_sin    -3.695316          -0.493751          -0.493005   \n",
       "tmp_int    -0.956110          -0.134873          -0.134245   \n",
       "tmp_fun     0.613748           0.092828           0.094226   \n",
       "tmp_amb    -0.851118          -0.133438          -0.132918   \n",
       "tmp_sha    -2.216330          -0.330659          -0.329465   \n",
       "tmp2_attr   3.392323           2.555626           2.546567   \n",
       "tmp2_sinc   0.761691           0.741379           0.734506   \n",
       "tmp2_intel -0.155377          -0.161817          -0.152827   \n",
       "tmp2_fun   -0.973954          -0.773939          -0.760198   \n",
       "tmp2_amb    0.563172           0.526707           0.529438   \n",
       "tmp2_shar   4.876733           3.458580           3.449310   \n",
       "tmp2_like   2.115962           1.710070           1.707656   \n",
       "R2_scores   0.151356           0.151357           0.151444   \n",
       "\n",
       "            Ridge(alpha=10.00)  Ridge(alpha=100.00)  \n",
       "iid                   0.008391             0.007952  \n",
       "gender                2.074145             0.811326  \n",
       "attr3_1               0.190681             0.283197  \n",
       "sinc3_1               1.098078             1.059285  \n",
       "intel3_1              0.438512             0.364319  \n",
       "fun3_1                0.303775             0.240203  \n",
       "amb3_1                0.212928             0.221180  \n",
       "tmp_att              -0.227847            -0.177541  \n",
       "tmp_sin              -0.487134            -0.459123  \n",
       "tmp_int              -0.129274            -0.105437  \n",
       "tmp_fun               0.105188             0.152389  \n",
       "tmp_amb              -0.128557            -0.099529  \n",
       "tmp_sha              -0.319999            -0.276799  \n",
       "tmp2_attr             2.471201             2.039222  \n",
       "tmp2_sinc             0.681951             0.513535  \n",
       "tmp2_intel           -0.083034             0.183374  \n",
       "tmp2_fun             -0.644842             0.010607  \n",
       "tmp2_amb              0.550029             0.610190  \n",
       "tmp2_shar             3.369014             2.813598  \n",
       "tmp2_like             1.688315             1.579492  \n",
       "R2_scores             0.152092             0.154228  "
      ]
     },
     "execution_count": 24,
     "metadata": {},
     "output_type": "execute_result"
    }
   ],
   "source": [
    "comp_df"
   ]
  },
  {
   "cell_type": "markdown",
   "id": "29524a03-d5ce-4806-9a49-3d65aa8058eb",
   "metadata": {
    "jp-MarkdownHeadingCollapsed": true,
    "tags": []
   },
   "source": [
    "### 2. 라쏘 모델"
   ]
  },
  {
   "cell_type": "markdown",
   "id": "5922398d-8da4-4f7d-ad51-bf10211dd805",
   "metadata": {
    "jp-MarkdownHeadingCollapsed": true,
    "tags": []
   },
   "source": [
    "### 단순 Lasso모델"
   ]
  },
  {
   "cell_type": "code",
   "execution_count": 8,
   "id": "ec01a814-baa4-4048-b771-4e63866f49f9",
   "metadata": {},
   "outputs": [
    {
     "data": {
      "text/html": [
       "<style>#sk-container-id-1 {color: black;background-color: white;}#sk-container-id-1 pre{padding: 0;}#sk-container-id-1 div.sk-toggleable {background-color: white;}#sk-container-id-1 label.sk-toggleable__label {cursor: pointer;display: block;width: 100%;margin-bottom: 0;padding: 0.3em;box-sizing: border-box;text-align: center;}#sk-container-id-1 label.sk-toggleable__label-arrow:before {content: \"▸\";float: left;margin-right: 0.25em;color: #696969;}#sk-container-id-1 label.sk-toggleable__label-arrow:hover:before {color: black;}#sk-container-id-1 div.sk-estimator:hover label.sk-toggleable__label-arrow:before {color: black;}#sk-container-id-1 div.sk-toggleable__content {max-height: 0;max-width: 0;overflow: hidden;text-align: left;background-color: #f0f8ff;}#sk-container-id-1 div.sk-toggleable__content pre {margin: 0.2em;color: black;border-radius: 0.25em;background-color: #f0f8ff;}#sk-container-id-1 input.sk-toggleable__control:checked~div.sk-toggleable__content {max-height: 200px;max-width: 100%;overflow: auto;}#sk-container-id-1 input.sk-toggleable__control:checked~label.sk-toggleable__label-arrow:before {content: \"▾\";}#sk-container-id-1 div.sk-estimator input.sk-toggleable__control:checked~label.sk-toggleable__label {background-color: #d4ebff;}#sk-container-id-1 div.sk-label input.sk-toggleable__control:checked~label.sk-toggleable__label {background-color: #d4ebff;}#sk-container-id-1 input.sk-hidden--visually {border: 0;clip: rect(1px 1px 1px 1px);clip: rect(1px, 1px, 1px, 1px);height: 1px;margin: -1px;overflow: hidden;padding: 0;position: absolute;width: 1px;}#sk-container-id-1 div.sk-estimator {font-family: monospace;background-color: #f0f8ff;border: 1px dotted black;border-radius: 0.25em;box-sizing: border-box;margin-bottom: 0.5em;}#sk-container-id-1 div.sk-estimator:hover {background-color: #d4ebff;}#sk-container-id-1 div.sk-parallel-item::after {content: \"\";width: 100%;border-bottom: 1px solid gray;flex-grow: 1;}#sk-container-id-1 div.sk-label:hover label.sk-toggleable__label {background-color: #d4ebff;}#sk-container-id-1 div.sk-serial::before {content: \"\";position: absolute;border-left: 1px solid gray;box-sizing: border-box;top: 0;bottom: 0;left: 50%;z-index: 0;}#sk-container-id-1 div.sk-serial {display: flex;flex-direction: column;align-items: center;background-color: white;padding-right: 0.2em;padding-left: 0.2em;position: relative;}#sk-container-id-1 div.sk-item {position: relative;z-index: 1;}#sk-container-id-1 div.sk-parallel {display: flex;align-items: stretch;justify-content: center;background-color: white;position: relative;}#sk-container-id-1 div.sk-item::before, #sk-container-id-1 div.sk-parallel-item::before {content: \"\";position: absolute;border-left: 1px solid gray;box-sizing: border-box;top: 0;bottom: 0;left: 50%;z-index: -1;}#sk-container-id-1 div.sk-parallel-item {display: flex;flex-direction: column;z-index: 1;position: relative;background-color: white;}#sk-container-id-1 div.sk-parallel-item:first-child::after {align-self: flex-end;width: 50%;}#sk-container-id-1 div.sk-parallel-item:last-child::after {align-self: flex-start;width: 50%;}#sk-container-id-1 div.sk-parallel-item:only-child::after {width: 0;}#sk-container-id-1 div.sk-dashed-wrapped {border: 1px dashed gray;margin: 0 0.4em 0.5em 0.4em;box-sizing: border-box;padding-bottom: 0.4em;background-color: white;}#sk-container-id-1 div.sk-label label {font-family: monospace;font-weight: bold;display: inline-block;line-height: 1.2em;}#sk-container-id-1 div.sk-label-container {text-align: center;}#sk-container-id-1 div.sk-container {/* jupyter's `normalize.less` sets `[hidden] { display: none; }` but bootstrap.min.css set `[hidden] { display: none !important; }` so we also need the `!important` here to be able to override the default hidden behavior on the sphinx rendered scikit-learn.org. See: https://github.com/scikit-learn/scikit-learn/issues/21755 */display: inline-block !important;position: relative;}#sk-container-id-1 div.sk-text-repr-fallback {display: none;}</style><div id=\"sk-container-id-1\" class=\"sk-top-container\"><div class=\"sk-text-repr-fallback\"><pre>Lasso(alpha=1)</pre><b>In a Jupyter environment, please rerun this cell to show the HTML representation or trust the notebook. <br />On GitHub, the HTML representation is unable to render, please try loading this page with nbviewer.org.</b></div><div class=\"sk-container\" hidden><div class=\"sk-item\"><div class=\"sk-estimator sk-toggleable\"><input class=\"sk-toggleable__control sk-hidden--visually\" id=\"sk-estimator-id-1\" type=\"checkbox\" checked><label for=\"sk-estimator-id-1\" class=\"sk-toggleable__label sk-toggleable__label-arrow\">Lasso</label><div class=\"sk-toggleable__content\"><pre>Lasso(alpha=1)</pre></div></div></div></div></div>"
      ],
      "text/plain": [
       "Lasso(alpha=1)"
      ]
     },
     "execution_count": 8,
     "metadata": {},
     "output_type": "execute_result"
    }
   ],
   "source": [
    "from sklearn.linear_model import Lasso\n",
    "\n",
    "# alpha=1인 경우(default)\n",
    "model_Lasso = Lasso(alpha=1)\n",
    "model_Lasso.fit(X_train, y_train)"
   ]
  },
  {
   "cell_type": "code",
   "execution_count": 9,
   "id": "1ebf8234-a303-4159-a79c-ba7b02ec4c81",
   "metadata": {
    "tags": []
   },
   "outputs": [
    {
     "name": "stdout",
     "output_type": "stream",
     "text": [
      "0.14243364113305879\n"
     ]
    },
    {
     "data": {
      "text/plain": [
       "iid           0.008054\n",
       "gender        0.000000\n",
       "attr3_1       0.039569\n",
       "sinc3_1       0.798823\n",
       "intel3_1      0.011865\n",
       "fun3_1        0.052449\n",
       "amb3_1        0.138855\n",
       "tmp_att      -0.029810\n",
       "tmp_sin      -0.323891\n",
       "tmp_int       0.000000\n",
       "tmp_fun       0.259976\n",
       "tmp_amb       0.000000\n",
       "tmp_sha      -0.145322\n",
       "tmp2_attr     2.225387\n",
       "tmp2_sinc     0.000000\n",
       "tmp2_intel    0.000000\n",
       "tmp2_fun      0.000000\n",
       "tmp2_amb      0.087422\n",
       "tmp2_shar     3.419030\n",
       "tmp2_like     1.098871\n",
       "dtype: float64"
      ]
     },
     "execution_count": 9,
     "metadata": {},
     "output_type": "execute_result"
    }
   ],
   "source": [
    "# 라쏘 선형회귀 모델 평가(alpha=1)\n",
    "# 선형 모델 평가\n",
    "y_pred = model_Lasso.predict(X_test)\n",
    "r2 = r2_score(y_test, y_pred)\n",
    "print(r2)\n",
    "#a = 1 라쏘 모델 회귀 계수\n",
    "\n",
    "Lasso_coef = pd.Series(model_Lasso.coef_, index=X.columns)\n",
    "Lasso_coef"
   ]
  },
  {
   "cell_type": "markdown",
   "id": "1cf8fdff-d86b-4f9e-b314-3e591d991285",
   "metadata": {},
   "source": [
    "- 계수 시각화"
   ]
  },
  {
   "cell_type": "code",
   "execution_count": null,
   "id": "c1d28d4d-2fb9-462b-89cd-4a0d7dcabc27",
   "metadata": {
    "tags": []
   },
   "outputs": [],
   "source": [
    "coef = np.abs(Lasso_coef)\n",
    "coef = pd.Series(coef, index=train.columns).sort_values(ascending=False)\n",
    "coef\n",
    "# 시각화\n",
    "plt.figure(figsize=(10,3))\n",
    "plt.title('<Feature importance of coefficents with Lasso Regulization>', fontsize=15)\n",
    "plt.bar(coef.index, coef.values)\n",
    "plt.xticks(coef.index, rotation=45, fontsize=11);"
   ]
  },
  {
   "cell_type": "code",
   "execution_count": null,
   "id": "a7139721-8edc-43f4-a3d3-a4000443122f",
   "metadata": {},
   "outputs": [],
   "source": [
    "# alpha_list=[0.01, 1, 10, 100]인 경우\n",
    "\n",
    "alpha_list = [0.01, 1, 10, 100]\n",
    "\n",
    "for each in alpha_list:\n",
    "    model_Lasso = Lasso(alpha=each)\n",
    "    model_Lasso.fit(X_train, y_train)\n",
    "    \n",
    "    y_pred = model_Lasso.predict(X_test)\n",
    "    y_pred[y_pred < 0] = 0.\n",
    "    \n",
    "    r2 = r2_score(y_test, y_pred)\n",
    "    col_name = f'Lasso(alpha={each:.2f})'\n",
    "    \n",
    "    comp_df[col_name] = np.append(model_Lasso.coef_, r2)"
   ]
  },
  {
   "cell_type": "code",
   "execution_count": null,
   "id": "87a0e8f2-d738-45e4-b1e2-5d4f7f45d6b8",
   "metadata": {
    "scrolled": true,
    "tags": []
   },
   "outputs": [],
   "source": [
    "comp_df"
   ]
  },
  {
   "cell_type": "markdown",
   "id": "504a408a-e06a-4304-afd4-30d3d2db1dfd",
   "metadata": {
    "jp-MarkdownHeadingCollapsed": true,
    "tags": []
   },
   "source": [
    "### 3. 엘라스틱넷 모델"
   ]
  },
  {
   "cell_type": "markdown",
   "id": "2b16305d-a1a2-44c3-b935-2bc2accd2784",
   "metadata": {
    "jp-MarkdownHeadingCollapsed": true,
    "tags": []
   },
   "source": [
    "### 단순 엘라스틱넷 모델"
   ]
  },
  {
   "cell_type": "code",
   "execution_count": null,
   "id": "891dabdc-9ef5-4c73-a37e-ba6d6a7ecd55",
   "metadata": {},
   "outputs": [],
   "source": [
    "from sklearn.linear_model import ElasticNet\n",
    "# 모델 구축 및 학습(alpha=1, l1_ratio=0.5)\n",
    "\n",
    "model_ElasticNet = ElasticNet(alpha=0.1, l1_ratio=0.5)\n",
    "model_ElasticNet.fit(X_train, y_train)"
   ]
  },
  {
   "cell_type": "code",
   "execution_count": null,
   "id": "6b8229d2-3ceb-45ab-8417-6fdc5da24317",
   "metadata": {},
   "outputs": [],
   "source": [
    "#모델 평가 및 회귀 계수 확인\n",
    "# 엘라스틱넷 선형회귀 모델 평가(alpha=1, L1_ratio=0.5)\n",
    "# 선형 모델 평가\n",
    "y_pred = model_ElasticNet.predict(X_test)\n",
    "y_pred[y_pred < 0] = 0.\n",
    "\n",
    "r2 = r2_score(y_test, y_pred)\n",
    "print(r2)\n",
    "evaluate_score(y_test, y_pred)\n",
    "#a = 1 엘라스틱넷 모델 회귀 계수\n",
    "ElasticNet_coef = pd.Series(model_ElasticNet.coef_, index=X.columns)"
   ]
  },
  {
   "cell_type": "markdown",
   "id": "13ee7631-ac30-427b-a048-5bbd84513474",
   "metadata": {},
   "source": [
    "- 계수 시각화"
   ]
  },
  {
   "cell_type": "code",
   "execution_count": null,
   "id": "0252db72-d474-43fa-9e50-b1bac7545586",
   "metadata": {
    "tags": []
   },
   "outputs": [],
   "source": [
    "coef = np.abs(ElasticNet_coef)\n",
    "coef = pd.Series(coef, index=train.columns).sort_values(ascending=False)\n",
    "coef\n",
    "# 시각화\n",
    "plt.figure(figsize=(10,3))\n",
    "plt.title('<Feature importance of coefficents with ELasticNet Regulization>', fontsize=15)\n",
    "plt.bar(coef.index, coef.values)\n",
    "plt.xticks(coef.index, rotation=45, fontsize=11);"
   ]
  },
  {
   "cell_type": "code",
   "execution_count": null,
   "id": "fc21c5ae-e90f-4346-84e2-2fe30dfb7645",
   "metadata": {},
   "outputs": [],
   "source": [
    "# alpha_list=[0.01, 1, 10, 100]인 경우, l1_ratio=0.5 \n",
    "\n",
    "alpha_list = [0.01, 1, 10, 100]\n",
    "\n",
    "for each in alpha_list:\n",
    "    model_ElasticNet = ElasticNet(alpha=each)\n",
    "    model_ElasticNet.fit(X_train, y_train)\n",
    "    \n",
    "    y_pred = model_ElasticNet.predict(X_test)\n",
    "    y_pred[y_pred < 0] = 0.\n",
    "    \n",
    "    r2 = r2_score(y_test, y_pred)\n",
    "    col_name = f'ElasticNet(alpha={each:.2f})'\n",
    "    \n",
    "    comp_df[col_name] = np.append(model_ElasticNet.coef_, r2)\n",
    "comp_df"
   ]
  },
  {
   "cell_type": "markdown",
   "id": "c7e53fd6-15ba-4d70-943b-bab972ce1c85",
   "metadata": {
    "jp-MarkdownHeadingCollapsed": true,
    "tags": []
   },
   "source": [
    "# Scaling, GridSerchCV"
   ]
  },
  {
   "cell_type": "markdown",
   "id": "8332497e-698e-47f9-a695-bb338ff9b4d1",
   "metadata": {
    "tags": []
   },
   "source": [
    "####  데이터셋에 대한 설명 및 정보 확인"
   ]
  },
  {
   "cell_type": "code",
   "execution_count": 5,
   "id": "f5711faf-b59b-4ba6-8581-1a9a2420a2f0",
   "metadata": {},
   "outputs": [],
   "source": [
    "# 데이터 csv 불러오기\n",
    "train = pd.read_csv('../data/train3.csv')"
   ]
  },
  {
   "cell_type": "code",
   "execution_count": 6,
   "id": "78077f97-4690-4e06-a90d-cafb2a4a6d1d",
   "metadata": {},
   "outputs": [],
   "source": [
    "# Unnamed: 0 column제거\n",
    "train = train.iloc[:,1:]\n",
    "# 소수점 2자리까지\n",
    "train.match = round(train.match, 2)"
   ]
  },
  {
   "cell_type": "code",
   "execution_count": 7,
   "id": "406078f4-a9db-41f7-95e0-c2c979f9d50e",
   "metadata": {},
   "outputs": [],
   "source": [
    "# X(독립변수), Y(종속변수) 분할\n",
    "X = train.drop('match', axis=1)\n",
    "y = train['match']\n",
    "# 학습용 데이터와 평가용 데이터로 분할하기\n",
    "X_train, X_test, y_train, y_test = train_test_split(X, y, test_size=0.3, random_state=42)"
   ]
  },
  {
   "cell_type": "markdown",
   "id": "c705a0b5-2d28-426a-9a18-a5789f9a5a89",
   "metadata": {
    "jp-MarkdownHeadingCollapsed": true,
    "tags": []
   },
   "source": [
    "### 라쏘 모델 scaling, GridSerchCV"
   ]
  },
  {
   "cell_type": "code",
   "execution_count": 25,
   "id": "a988f865-3ee6-4f45-b466-f58f61fe7a6c",
   "metadata": {},
   "outputs": [
    {
     "name": "stdout",
     "output_type": "stream",
     "text": [
      "Best Parameters:  {'lasso__alpha': 1}\n",
      "R^2 Score:  0.15488430156037003\n",
      "MSE:  553.0074689768298\n"
     ]
    }
   ],
   "source": [
    "from sklearn.model_selection import GridSearchCV\n",
    "from sklearn.linear_model import Lasso\n",
    "from sklearn.pipeline import Pipeline\n",
    "from sklearn.preprocessing import StandardScaler\n",
    "\n",
    "# 데이터 로드\n",
    "X = train.drop('match', axis=1)\n",
    "y = train['match']\n",
    "# 학습용 데이터와 평가용 데이터로 분할하기\n",
    "X_train, X_test, y_train, y_test = train_test_split(X, y, test_size=0.3, random_state=42)\n",
    "\n",
    "# 파이프라인 정의\n",
    "pipeline = Pipeline([\n",
    "    ('scaler', StandardScaler()),\n",
    "    ('lasso', Lasso())\n",
    "])\n",
    "\n",
    "# 탐색할 하이퍼파라미터 값 지정\n",
    "param_grid = {\n",
    "    'lasso__alpha': [0.01, 0.1, 1, 10, 100]\n",
    "}\n",
    "\n",
    "# 그리드 서치 객체 생성\n",
    "grid_search = GridSearchCV(pipeline, param_grid, cv=5)\n",
    "\n",
    "# 모델 학습\n",
    "grid_search.fit(X, y)\n",
    "\n",
    "# 최적의 모델 선택\n",
    "best_model = grid_search.best_estimator_\n",
    "\n",
    "# 최적의 하이퍼파라미터 출력\n",
    "print(\"Best Parameters: \", grid_search.best_params_)\n",
    "\n",
    "# 예측\n",
    "y_pred = best_model.predict(X)\n",
    "y_pred[y_pred < 0] = 0.\n",
    "# 모델 성능 평가\n",
    "r2_score = best_model.score(X, y)\n",
    "mse = mean_squared_error(y, y_pred)\n",
    "\n",
    "# 결과 출력\n",
    "print(\"R^2 Score: \", r2_score)\n",
    "print(\"MSE: \", mse)"
   ]
  },
  {
   "cell_type": "markdown",
   "id": "7226fb28-1895-4b70-b44b-81a3f3a0444a",
   "metadata": {
    "jp-MarkdownHeadingCollapsed": true,
    "tags": []
   },
   "source": [
    "#### 예측값"
   ]
  },
  {
   "cell_type": "code",
   "execution_count": 10,
   "id": "af6148bb-4ab1-4f84-92bb-34db9722443a",
   "metadata": {},
   "outputs": [
    {
     "data": {
      "text/plain": [
       "array([20.2721902 , 15.18022166, 12.8915841 , 35.14957477,  9.70918297,\n",
       "       36.00280484, 20.39912917, 22.04339835, 26.63718481, 26.03054655,\n",
       "        7.59331684,  8.56511431, 28.5908785 , 18.10303833, 19.98080806,\n",
       "       10.07360346, -8.41912517, 24.17770077, 24.37630499, 14.47521964,\n",
       "       19.138986  , 41.70745785, 27.28784741,  9.87616488, 20.79782996,\n",
       "       18.88714414, 46.29351478, 16.38132335, 22.56023067, 21.816336  ,\n",
       "        9.57505695, 32.95185122, 26.26027986, 22.84133959, 22.78526676,\n",
       "        5.38955435, 12.14738497, 27.7843836 , 19.50056348,  9.29904602,\n",
       "       31.3684894 ,  8.6369456 , 12.97116001, 27.60067214, 36.73267255,\n",
       "       15.43523721,  2.48358068, 16.48148375, 19.99541025, 29.23019148,\n",
       "       16.5048589 , 22.79389509, 13.46082706, 30.51240138,  6.48085215,\n",
       "       23.35120581, 21.81352879, 18.05397604, 23.30618732, -0.9684589 ,\n",
       "       21.41778926, 20.33435843, 14.51248728, 12.14426916, 24.42062835,\n",
       "       26.9340716 , 24.90152145,  8.93263639, 33.69314723, 18.9180987 ,\n",
       "       16.86015812, 22.16721803, 13.78891557, 17.66910265, 18.29621404,\n",
       "       18.42656487, 21.34644436, 17.9622598 , 24.17033023, 13.94479594,\n",
       "       22.4442163 , 20.0407189 , 32.76356506, 23.43928581, 15.29782565,\n",
       "       11.79515997, 15.37234207, 21.42566532, 29.88273565, 25.20505108,\n",
       "       20.36644688,  6.94499237, 17.04808897, 19.21176545,  3.03216453,\n",
       "       29.24005047, 14.35252022, 14.6108199 , 34.18786783, 10.47822494,\n",
       "       20.42145389, 16.0599775 , 19.80974451, 35.83102656, 18.78678731,\n",
       "       13.14422741, 12.06279548, 20.86671936, 10.49822365, 28.48921226,\n",
       "       27.60522763, 20.46076741, 14.42555393, 12.16861011, 10.07485226,\n",
       "       12.26742089, 22.07302278,  4.18129602, 16.0522309 ,  6.67991998,\n",
       "       42.04835112, 23.61552887, 23.74717354,  5.42058846, 24.6173199 ,\n",
       "       13.52174506, -9.33145117, 19.32880811, 10.33392291, -5.61711793,\n",
       "       41.77284744, 15.84109733, 18.61104512, 32.13072843, 19.30369211,\n",
       "       25.5602896 , 20.69917104, 28.15512048, 24.66431111, 29.41612945,\n",
       "       19.40909956,  8.46321953, 16.39547865])"
      ]
     },
     "execution_count": 10,
     "metadata": {},
     "output_type": "execute_result"
    }
   ],
   "source": [
    "y_pred"
   ]
  },
  {
   "cell_type": "markdown",
   "id": "d3097996-6e2b-4561-91f2-bdae754553e0",
   "metadata": {
    "jp-MarkdownHeadingCollapsed": true,
    "tags": []
   },
   "source": [
    "### SGDRegressor의 엘라스틱넷규제 모델 scaling, GridSerchCV"
   ]
  },
  {
   "cell_type": "code",
   "execution_count": 11,
   "id": "04bab57f-7846-4b11-a359-83cf264856c7",
   "metadata": {},
   "outputs": [
    {
     "name": "stdout",
     "output_type": "stream",
     "text": [
      "Best parameters:  {'sgdregressor__alpha': 1.7, 'sgdregressor__l1_ratio': 0.1, 'sgdregressor__max_iter': 100}\n",
      "R-squared score: 0.189\n"
     ]
    }
   ],
   "source": [
    "from sklearn.linear_model import SGDRegressor\n",
    "from sklearn.preprocessing import StandardScaler\n",
    "from sklearn.pipeline import make_pipeline\n",
    "from sklearn.model_selection import GridSearchCV\n",
    "\n",
    "# 데이터셋을 훈련용과 테스트용으로 분리\n",
    "X = train.drop('match', axis=1)\n",
    "y = train['match']\n",
    "# 학습용 데이터와 평가용 데이터로 분할하기\n",
    "X_train, X_test, y_train, y_test = train_test_split(X, y, test_size=0.3, random_state=42)\n",
    "\n",
    "# 모델 파이프라인 생성\n",
    "model = make_pipeline(\n",
    "    StandardScaler(),\n",
    "    SGDRegressor(loss='squared_error', penalty='elasticnet', random_state=42)\n",
    ")\n",
    "\n",
    "# GridSearchCV를 사용하여 하이퍼파라미터 튜닝\n",
    "param_grid = {\n",
    "    'sgdregressor__alpha': [0.001, 0.01, 0.1, 1.7, 10, 100],\n",
    "    'sgdregressor__l1_ratio': [0.05, 0.1, 0.15, 0.5, 0.75, 0.9],\n",
    "    'sgdregressor__max_iter': [100],\n",
    "}\n",
    "\n",
    "grid = GridSearchCV(model, param_grid, cv=5)\n",
    "grid.fit(X_train, y_train)\n",
    "\n",
    "# 최적의 하이퍼파라미터 출력\n",
    "print(\"Best parameters: \", grid.best_params_)\n",
    "\n",
    "# 최적의 모델로 성능 평가\n",
    "score = grid.score(X_test, y_test)\n",
    "print(\"R-squared score: {:.3f}\".format(score))"
   ]
  },
  {
   "cell_type": "markdown",
   "id": "11dc98ab-03ed-456c-9d2d-be0083a00879",
   "metadata": {
    "tags": []
   },
   "source": [
    "#### 예측값"
   ]
  },
  {
   "cell_type": "code",
   "execution_count": 12,
   "id": "12806158-c5ab-4723-a94c-955c8c739f3a",
   "metadata": {},
   "outputs": [
    {
     "name": "stdout",
     "output_type": "stream",
     "text": [
      "Predictions:  [18.33352641 14.4961429  15.77675552 30.70854311 13.09683176 39.65003941\n",
      " 21.17551024 22.02505616 29.40215583 25.1542304   9.40380743 11.27693072\n",
      " 28.52528592 21.81143067 21.27958017  9.24300649  0.30354359 23.21169185\n",
      " 22.10927671 12.91800946 17.91660634 41.60860777 26.77509771 12.81080171\n",
      " 19.12251535 19.03627998 45.34038948 13.56533061 21.07017794 20.19690231\n",
      " 14.68858306 34.22503987 25.45426514 22.47763626 21.01505861 11.17943994\n",
      " 13.23284883 26.1245083  21.47912887  9.4074932  28.35374283  9.65117798\n",
      " 10.2010416  26.26206423 32.87482539 16.0422614   7.61495111 18.91005796\n",
      " 20.10524752 27.00015219 17.13944971 19.86661542 14.1534852  27.05241126\n",
      "  7.52601331 20.46102484 18.81018345 17.64832653 21.98081697  4.2268403\n",
      " 20.12653969 19.12582221 16.53622678 13.51404946 21.70499679 28.60254802\n",
      " 23.01087529  9.86374478 29.56118233 18.85060901 15.35518379 19.44767967\n",
      " 16.1299631  14.86957503 12.7261117  22.63945404 22.03726238 14.46858627\n",
      " 28.26700824 12.76142104 21.14340827 18.3473492  37.972392   20.32725803\n",
      " 15.50100313 14.0441699  15.32753729 21.7293329  29.42048069 27.31177665\n",
      " 18.86973724  9.66973311 20.35615604 21.85446459  9.81098406 28.24631758\n",
      " 14.99529406 16.54196272 29.95339397 10.67629896 20.79164114 15.22879891\n",
      " 19.81516345 37.72442555 23.51519352 13.90856474  9.89383939 20.47742548\n",
      " 12.92171196 31.6213683  25.23124653 23.41003975 17.99452202 15.54331719\n",
      " 13.04138355 15.13474473 18.2317181   6.9822238  19.50327151  9.85619078\n",
      " 39.55431168 25.02545085 23.45478491  3.12665849 23.38838801 16.64010494\n",
      " -3.123839   23.71895874 13.60743445  2.92751022 41.49518357 16.53556133\n",
      " 21.1490267  33.00071856 17.18856049 22.75382203 20.97051729 27.72564321\n",
      " 24.61915429 33.04411873 22.66403403  5.80806557 17.28253315]\n"
     ]
    }
   ],
   "source": [
    "y_pred = grid.predict(X_test)\n",
    "print(\"Predictions: \", y_pred)"
   ]
  }
 ],
 "metadata": {
  "kernelspec": {
   "display_name": "Python 3 (ipykernel)",
   "language": "python",
   "name": "python3"
  },
  "language_info": {
   "codemirror_mode": {
    "name": "ipython",
    "version": 3
   },
   "file_extension": ".py",
   "mimetype": "text/x-python",
   "name": "python",
   "nbconvert_exporter": "python",
   "pygments_lexer": "ipython3",
   "version": "3.9.13"
  }
 },
 "nbformat": 4,
 "nbformat_minor": 5
}
