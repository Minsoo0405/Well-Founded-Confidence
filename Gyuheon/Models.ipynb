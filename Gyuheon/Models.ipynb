{
 "cells": [
  {
   "cell_type": "markdown",
   "id": "a497885b-36c0-4811-90d6-43599f98d280",
   "metadata": {
    "tags": []
   },
   "source": [
    "# 규제가 있는 선형회귀 - 릿지, 라쏘, 엘라스틱넷 회귀"
   ]
  },
  {
   "cell_type": "markdown",
   "id": "10c8bc28-f21a-4d75-99a1-adae567d6ec3",
   "metadata": {
    "jp-MarkdownHeadingCollapsed": true,
    "tags": []
   },
   "source": [
    "#### 1. 준비"
   ]
  },
  {
   "cell_type": "code",
   "execution_count": 1,
   "id": "37292e3f-9b3a-49f8-96e9-6b57d235d76b",
   "metadata": {},
   "outputs": [],
   "source": [
    "# 관련 라이브러리 및 모듈 Import\n",
    "# import\n",
    "from sklearn.linear_model import LinearRegression\n",
    "from sklearn.linear_model import Ridge\n",
    "from sklearn.linear_model import Lasso\n",
    "from sklearn.linear_model import ElasticNet\n",
    "from sklearn.linear_model import RidgeCV\n",
    "from sklearn.linear_model import LassoCV\n",
    "from sklearn.linear_model import SGDRegressor\n",
    "\n",
    "from sklearn.preprocessing import StandardScaler\n",
    "\n",
    "from sklearn.pipeline import Pipeline\n",
    "from sklearn.pipeline import make_pipeline\n",
    "\n",
    "from sklearn.model_selection import GridSearchCV\n",
    "from sklearn.model_selection import train_test_split\n",
    "\n",
    "from sklearn.metrics import mean_squared_error, r2_score\n",
    "\n",
    "import pandas as pd\n",
    "import numpy as np\n",
    "\n",
    "import matplotlib.pyplot as plt\n",
    "import seaborn as sns"
   ]
  },
  {
   "cell_type": "code",
   "execution_count": 2,
   "id": "06b690c8-6bfd-462a-8367-a81d47b73dce",
   "metadata": {},
   "outputs": [],
   "source": [
    "import warnings\n",
    "warnings.filterwarnings(action='ignore')"
   ]
  },
  {
   "cell_type": "code",
   "execution_count": 3,
   "id": "53650907-4bd5-403a-a494-011ec425dcbf",
   "metadata": {},
   "outputs": [],
   "source": [
    "def evaluate_score(y_test, y_pred):\n",
    "    mse = mean_squared_error(y_test, y_pred)\n",
    "    rmse = np.sqrt(mse)\n",
    "    r2 = r2_score(y_test, y_pred)\n",
    "    \n",
    "    print(f'mse- {mse:.3f}')\n",
    "    print(f'rmse- {rmse:.3f}')\n",
    "    print(f'r2- {r2:.3f}')\n",
    "    \n",
    "    return"
   ]
  },
  {
   "cell_type": "markdown",
   "id": "1c8b000f-9979-4216-ab01-d258fa20f513",
   "metadata": {
    "jp-MarkdownHeadingCollapsed": true,
    "tags": []
   },
   "source": [
    "## 데이터 수집, 탐색, 준비"
   ]
  },
  {
   "cell_type": "markdown",
   "id": "ac351c8a-b625-45e9-830e-c5b52686ffd7",
   "metadata": {
    "tags": []
   },
   "source": [
    "####  데이터셋에 대한 설명 및 정보 확인"
   ]
  },
  {
   "cell_type": "code",
   "execution_count": 4,
   "id": "5febfa66-424a-4b92-a820-bda1a843ebee",
   "metadata": {},
   "outputs": [],
   "source": [
    "# 데이터 csv 불러오기\n",
    "train = pd.read_csv('./train5.csv')"
   ]
  },
  {
   "cell_type": "code",
   "execution_count": 5,
   "id": "0f7999c0-5d15-46cd-a906-bf9df18d755b",
   "metadata": {},
   "outputs": [],
   "source": [
    "# X(독립변수), Y(종속변수) 분할\n",
    "X = train.drop('match', axis=1)\n",
    "y = train['match']\n",
    "# 학습용 데이터와 평가용 데이터로 분할하기\n",
    "X_train, X_test, y_train, y_test = train_test_split(X, y, test_size=0.3, random_state=42)"
   ]
  },
  {
   "cell_type": "markdown",
   "id": "ca0c2cc5-fd35-4602-a45c-90abbd83e3ef",
   "metadata": {
    "jp-MarkdownHeadingCollapsed": true,
    "tags": []
   },
   "source": [
    "## 모델별 계수변화, 알파별 계수 비교 데이터프레임(comp_df)"
   ]
  },
  {
   "cell_type": "code",
   "execution_count": 6,
   "id": "45517990-9368-49cf-8502-59da530de56d",
   "metadata": {},
   "outputs": [
    {
     "data": {
      "text/html": [
       "<div>\n",
       "<style scoped>\n",
       "    .dataframe tbody tr th:only-of-type {\n",
       "        vertical-align: middle;\n",
       "    }\n",
       "\n",
       "    .dataframe tbody tr th {\n",
       "        vertical-align: top;\n",
       "    }\n",
       "\n",
       "    .dataframe thead th {\n",
       "        text-align: right;\n",
       "    }\n",
       "</style>\n",
       "<table border=\"1\" class=\"dataframe\">\n",
       "  <thead>\n",
       "    <tr style=\"text-align: right;\">\n",
       "      <th></th>\n",
       "    </tr>\n",
       "  </thead>\n",
       "  <tbody>\n",
       "    <tr>\n",
       "      <th>gender</th>\n",
       "    </tr>\n",
       "    <tr>\n",
       "      <th>attr_s</th>\n",
       "    </tr>\n",
       "    <tr>\n",
       "      <th>sinc_s</th>\n",
       "    </tr>\n",
       "    <tr>\n",
       "      <th>intel_s</th>\n",
       "    </tr>\n",
       "    <tr>\n",
       "      <th>fun_s</th>\n",
       "    </tr>\n",
       "    <tr>\n",
       "      <th>amb_s</th>\n",
       "    </tr>\n",
       "    <tr>\n",
       "      <th>attr_eval</th>\n",
       "    </tr>\n",
       "    <tr>\n",
       "      <th>sinc_eval</th>\n",
       "    </tr>\n",
       "    <tr>\n",
       "      <th>intel_eval</th>\n",
       "    </tr>\n",
       "    <tr>\n",
       "      <th>fun_eval</th>\n",
       "    </tr>\n",
       "    <tr>\n",
       "      <th>amb_eval</th>\n",
       "    </tr>\n",
       "    <tr>\n",
       "      <th>shar_eval</th>\n",
       "    </tr>\n",
       "    <tr>\n",
       "      <th>like_eval</th>\n",
       "    </tr>\n",
       "    <tr>\n",
       "      <th>R2_scores</th>\n",
       "    </tr>\n",
       "  </tbody>\n",
       "</table>\n",
       "</div>"
      ],
      "text/plain": [
       "Empty DataFrame\n",
       "Columns: []\n",
       "Index: [gender, attr_s, sinc_s, intel_s, fun_s, amb_s, attr_eval, sinc_eval, intel_eval, fun_eval, amb_eval, shar_eval, like_eval, R2_scores]"
      ]
     },
     "execution_count": 6,
     "metadata": {},
     "output_type": "execute_result"
    }
   ],
   "source": [
    "#각 모델별 계수로 이루어진 데이터프레임 준비\n",
    "comp_df = pd.DataFrame(index=list(X.columns)+['R2_scores'])\n",
    "comp_df"
   ]
  },
  {
   "cell_type": "markdown",
   "id": "373aa66b-dbe9-4391-bc16-c6c5646c5f8f",
   "metadata": {
    "tags": []
   },
   "source": [
    "## 각 모델별, 규제강도별 평가지표 저장"
   ]
  },
  {
   "cell_type": "markdown",
   "id": "338f961b-9873-4816-89f9-3c612aa9aa6d",
   "metadata": {
    "tags": []
   },
   "source": [
    "####  데이터셋에 대한 설명 및 정보 확인"
   ]
  },
  {
   "cell_type": "markdown",
   "id": "42c8fa85-8353-4fe4-8b65-69ed87919378",
   "metadata": {
    "tags": []
   },
   "source": [
    "### 1. 규제가 없는 선형모델"
   ]
  },
  {
   "cell_type": "code",
   "execution_count": 7,
   "id": "74a9f193-5138-4a62-b5b9-829c6056e62d",
   "metadata": {},
   "outputs": [
    {
     "name": "stdout",
     "output_type": "stream",
     "text": [
      "r2= 0.192147\n",
      "mse- 459.932\n",
      "rmse- 21.446\n",
      "r2- 0.192\n",
      "gender        3.109983\n",
      "attr_s        0.351262\n",
      "sinc_s        0.354156\n",
      "intel_s       0.436773\n",
      "fun_s         0.759271\n",
      "amb_s         0.464791\n",
      "attr_eval     3.244837\n",
      "sinc_eval     0.628047\n",
      "intel_eval   -0.242355\n",
      "fun_eval     -0.642997\n",
      "amb_eval      0.348415\n",
      "shar_eval     3.469598\n",
      "like_eval     1.400890\n",
      "dtype: float64\n"
     ]
    }
   ],
   "source": [
    "#모델 구축 및 학습\n",
    "model_LR = LinearRegression()\n",
    "model_LR = model_LR.fit(X_train, y_train)\n",
    "\n",
    "#모델 평가\n",
    "y_pred = model_LR.predict(X_test)\n",
    "y_pred[y_pred < 0] = 0.\n",
    "\n",
    "r2 = r2_score(y_test, y_pred)\n",
    "print(f\"r2= {r2:3f}\")\n",
    "# 회귀 계수 확인\n",
    "evaluate_score(y_test, y_pred)\n",
    "\n",
    "# r2\n",
    "LR_coef = pd.Series(model_LR.coef_, index=X.columns)\n",
    "print(LR_coef)"
   ]
  },
  {
   "cell_type": "markdown",
   "id": "62987d3b-b599-4320-b52e-0a54da0f2a72",
   "metadata": {},
   "source": [
    "- 계수값 시각화"
   ]
  },
  {
   "cell_type": "code",
   "execution_count": 8,
   "id": "9642d4cf-d917-46b8-a9e1-7df544744489",
   "metadata": {},
   "outputs": [
    {
     "data": {
      "image/png": "[encoded data removed]",
      "text/plain": [
       "<Figure size 1000x300 with 1 Axes>"
      ]
     },
     "metadata": {},
     "output_type": "display_data"
    }
   ],
   "source": [
    "coef = LR_coef.sort_values(ascending=False)\n",
    "coef = np.abs(LR_coef).sort_values(ascending=False)\n",
    "# print('======')\n",
    "# 시각화\n",
    "plt.figure(figsize=(10,3))\n",
    "plt.title('<Feature importance of coefficents without Regulization>', fontsize=15)\n",
    "plt.bar(coef.index, coef.values)\n",
    "plt.xticks(coef.index, rotation=45, fontsize=11);"
   ]
  },
  {
   "cell_type": "code",
   "execution_count": 9,
   "id": "6e0a5abc-07d0-4c3b-963f-9888824ad7e4",
   "metadata": {
    "tags": []
   },
   "outputs": [
    {
     "data": {
      "text/html": [
       "<div>\n",
       "<style scoped>\n",
       "    .dataframe tbody tr th:only-of-type {\n",
       "        vertical-align: middle;\n",
       "    }\n",
       "\n",
       "    .dataframe tbody tr th {\n",
       "        vertical-align: top;\n",
       "    }\n",
       "\n",
       "    .dataframe thead th {\n",
       "        text-align: right;\n",
       "    }\n",
       "</style>\n",
       "<table border=\"1\" class=\"dataframe\">\n",
       "  <thead>\n",
       "    <tr style=\"text-align: right;\">\n",
       "      <th></th>\n",
       "      <th>LR</th>\n",
       "    </tr>\n",
       "  </thead>\n",
       "  <tbody>\n",
       "    <tr>\n",
       "      <th>gender</th>\n",
       "      <td>3.109983</td>\n",
       "    </tr>\n",
       "    <tr>\n",
       "      <th>attr_s</th>\n",
       "      <td>0.351262</td>\n",
       "    </tr>\n",
       "    <tr>\n",
       "      <th>sinc_s</th>\n",
       "      <td>0.354156</td>\n",
       "    </tr>\n",
       "    <tr>\n",
       "      <th>intel_s</th>\n",
       "      <td>0.436773</td>\n",
       "    </tr>\n",
       "    <tr>\n",
       "      <th>fun_s</th>\n",
       "      <td>0.759271</td>\n",
       "    </tr>\n",
       "    <tr>\n",
       "      <th>amb_s</th>\n",
       "      <td>0.464791</td>\n",
       "    </tr>\n",
       "    <tr>\n",
       "      <th>attr_eval</th>\n",
       "      <td>3.244837</td>\n",
       "    </tr>\n",
       "    <tr>\n",
       "      <th>sinc_eval</th>\n",
       "      <td>0.628047</td>\n",
       "    </tr>\n",
       "    <tr>\n",
       "      <th>intel_eval</th>\n",
       "      <td>-0.242355</td>\n",
       "    </tr>\n",
       "    <tr>\n",
       "      <th>fun_eval</th>\n",
       "      <td>-0.642997</td>\n",
       "    </tr>\n",
       "    <tr>\n",
       "      <th>amb_eval</th>\n",
       "      <td>0.348415</td>\n",
       "    </tr>\n",
       "    <tr>\n",
       "      <th>shar_eval</th>\n",
       "      <td>3.469598</td>\n",
       "    </tr>\n",
       "    <tr>\n",
       "      <th>like_eval</th>\n",
       "      <td>1.400890</td>\n",
       "    </tr>\n",
       "    <tr>\n",
       "      <th>R2_scores</th>\n",
       "      <td>0.192147</td>\n",
       "    </tr>\n",
       "  </tbody>\n",
       "</table>\n",
       "</div>"
      ],
      "text/plain": [
       "                  LR\n",
       "gender      3.109983\n",
       "attr_s      0.351262\n",
       "sinc_s      0.354156\n",
       "intel_s     0.436773\n",
       "fun_s       0.759271\n",
       "amb_s       0.464791\n",
       "attr_eval   3.244837\n",
       "sinc_eval   0.628047\n",
       "intel_eval -0.242355\n",
       "fun_eval   -0.642997\n",
       "amb_eval    0.348415\n",
       "shar_eval   3.469598\n",
       "like_eval   1.400890\n",
       "R2_scores   0.192147"
      ]
     },
     "execution_count": 9,
     "metadata": {},
     "output_type": "execute_result"
    }
   ],
   "source": [
    "# 모델별 비교 데이터프레임 열 추가\n",
    "comp_df[\"LR\"] = np.append(model_LR.coef_, r2)\n",
    "comp_df"
   ]
  },
  {
   "cell_type": "markdown",
   "id": "bfb64f6c-3f9c-4a54-beb5-9661e241fc00",
   "metadata": {
    "tags": []
   },
   "source": [
    "### 1. 릿지 모델"
   ]
  },
  {
   "cell_type": "code",
   "execution_count": 10,
   "id": "b8e1e7a5-7955-4615-b6b8-0d26d4725fd5",
   "metadata": {},
   "outputs": [],
   "source": [
    "# 데이터 csv 불러오기\n",
    "train = pd.read_csv('./train5.csv')"
   ]
  },
  {
   "cell_type": "code",
   "execution_count": 11,
   "id": "f1ec4c6a-22bc-44e7-b7b1-1c72bfb8c920",
   "metadata": {},
   "outputs": [],
   "source": [
    "# X(독립변수), Y(종속변수) 분할\n",
    "X = train.drop('match', axis=1)\n",
    "y = train['match']\n",
    "# 학습용 데이터와 평가용 데이터로 분할하기\n",
    "X_train, X_test, y_train, y_test = train_test_split(X, y, test_size=0.3, random_state=42)"
   ]
  },
  {
   "cell_type": "code",
   "execution_count": 12,
   "id": "25d611da-9e9d-41db-9df7-6f6587bfdcbf",
   "metadata": {},
   "outputs": [
    {
     "data": {
      "text/plain": [
       "Ridge(alpha=1)"
      ]
     },
     "execution_count": 12,
     "metadata": {},
     "output_type": "execute_result"
    }
   ],
   "source": [
    "from sklearn.linear_model import Ridge\n",
    "\n",
    "model_Ridge = Ridge(alpha=1)\n",
    "model_Ridge.fit(X_train, y_train)"
   ]
  },
  {
   "cell_type": "code",
   "execution_count": 13,
   "id": "c6a06df9-e21a-443a-aca8-d52c19ff70f3",
   "metadata": {},
   "outputs": [
    {
     "name": "stdout",
     "output_type": "stream",
     "text": [
      "0.19225906800388903\n"
     ]
    },
    {
     "data": {
      "text/plain": [
       "gender        3.061553\n",
       "attr_s        0.353049\n",
       "sinc_s        0.355125\n",
       "intel_s       0.436322\n",
       "fun_s         0.756183\n",
       "amb_s         0.465114\n",
       "attr_eval     3.233222\n",
       "sinc_eval     0.620181\n",
       "intel_eval   -0.234433\n",
       "fun_eval     -0.629774\n",
       "amb_eval      0.354644\n",
       "shar_eval     3.458852\n",
       "like_eval     1.402310\n",
       "dtype: float64"
      ]
     },
     "execution_count": 13,
     "metadata": {},
     "output_type": "execute_result"
    }
   ],
   "source": [
    "# 릿지 선형회귀 모델 평가: model_Ridge1, alpha=1\n",
    "y_pred = model_Ridge.predict(X_test)\n",
    "y_pred[y_pred < 0] = 0.\n",
    "\n",
    "r2 = r2_score(y_test, y_pred)\n",
    "print(r2)\n",
    "# a=1일때 회귀 계수 확인\n",
    "\n",
    "Ridge_coef = pd.Series(model_Ridge.coef_, index=X.columns)\n",
    "Ridge_coef"
   ]
  },
  {
   "cell_type": "markdown",
   "id": "9bc9910c-57eb-406a-a13d-b6b4ebb1a954",
   "metadata": {},
   "source": [
    "- 계수값 시각화"
   ]
  },
  {
   "cell_type": "code",
   "execution_count": 14,
   "id": "ed3753d8-4db5-4eb1-97f9-47e3f1c37d12",
   "metadata": {},
   "outputs": [
    {
     "data": {
      "text/plain": [
       "gender        3.061553\n",
       "attr_s        0.353049\n",
       "sinc_s        0.355125\n",
       "intel_s       0.436322\n",
       "fun_s         0.756183\n",
       "amb_s         0.465114\n",
       "attr_eval     3.233222\n",
       "sinc_eval     0.620181\n",
       "intel_eval    0.234433\n",
       "fun_eval      0.629774\n",
       "amb_eval      0.354644\n",
       "shar_eval     3.458852\n",
       "like_eval     1.402310\n",
       "dtype: float64"
      ]
     },
     "execution_count": 14,
     "metadata": {},
     "output_type": "execute_result"
    }
   ],
   "source": [
    "pd.Series(np.abs(Ridge_coef), index=X.columns)"
   ]
  },
  {
   "cell_type": "code",
   "execution_count": 15,
   "id": "e01fbc5e-6ae2-48dc-bf22-f25729a14c59",
   "metadata": {},
   "outputs": [
    {
     "data": {
      "image/png": "[encoded data removed]",
      "text/plain": [
       "<Figure size 1000x300 with 1 Axes>"
      ]
     },
     "metadata": {},
     "output_type": "display_data"
    }
   ],
   "source": [
    "coef = pd.Series(np.abs(Ridge_coef), index=X.columns)\n",
    "coef = coef.sort_values(ascending=False)\n",
    "# 시각화\n",
    "plt.figure(figsize=(10,3))\n",
    "plt.title('<Feature importance of coefficents with Ridge Regulization>', fontsize=15)\n",
    "plt.bar(coef.index, coef.values)\n",
    "plt.xticks(coef.index, rotation=45, fontsize=11);"
   ]
  },
  {
   "cell_type": "code",
   "execution_count": 16,
   "id": "ca5ce5ac-9caf-4165-9348-933b41c262d4",
   "metadata": {
    "scrolled": true
   },
   "outputs": [],
   "source": [
    "# alpha_list=[0.01, 1, 10, 100]인 경우\n",
    "\n",
    "alpha_list = [0.01, 0.1, 1.5, 10]\n",
    "\n",
    "for each in alpha_list:\n",
    "    model_Ridge = Ridge(alpha=each)\n",
    "    model_Ridge.fit(X_train, y_train)\n",
    "    \n",
    "    y_pred = model_Ridge.predict(X_test)\n",
    "    y_pred[y_pred < 0] = 0.\n",
    "    \n",
    "    r2 = r2_score(y_test, y_pred)\n",
    "    col_name = f'Ridge(alpha={each:.2f})'\n",
    "    \n",
    "    comp_df[col_name] = np.append(model_Ridge.coef_, r2)"
   ]
  },
  {
   "cell_type": "code",
   "execution_count": 17,
   "id": "1adee952-3fd0-417c-bdb8-d56a6ef25234",
   "metadata": {},
   "outputs": [
    {
     "data": {
      "text/html": [
       "<div>\n",
       "<style scoped>\n",
       "    .dataframe tbody tr th:only-of-type {\n",
       "        vertical-align: middle;\n",
       "    }\n",
       "\n",
       "    .dataframe tbody tr th {\n",
       "        vertical-align: top;\n",
       "    }\n",
       "\n",
       "    .dataframe thead th {\n",
       "        text-align: right;\n",
       "    }\n",
       "</style>\n",
       "<table border=\"1\" class=\"dataframe\">\n",
       "  <thead>\n",
       "    <tr style=\"text-align: right;\">\n",
       "      <th></th>\n",
       "      <th>LR</th>\n",
       "      <th>Ridge(alpha=0.01)</th>\n",
       "      <th>Ridge(alpha=0.10)</th>\n",
       "      <th>Ridge(alpha=1.50)</th>\n",
       "      <th>Ridge(alpha=10.00)</th>\n",
       "    </tr>\n",
       "  </thead>\n",
       "  <tbody>\n",
       "    <tr>\n",
       "      <th>gender</th>\n",
       "      <td>3.109983</td>\n",
       "      <td>3.109492</td>\n",
       "      <td>3.105074</td>\n",
       "      <td>3.037880</td>\n",
       "      <td>2.683374</td>\n",
       "    </tr>\n",
       "    <tr>\n",
       "      <th>attr_s</th>\n",
       "      <td>0.351262</td>\n",
       "      <td>0.351280</td>\n",
       "      <td>0.351441</td>\n",
       "      <td>0.353941</td>\n",
       "      <td>0.368879</td>\n",
       "    </tr>\n",
       "    <tr>\n",
       "      <th>sinc_s</th>\n",
       "      <td>0.354156</td>\n",
       "      <td>0.354166</td>\n",
       "      <td>0.354254</td>\n",
       "      <td>0.355601</td>\n",
       "      <td>0.362914</td>\n",
       "    </tr>\n",
       "    <tr>\n",
       "      <th>intel_s</th>\n",
       "      <td>0.436773</td>\n",
       "      <td>0.436769</td>\n",
       "      <td>0.436730</td>\n",
       "      <td>0.436084</td>\n",
       "      <td>0.431085</td>\n",
       "    </tr>\n",
       "    <tr>\n",
       "      <th>fun_s</th>\n",
       "      <td>0.759271</td>\n",
       "      <td>0.759240</td>\n",
       "      <td>0.758958</td>\n",
       "      <td>0.754671</td>\n",
       "      <td>0.731791</td>\n",
       "    </tr>\n",
       "    <tr>\n",
       "      <th>amb_s</th>\n",
       "      <td>0.464791</td>\n",
       "      <td>0.464794</td>\n",
       "      <td>0.464824</td>\n",
       "      <td>0.465270</td>\n",
       "      <td>0.467455</td>\n",
       "    </tr>\n",
       "    <tr>\n",
       "      <th>attr_eval</th>\n",
       "      <td>3.244837</td>\n",
       "      <td>3.244720</td>\n",
       "      <td>3.243667</td>\n",
       "      <td>3.227482</td>\n",
       "      <td>3.136192</td>\n",
       "    </tr>\n",
       "    <tr>\n",
       "      <th>sinc_eval</th>\n",
       "      <td>0.628047</td>\n",
       "      <td>0.627967</td>\n",
       "      <td>0.627248</td>\n",
       "      <td>0.616350</td>\n",
       "      <td>0.560199</td>\n",
       "    </tr>\n",
       "    <tr>\n",
       "      <th>intel_eval</th>\n",
       "      <td>-0.242355</td>\n",
       "      <td>-0.242275</td>\n",
       "      <td>-0.241553</td>\n",
       "      <td>-0.230554</td>\n",
       "      <td>-0.171977</td>\n",
       "    </tr>\n",
       "    <tr>\n",
       "      <th>fun_eval</th>\n",
       "      <td>-0.642997</td>\n",
       "      <td>-0.642864</td>\n",
       "      <td>-0.641665</td>\n",
       "      <td>-0.623239</td>\n",
       "      <td>-0.519276</td>\n",
       "    </tr>\n",
       "    <tr>\n",
       "      <th>amb_eval</th>\n",
       "      <td>0.348415</td>\n",
       "      <td>0.348479</td>\n",
       "      <td>0.349048</td>\n",
       "      <td>0.357682</td>\n",
       "      <td>0.402546</td>\n",
       "    </tr>\n",
       "    <tr>\n",
       "      <th>shar_eval</th>\n",
       "      <td>3.469598</td>\n",
       "      <td>3.469489</td>\n",
       "      <td>3.468516</td>\n",
       "      <td>3.453534</td>\n",
       "      <td>3.368268</td>\n",
       "    </tr>\n",
       "    <tr>\n",
       "      <th>like_eval</th>\n",
       "      <td>1.400890</td>\n",
       "      <td>1.400905</td>\n",
       "      <td>1.401034</td>\n",
       "      <td>1.403007</td>\n",
       "      <td>1.413664</td>\n",
       "    </tr>\n",
       "    <tr>\n",
       "      <th>R2_scores</th>\n",
       "      <td>0.192147</td>\n",
       "      <td>0.192148</td>\n",
       "      <td>0.192158</td>\n",
       "      <td>0.192314</td>\n",
       "      <td>0.193116</td>\n",
       "    </tr>\n",
       "  </tbody>\n",
       "</table>\n",
       "</div>"
      ],
      "text/plain": [
       "                  LR  Ridge(alpha=0.01)  Ridge(alpha=0.10)  Ridge(alpha=1.50)  \\\n",
       "gender      3.109983           3.109492           3.105074           3.037880   \n",
       "attr_s      0.351262           0.351280           0.351441           0.353941   \n",
       "sinc_s      0.354156           0.354166           0.354254           0.355601   \n",
       "intel_s     0.436773           0.436769           0.436730           0.436084   \n",
       "fun_s       0.759271           0.759240           0.758958           0.754671   \n",
       "amb_s       0.464791           0.464794           0.464824           0.465270   \n",
       "attr_eval   3.244837           3.244720           3.243667           3.227482   \n",
       "sinc_eval   0.628047           0.627967           0.627248           0.616350   \n",
       "intel_eval -0.242355          -0.242275          -0.241553          -0.230554   \n",
       "fun_eval   -0.642997          -0.642864          -0.641665          -0.623239   \n",
       "amb_eval    0.348415           0.348479           0.349048           0.357682   \n",
       "shar_eval   3.469598           3.469489           3.468516           3.453534   \n",
       "like_eval   1.400890           1.400905           1.401034           1.403007   \n",
       "R2_scores   0.192147           0.192148           0.192158           0.192314   \n",
       "\n",
       "            Ridge(alpha=10.00)  \n",
       "gender                2.683374  \n",
       "attr_s                0.368879  \n",
       "sinc_s                0.362914  \n",
       "intel_s               0.431085  \n",
       "fun_s                 0.731791  \n",
       "amb_s                 0.467455  \n",
       "attr_eval             3.136192  \n",
       "sinc_eval             0.560199  \n",
       "intel_eval           -0.171977  \n",
       "fun_eval             -0.519276  \n",
       "amb_eval              0.402546  \n",
       "shar_eval             3.368268  \n",
       "like_eval             1.413664  \n",
       "R2_scores             0.193116  "
      ]
     },
     "execution_count": 17,
     "metadata": {},
     "output_type": "execute_result"
    }
   ],
   "source": [
    "comp_df"
   ]
  },
  {
   "cell_type": "markdown",
   "id": "29524a03-d5ce-4806-9a49-3d65aa8058eb",
   "metadata": {
    "tags": []
   },
   "source": [
    "### 2. 라쏘 모델"
   ]
  },
  {
   "cell_type": "code",
   "execution_count": 18,
   "id": "ec01a814-baa4-4048-b771-4e63866f49f9",
   "metadata": {},
   "outputs": [
    {
     "data": {
      "text/plain": [
       "Lasso(alpha=1)"
      ]
     },
     "execution_count": 18,
     "metadata": {},
     "output_type": "execute_result"
    }
   ],
   "source": [
    "from sklearn.linear_model import Lasso\n",
    "\n",
    "# alpha=1인 경우(default)\n",
    "model_Lasso = Lasso(alpha=1)\n",
    "model_Lasso.fit(X_train, y_train)"
   ]
  },
  {
   "cell_type": "code",
   "execution_count": 19,
   "id": "1ebf8234-a303-4159-a79c-ba7b02ec4c81",
   "metadata": {
    "tags": []
   },
   "outputs": [
    {
     "name": "stdout",
     "output_type": "stream",
     "text": [
      "0.1861940757515601\n"
     ]
    },
    {
     "data": {
      "text/plain": [
       "gender        0.000000\n",
       "attr_s        0.225664\n",
       "sinc_s        0.007883\n",
       "intel_s       0.008596\n",
       "fun_s         0.498251\n",
       "amb_s         0.392542\n",
       "attr_eval     2.916868\n",
       "sinc_eval     0.000000\n",
       "intel_eval    0.000000\n",
       "fun_eval      0.000000\n",
       "amb_eval      0.055450\n",
       "shar_eval     3.385631\n",
       "like_eval     0.796852\n",
       "dtype: float64"
      ]
     },
     "execution_count": 19,
     "metadata": {},
     "output_type": "execute_result"
    }
   ],
   "source": [
    "# 라쏘 선형회귀 모델 평가(alpha=1)\n",
    "# 선형 모델 평가\n",
    "y_pred = model_Lasso.predict(X_test)\n",
    "r2 = r2_score(y_test, y_pred)\n",
    "print(r2)\n",
    "#a = 1 라쏘 모델 회귀 계수\n",
    "Lasso_coef = pd.Series(model_Lasso.coef_, index=X.columns)\n",
    "Lasso_coef"
   ]
  },
  {
   "cell_type": "markdown",
   "id": "1cf8fdff-d86b-4f9e-b314-3e591d991285",
   "metadata": {},
   "source": [
    "- 계수 시각화"
   ]
  },
  {
   "cell_type": "code",
   "execution_count": 20,
   "id": "c1d28d4d-2fb9-462b-89cd-4a0d7dcabc27",
   "metadata": {
    "tags": []
   },
   "outputs": [
    {
     "data": {
      "image/png": "[encoded data removed]",
      "text/plain": [
       "<Figure size 1000x300 with 1 Axes>"
      ]
     },
     "metadata": {},
     "output_type": "display_data"
    }
   ],
   "source": [
    "coef = np.abs(Lasso_coef)\n",
    "coef = pd.Series(coef, index=X.columns).sort_values(ascending=False)\n",
    "coef\n",
    "# 시각화\n",
    "plt.figure(figsize=(10,3))\n",
    "plt.title('<Feature importance of coefficents with Lasso Regulization>', fontsize=15)\n",
    "plt.bar(coef.index, coef.values)\n",
    "plt.xticks(coef.index, rotation=45, fontsize=11);"
   ]
  },
  {
   "cell_type": "code",
   "execution_count": 21,
   "id": "a7139721-8edc-43f4-a3d3-a4000443122f",
   "metadata": {},
   "outputs": [],
   "source": [
    "# alpha_list=[0.01, 1, 10, 100]인 경우\n",
    "\n",
    "alpha_list = [0.01, 0.1, 1.5, 10]\n",
    "\n",
    "for each in alpha_list:\n",
    "    model_Lasso = Lasso(alpha=each)\n",
    "    model_Lasso.fit(X_train, y_train)\n",
    "    \n",
    "    y_pred = model_Lasso.predict(X_test)\n",
    "    y_pred[y_pred < 0] = 0.\n",
    "    \n",
    "    r2 = r2_score(y_test, y_pred)\n",
    "    col_name = f'Lasso(alpha={each:.2f})'\n",
    "    \n",
    "    comp_df[col_name] = np.append(model_Lasso.coef_, r2)"
   ]
  },
  {
   "cell_type": "code",
   "execution_count": 22,
   "id": "87a0e8f2-d738-45e4-b1e2-5d4f7f45d6b8",
   "metadata": {
    "scrolled": true,
    "tags": []
   },
   "outputs": [
    {
     "data": {
      "text/html": [
       "<div>\n",
       "<style scoped>\n",
       "    .dataframe tbody tr th:only-of-type {\n",
       "        vertical-align: middle;\n",
       "    }\n",
       "\n",
       "    .dataframe tbody tr th {\n",
       "        vertical-align: top;\n",
       "    }\n",
       "\n",
       "    .dataframe thead th {\n",
       "        text-align: right;\n",
       "    }\n",
       "</style>\n",
       "<table border=\"1\" class=\"dataframe\">\n",
       "  <thead>\n",
       "    <tr style=\"text-align: right;\">\n",
       "      <th></th>\n",
       "      <th>LR</th>\n",
       "      <th>Ridge(alpha=0.01)</th>\n",
       "      <th>Ridge(alpha=0.10)</th>\n",
       "      <th>Ridge(alpha=1.50)</th>\n",
       "      <th>Ridge(alpha=10.00)</th>\n",
       "      <th>Lasso(alpha=0.01)</th>\n",
       "      <th>Lasso(alpha=0.10)</th>\n",
       "      <th>Lasso(alpha=1.50)</th>\n",
       "      <th>Lasso(alpha=10.00)</th>\n",
       "    </tr>\n",
       "  </thead>\n",
       "  <tbody>\n",
       "    <tr>\n",
       "      <th>gender</th>\n",
       "      <td>3.109983</td>\n",
       "      <td>3.109492</td>\n",
       "      <td>3.105074</td>\n",
       "      <td>3.037880</td>\n",
       "      <td>2.683374</td>\n",
       "      <td>3.056473</td>\n",
       "      <td>2.598948</td>\n",
       "      <td>0.000000</td>\n",
       "      <td>0.000000</td>\n",
       "    </tr>\n",
       "    <tr>\n",
       "      <th>attr_s</th>\n",
       "      <td>0.351262</td>\n",
       "      <td>0.351280</td>\n",
       "      <td>0.351441</td>\n",
       "      <td>0.353941</td>\n",
       "      <td>0.368879</td>\n",
       "      <td>0.350898</td>\n",
       "      <td>0.344913</td>\n",
       "      <td>0.099206</td>\n",
       "      <td>0.000000</td>\n",
       "    </tr>\n",
       "    <tr>\n",
       "      <th>sinc_s</th>\n",
       "      <td>0.354156</td>\n",
       "      <td>0.354166</td>\n",
       "      <td>0.354254</td>\n",
       "      <td>0.355601</td>\n",
       "      <td>0.362914</td>\n",
       "      <td>0.356621</td>\n",
       "      <td>0.354462</td>\n",
       "      <td>0.000000</td>\n",
       "      <td>0.000000</td>\n",
       "    </tr>\n",
       "    <tr>\n",
       "      <th>intel_s</th>\n",
       "      <td>0.436773</td>\n",
       "      <td>0.436769</td>\n",
       "      <td>0.436730</td>\n",
       "      <td>0.436084</td>\n",
       "      <td>0.431085</td>\n",
       "      <td>0.429463</td>\n",
       "      <td>0.395072</td>\n",
       "      <td>0.000000</td>\n",
       "      <td>0.000000</td>\n",
       "    </tr>\n",
       "    <tr>\n",
       "      <th>fun_s</th>\n",
       "      <td>0.759271</td>\n",
       "      <td>0.759240</td>\n",
       "      <td>0.758958</td>\n",
       "      <td>0.754671</td>\n",
       "      <td>0.731791</td>\n",
       "      <td>0.756419</td>\n",
       "      <td>0.711336</td>\n",
       "      <td>0.423789</td>\n",
       "      <td>0.000000</td>\n",
       "    </tr>\n",
       "    <tr>\n",
       "      <th>amb_s</th>\n",
       "      <td>0.464791</td>\n",
       "      <td>0.464794</td>\n",
       "      <td>0.464824</td>\n",
       "      <td>0.465270</td>\n",
       "      <td>0.467455</td>\n",
       "      <td>0.466125</td>\n",
       "      <td>0.459859</td>\n",
       "      <td>0.304020</td>\n",
       "      <td>0.000000</td>\n",
       "    </tr>\n",
       "    <tr>\n",
       "      <th>attr_eval</th>\n",
       "      <td>3.244837</td>\n",
       "      <td>3.244720</td>\n",
       "      <td>3.243667</td>\n",
       "      <td>3.227482</td>\n",
       "      <td>3.136192</td>\n",
       "      <td>3.235655</td>\n",
       "      <td>3.161252</td>\n",
       "      <td>2.876748</td>\n",
       "      <td>0.000000</td>\n",
       "    </tr>\n",
       "    <tr>\n",
       "      <th>sinc_eval</th>\n",
       "      <td>0.628047</td>\n",
       "      <td>0.627967</td>\n",
       "      <td>0.627248</td>\n",
       "      <td>0.616350</td>\n",
       "      <td>0.560199</td>\n",
       "      <td>0.589140</td>\n",
       "      <td>0.408750</td>\n",
       "      <td>0.000000</td>\n",
       "      <td>0.000000</td>\n",
       "    </tr>\n",
       "    <tr>\n",
       "      <th>intel_eval</th>\n",
       "      <td>-0.242355</td>\n",
       "      <td>-0.242275</td>\n",
       "      <td>-0.241553</td>\n",
       "      <td>-0.230554</td>\n",
       "      <td>-0.171977</td>\n",
       "      <td>-0.177863</td>\n",
       "      <td>0.000000</td>\n",
       "      <td>0.000000</td>\n",
       "      <td>0.000000</td>\n",
       "    </tr>\n",
       "    <tr>\n",
       "      <th>fun_eval</th>\n",
       "      <td>-0.642997</td>\n",
       "      <td>-0.642864</td>\n",
       "      <td>-0.641665</td>\n",
       "      <td>-0.623239</td>\n",
       "      <td>-0.519276</td>\n",
       "      <td>-0.605878</td>\n",
       "      <td>-0.287668</td>\n",
       "      <td>0.000000</td>\n",
       "      <td>0.000000</td>\n",
       "    </tr>\n",
       "    <tr>\n",
       "      <th>amb_eval</th>\n",
       "      <td>0.348415</td>\n",
       "      <td>0.348479</td>\n",
       "      <td>0.349048</td>\n",
       "      <td>0.357682</td>\n",
       "      <td>0.402546</td>\n",
       "      <td>0.317138</td>\n",
       "      <td>0.213893</td>\n",
       "      <td>0.000000</td>\n",
       "      <td>0.000000</td>\n",
       "    </tr>\n",
       "    <tr>\n",
       "      <th>shar_eval</th>\n",
       "      <td>3.469598</td>\n",
       "      <td>3.469489</td>\n",
       "      <td>3.468516</td>\n",
       "      <td>3.453534</td>\n",
       "      <td>3.368268</td>\n",
       "      <td>3.469250</td>\n",
       "      <td>3.439478</td>\n",
       "      <td>3.343887</td>\n",
       "      <td>0.942189</td>\n",
       "    </tr>\n",
       "    <tr>\n",
       "      <th>like_eval</th>\n",
       "      <td>1.400890</td>\n",
       "      <td>1.400905</td>\n",
       "      <td>1.401034</td>\n",
       "      <td>1.403007</td>\n",
       "      <td>1.413664</td>\n",
       "      <td>1.376329</td>\n",
       "      <td>1.194448</td>\n",
       "      <td>0.586007</td>\n",
       "      <td>0.000000</td>\n",
       "    </tr>\n",
       "    <tr>\n",
       "      <th>R2_scores</th>\n",
       "      <td>0.192147</td>\n",
       "      <td>0.192148</td>\n",
       "      <td>0.192158</td>\n",
       "      <td>0.192314</td>\n",
       "      <td>0.193116</td>\n",
       "      <td>0.192473</td>\n",
       "      <td>0.194250</td>\n",
       "      <td>0.187298</td>\n",
       "      <td>0.041190</td>\n",
       "    </tr>\n",
       "  </tbody>\n",
       "</table>\n",
       "</div>"
      ],
      "text/plain": [
       "                  LR  Ridge(alpha=0.01)  Ridge(alpha=0.10)  Ridge(alpha=1.50)  \\\n",
       "gender      3.109983           3.109492           3.105074           3.037880   \n",
       "attr_s      0.351262           0.351280           0.351441           0.353941   \n",
       "sinc_s      0.354156           0.354166           0.354254           0.355601   \n",
       "intel_s     0.436773           0.436769           0.436730           0.436084   \n",
       "fun_s       0.759271           0.759240           0.758958           0.754671   \n",
       "amb_s       0.464791           0.464794           0.464824           0.465270   \n",
       "attr_eval   3.244837           3.244720           3.243667           3.227482   \n",
       "sinc_eval   0.628047           0.627967           0.627248           0.616350   \n",
       "intel_eval -0.242355          -0.242275          -0.241553          -0.230554   \n",
       "fun_eval   -0.642997          -0.642864          -0.641665          -0.623239   \n",
       "amb_eval    0.348415           0.348479           0.349048           0.357682   \n",
       "shar_eval   3.469598           3.469489           3.468516           3.453534   \n",
       "like_eval   1.400890           1.400905           1.401034           1.403007   \n",
       "R2_scores   0.192147           0.192148           0.192158           0.192314   \n",
       "\n",
       "            Ridge(alpha=10.00)  Lasso(alpha=0.01)  Lasso(alpha=0.10)  \\\n",
       "gender                2.683374           3.056473           2.598948   \n",
       "attr_s                0.368879           0.350898           0.344913   \n",
       "sinc_s                0.362914           0.356621           0.354462   \n",
       "intel_s               0.431085           0.429463           0.395072   \n",
       "fun_s                 0.731791           0.756419           0.711336   \n",
       "amb_s                 0.467455           0.466125           0.459859   \n",
       "attr_eval             3.136192           3.235655           3.161252   \n",
       "sinc_eval             0.560199           0.589140           0.408750   \n",
       "intel_eval           -0.171977          -0.177863           0.000000   \n",
       "fun_eval             -0.519276          -0.605878          -0.287668   \n",
       "amb_eval              0.402546           0.317138           0.213893   \n",
       "shar_eval             3.368268           3.469250           3.439478   \n",
       "like_eval             1.413664           1.376329           1.194448   \n",
       "R2_scores             0.193116           0.192473           0.194250   \n",
       "\n",
       "            Lasso(alpha=1.50)  Lasso(alpha=10.00)  \n",
       "gender               0.000000            0.000000  \n",
       "attr_s               0.099206            0.000000  \n",
       "sinc_s               0.000000            0.000000  \n",
       "intel_s              0.000000            0.000000  \n",
       "fun_s                0.423789            0.000000  \n",
       "amb_s                0.304020            0.000000  \n",
       "attr_eval            2.876748            0.000000  \n",
       "sinc_eval            0.000000            0.000000  \n",
       "intel_eval           0.000000            0.000000  \n",
       "fun_eval             0.000000            0.000000  \n",
       "amb_eval             0.000000            0.000000  \n",
       "shar_eval            3.343887            0.942189  \n",
       "like_eval            0.586007            0.000000  \n",
       "R2_scores            0.187298            0.041190  "
      ]
     },
     "execution_count": 22,
     "metadata": {},
     "output_type": "execute_result"
    }
   ],
   "source": [
    "comp_df"
   ]
  },
  {
   "cell_type": "markdown",
   "id": "504a408a-e06a-4304-afd4-30d3d2db1dfd",
   "metadata": {
    "tags": []
   },
   "source": [
    "### 3. 엘라스틱넷 모델"
   ]
  },
  {
   "cell_type": "code",
   "execution_count": 23,
   "id": "891dabdc-9ef5-4c73-a37e-ba6d6a7ecd55",
   "metadata": {},
   "outputs": [
    {
     "data": {
      "text/plain": [
       "ElasticNet(alpha=0.1)"
      ]
     },
     "execution_count": 23,
     "metadata": {},
     "output_type": "execute_result"
    }
   ],
   "source": [
    "from sklearn.linear_model import ElasticNet\n",
    "# 모델 구축 및 학습(alpha=1, l1_ratio=0.5)\n",
    "\n",
    "model_ElasticNet = ElasticNet(alpha=0.1, l1_ratio=0.5)\n",
    "model_ElasticNet.fit(X_train, y_train)"
   ]
  },
  {
   "cell_type": "code",
   "execution_count": 24,
   "id": "6b8229d2-3ceb-45ab-8417-6fdc5da24317",
   "metadata": {},
   "outputs": [
    {
     "name": "stdout",
     "output_type": "stream",
     "text": [
      "0.19455121041548995\n",
      "mse- 458.563\n",
      "rmse- 21.414\n",
      "r2- 0.195\n"
     ]
    }
   ],
   "source": [
    "#모델 평가 및 회귀 계수 확인\n",
    "# 엘라스틱넷 선형회귀 모델 평가(alpha=0.1, L1_ratio=0.5)\n",
    "# 선형 모델 평가\n",
    "y_pred = model_ElasticNet.predict(X_test)\n",
    "y_pred[y_pred < 0] = 0.\n",
    "\n",
    "r2 = r2_score(y_test, y_pred)\n",
    "print(r2)\n",
    "evaluate_score(y_test, y_pred)\n",
    "#a = 1 엘라스틱넷 모델 회귀 계수\n",
    "ElasticNet_coef = pd.Series(model_ElasticNet.coef_, index=X.columns)"
   ]
  },
  {
   "cell_type": "markdown",
   "id": "13ee7631-ac30-427b-a048-5bbd84513474",
   "metadata": {},
   "source": [
    "- 계수 시각화"
   ]
  },
  {
   "cell_type": "code",
   "execution_count": 25,
   "id": "0252db72-d474-43fa-9e50-b1bac7545586",
   "metadata": {
    "tags": []
   },
   "outputs": [
    {
     "data": {
      "image/png": "[encoded data removed]",
      "text/plain": [
       "<Figure size 1000x300 with 1 Axes>"
      ]
     },
     "metadata": {},
     "output_type": "display_data"
    }
   ],
   "source": [
    "coef = np.abs(ElasticNet_coef)\n",
    "coef = pd.Series(coef, index=X.columns).sort_values(ascending=False)\n",
    "coef\n",
    "# 시각화\n",
    "plt.figure(figsize=(10,3))\n",
    "plt.title('<Feature importance of coefficents with ELasticNet Regulization>', fontsize=15)\n",
    "plt.bar(coef.index, coef.values)\n",
    "plt.xticks(coef.index, rotation=45, fontsize=11);"
   ]
  },
  {
   "cell_type": "code",
   "execution_count": 26,
   "id": "fc21c5ae-e90f-4346-84e2-2fe30dfb7645",
   "metadata": {},
   "outputs": [
    {
     "data": {
      "text/html": [
       "<div>\n",
       "<style scoped>\n",
       "    .dataframe tbody tr th:only-of-type {\n",
       "        vertical-align: middle;\n",
       "    }\n",
       "\n",
       "    .dataframe tbody tr th {\n",
       "        vertical-align: top;\n",
       "    }\n",
       "\n",
       "    .dataframe thead th {\n",
       "        text-align: right;\n",
       "    }\n",
       "</style>\n",
       "<table border=\"1\" class=\"dataframe\">\n",
       "  <thead>\n",
       "    <tr style=\"text-align: right;\">\n",
       "      <th></th>\n",
       "      <th>LR</th>\n",
       "      <th>Ridge(alpha=0.01)</th>\n",
       "      <th>Ridge(alpha=0.10)</th>\n",
       "      <th>Ridge(alpha=1.50)</th>\n",
       "      <th>Ridge(alpha=10.00)</th>\n",
       "      <th>Lasso(alpha=0.01)</th>\n",
       "      <th>Lasso(alpha=0.10)</th>\n",
       "      <th>Lasso(alpha=1.50)</th>\n",
       "      <th>Lasso(alpha=10.00)</th>\n",
       "      <th>ElasticNet(alpha=0.01)</th>\n",
       "      <th>ElasticNet(alpha=0.10)</th>\n",
       "      <th>ElasticNet(alpha=1.50)</th>\n",
       "      <th>ElasticNet(alpha=10.00)</th>\n",
       "    </tr>\n",
       "  </thead>\n",
       "  <tbody>\n",
       "    <tr>\n",
       "      <th>gender</th>\n",
       "      <td>3.109983</td>\n",
       "      <td>3.109492</td>\n",
       "      <td>3.105074</td>\n",
       "      <td>3.037880</td>\n",
       "      <td>2.683374</td>\n",
       "      <td>3.056473</td>\n",
       "      <td>2.598948</td>\n",
       "      <td>0.000000</td>\n",
       "      <td>0.000000</td>\n",
       "      <td>3.004526</td>\n",
       "      <td>2.253265</td>\n",
       "      <td>0.000000</td>\n",
       "      <td>0.000000</td>\n",
       "    </tr>\n",
       "    <tr>\n",
       "      <th>attr_s</th>\n",
       "      <td>0.351262</td>\n",
       "      <td>0.351280</td>\n",
       "      <td>0.351441</td>\n",
       "      <td>0.353941</td>\n",
       "      <td>0.368879</td>\n",
       "      <td>0.350898</td>\n",
       "      <td>0.344913</td>\n",
       "      <td>0.099206</td>\n",
       "      <td>0.000000</td>\n",
       "      <td>0.354035</td>\n",
       "      <td>0.377025</td>\n",
       "      <td>0.437782</td>\n",
       "      <td>0.000000</td>\n",
       "    </tr>\n",
       "    <tr>\n",
       "      <th>sinc_s</th>\n",
       "      <td>0.354156</td>\n",
       "      <td>0.354166</td>\n",
       "      <td>0.354254</td>\n",
       "      <td>0.355601</td>\n",
       "      <td>0.362914</td>\n",
       "      <td>0.356621</td>\n",
       "      <td>0.354462</td>\n",
       "      <td>0.000000</td>\n",
       "      <td>0.000000</td>\n",
       "      <td>0.356906</td>\n",
       "      <td>0.367568</td>\n",
       "      <td>0.153446</td>\n",
       "      <td>0.000000</td>\n",
       "    </tr>\n",
       "    <tr>\n",
       "      <th>intel_s</th>\n",
       "      <td>0.436773</td>\n",
       "      <td>0.436769</td>\n",
       "      <td>0.436730</td>\n",
       "      <td>0.436084</td>\n",
       "      <td>0.431085</td>\n",
       "      <td>0.429463</td>\n",
       "      <td>0.395072</td>\n",
       "      <td>0.000000</td>\n",
       "      <td>0.000000</td>\n",
       "      <td>0.432398</td>\n",
       "      <td>0.402451</td>\n",
       "      <td>0.036650</td>\n",
       "      <td>0.000000</td>\n",
       "    </tr>\n",
       "    <tr>\n",
       "      <th>fun_s</th>\n",
       "      <td>0.759271</td>\n",
       "      <td>0.759240</td>\n",
       "      <td>0.758958</td>\n",
       "      <td>0.754671</td>\n",
       "      <td>0.731791</td>\n",
       "      <td>0.756419</td>\n",
       "      <td>0.711336</td>\n",
       "      <td>0.423789</td>\n",
       "      <td>0.000000</td>\n",
       "      <td>0.752802</td>\n",
       "      <td>0.698438</td>\n",
       "      <td>0.505341</td>\n",
       "      <td>0.000000</td>\n",
       "    </tr>\n",
       "    <tr>\n",
       "      <th>amb_s</th>\n",
       "      <td>0.464791</td>\n",
       "      <td>0.464794</td>\n",
       "      <td>0.464824</td>\n",
       "      <td>0.465270</td>\n",
       "      <td>0.467455</td>\n",
       "      <td>0.466125</td>\n",
       "      <td>0.459859</td>\n",
       "      <td>0.304020</td>\n",
       "      <td>0.000000</td>\n",
       "      <td>0.465948</td>\n",
       "      <td>0.467060</td>\n",
       "      <td>0.366303</td>\n",
       "      <td>0.000000</td>\n",
       "    </tr>\n",
       "    <tr>\n",
       "      <th>attr_eval</th>\n",
       "      <td>3.244837</td>\n",
       "      <td>3.244720</td>\n",
       "      <td>3.243667</td>\n",
       "      <td>3.227482</td>\n",
       "      <td>3.136192</td>\n",
       "      <td>3.235655</td>\n",
       "      <td>3.161252</td>\n",
       "      <td>2.876748</td>\n",
       "      <td>0.000000</td>\n",
       "      <td>3.221164</td>\n",
       "      <td>3.034134</td>\n",
       "      <td>2.011815</td>\n",
       "      <td>0.633499</td>\n",
       "    </tr>\n",
       "    <tr>\n",
       "      <th>sinc_eval</th>\n",
       "      <td>0.628047</td>\n",
       "      <td>0.627967</td>\n",
       "      <td>0.627248</td>\n",
       "      <td>0.616350</td>\n",
       "      <td>0.560199</td>\n",
       "      <td>0.589140</td>\n",
       "      <td>0.408750</td>\n",
       "      <td>0.000000</td>\n",
       "      <td>0.000000</td>\n",
       "      <td>0.596220</td>\n",
       "      <td>0.419298</td>\n",
       "      <td>0.132615</td>\n",
       "      <td>0.000000</td>\n",
       "    </tr>\n",
       "    <tr>\n",
       "      <th>intel_eval</th>\n",
       "      <td>-0.242355</td>\n",
       "      <td>-0.242275</td>\n",
       "      <td>-0.241553</td>\n",
       "      <td>-0.230554</td>\n",
       "      <td>-0.171977</td>\n",
       "      <td>-0.177863</td>\n",
       "      <td>0.000000</td>\n",
       "      <td>0.000000</td>\n",
       "      <td>0.000000</td>\n",
       "      <td>-0.197991</td>\n",
       "      <td>-0.000000</td>\n",
       "      <td>0.000000</td>\n",
       "      <td>0.000000</td>\n",
       "    </tr>\n",
       "    <tr>\n",
       "      <th>fun_eval</th>\n",
       "      <td>-0.642997</td>\n",
       "      <td>-0.642864</td>\n",
       "      <td>-0.641665</td>\n",
       "      <td>-0.623239</td>\n",
       "      <td>-0.519276</td>\n",
       "      <td>-0.605878</td>\n",
       "      <td>-0.287668</td>\n",
       "      <td>0.000000</td>\n",
       "      <td>0.000000</td>\n",
       "      <td>-0.603015</td>\n",
       "      <td>-0.289784</td>\n",
       "      <td>0.429491</td>\n",
       "      <td>0.234889</td>\n",
       "    </tr>\n",
       "    <tr>\n",
       "      <th>amb_eval</th>\n",
       "      <td>0.348415</td>\n",
       "      <td>0.348479</td>\n",
       "      <td>0.349048</td>\n",
       "      <td>0.357682</td>\n",
       "      <td>0.402546</td>\n",
       "      <td>0.317138</td>\n",
       "      <td>0.213893</td>\n",
       "      <td>0.000000</td>\n",
       "      <td>0.000000</td>\n",
       "      <td>0.343357</td>\n",
       "      <td>0.355072</td>\n",
       "      <td>0.485896</td>\n",
       "      <td>0.000000</td>\n",
       "    </tr>\n",
       "    <tr>\n",
       "      <th>shar_eval</th>\n",
       "      <td>3.469598</td>\n",
       "      <td>3.469489</td>\n",
       "      <td>3.468516</td>\n",
       "      <td>3.453534</td>\n",
       "      <td>3.368268</td>\n",
       "      <td>3.469250</td>\n",
       "      <td>3.439478</td>\n",
       "      <td>3.343887</td>\n",
       "      <td>0.942189</td>\n",
       "      <td>3.451646</td>\n",
       "      <td>3.293638</td>\n",
       "      <td>2.282329</td>\n",
       "      <td>0.773607</td>\n",
       "    </tr>\n",
       "    <tr>\n",
       "      <th>like_eval</th>\n",
       "      <td>1.400890</td>\n",
       "      <td>1.400905</td>\n",
       "      <td>1.401034</td>\n",
       "      <td>1.403007</td>\n",
       "      <td>1.413664</td>\n",
       "      <td>1.376329</td>\n",
       "      <td>1.194448</td>\n",
       "      <td>0.586007</td>\n",
       "      <td>0.000000</td>\n",
       "      <td>1.391261</td>\n",
       "      <td>1.330871</td>\n",
       "      <td>1.317556</td>\n",
       "      <td>0.462254</td>\n",
       "    </tr>\n",
       "    <tr>\n",
       "      <th>R2_scores</th>\n",
       "      <td>0.192147</td>\n",
       "      <td>0.192148</td>\n",
       "      <td>0.192158</td>\n",
       "      <td>0.192314</td>\n",
       "      <td>0.193116</td>\n",
       "      <td>0.192473</td>\n",
       "      <td>0.194250</td>\n",
       "      <td>0.187298</td>\n",
       "      <td>0.041190</td>\n",
       "      <td>0.192489</td>\n",
       "      <td>0.194551</td>\n",
       "      <td>0.189143</td>\n",
       "      <td>0.089062</td>\n",
       "    </tr>\n",
       "  </tbody>\n",
       "</table>\n",
       "</div>"
      ],
      "text/plain": [
       "                  LR  Ridge(alpha=0.01)  Ridge(alpha=0.10)  Ridge(alpha=1.50)  \\\n",
       "gender      3.109983           3.109492           3.105074           3.037880   \n",
       "attr_s      0.351262           0.351280           0.351441           0.353941   \n",
       "sinc_s      0.354156           0.354166           0.354254           0.355601   \n",
       "intel_s     0.436773           0.436769           0.436730           0.436084   \n",
       "fun_s       0.759271           0.759240           0.758958           0.754671   \n",
       "amb_s       0.464791           0.464794           0.464824           0.465270   \n",
       "attr_eval   3.244837           3.244720           3.243667           3.227482   \n",
       "sinc_eval   0.628047           0.627967           0.627248           0.616350   \n",
       "intel_eval -0.242355          -0.242275          -0.241553          -0.230554   \n",
       "fun_eval   -0.642997          -0.642864          -0.641665          -0.623239   \n",
       "amb_eval    0.348415           0.348479           0.349048           0.357682   \n",
       "shar_eval   3.469598           3.469489           3.468516           3.453534   \n",
       "like_eval   1.400890           1.400905           1.401034           1.403007   \n",
       "R2_scores   0.192147           0.192148           0.192158           0.192314   \n",
       "\n",
       "            Ridge(alpha=10.00)  Lasso(alpha=0.01)  Lasso(alpha=0.10)  \\\n",
       "gender                2.683374           3.056473           2.598948   \n",
       "attr_s                0.368879           0.350898           0.344913   \n",
       "sinc_s                0.362914           0.356621           0.354462   \n",
       "intel_s               0.431085           0.429463           0.395072   \n",
       "fun_s                 0.731791           0.756419           0.711336   \n",
       "amb_s                 0.467455           0.466125           0.459859   \n",
       "attr_eval             3.136192           3.235655           3.161252   \n",
       "sinc_eval             0.560199           0.589140           0.408750   \n",
       "intel_eval           -0.171977          -0.177863           0.000000   \n",
       "fun_eval             -0.519276          -0.605878          -0.287668   \n",
       "amb_eval              0.402546           0.317138           0.213893   \n",
       "shar_eval             3.368268           3.469250           3.439478   \n",
       "like_eval             1.413664           1.376329           1.194448   \n",
       "R2_scores             0.193116           0.192473           0.194250   \n",
       "\n",
       "            Lasso(alpha=1.50)  Lasso(alpha=10.00)  ElasticNet(alpha=0.01)  \\\n",
       "gender               0.000000            0.000000                3.004526   \n",
       "attr_s               0.099206            0.000000                0.354035   \n",
       "sinc_s               0.000000            0.000000                0.356906   \n",
       "intel_s              0.000000            0.000000                0.432398   \n",
       "fun_s                0.423789            0.000000                0.752802   \n",
       "amb_s                0.304020            0.000000                0.465948   \n",
       "attr_eval            2.876748            0.000000                3.221164   \n",
       "sinc_eval            0.000000            0.000000                0.596220   \n",
       "intel_eval           0.000000            0.000000               -0.197991   \n",
       "fun_eval             0.000000            0.000000               -0.603015   \n",
       "amb_eval             0.000000            0.000000                0.343357   \n",
       "shar_eval            3.343887            0.942189                3.451646   \n",
       "like_eval            0.586007            0.000000                1.391261   \n",
       "R2_scores            0.187298            0.041190                0.192489   \n",
       "\n",
       "            ElasticNet(alpha=0.10)  ElasticNet(alpha=1.50)  \\\n",
       "gender                    2.253265                0.000000   \n",
       "attr_s                    0.377025                0.437782   \n",
       "sinc_s                    0.367568                0.153446   \n",
       "intel_s                   0.402451                0.036650   \n",
       "fun_s                     0.698438                0.505341   \n",
       "amb_s                     0.467060                0.366303   \n",
       "attr_eval                 3.034134                2.011815   \n",
       "sinc_eval                 0.419298                0.132615   \n",
       "intel_eval               -0.000000                0.000000   \n",
       "fun_eval                 -0.289784                0.429491   \n",
       "amb_eval                  0.355072                0.485896   \n",
       "shar_eval                 3.293638                2.282329   \n",
       "like_eval                 1.330871                1.317556   \n",
       "R2_scores                 0.194551                0.189143   \n",
       "\n",
       "            ElasticNet(alpha=10.00)  \n",
       "gender                     0.000000  \n",
       "attr_s                     0.000000  \n",
       "sinc_s                     0.000000  \n",
       "intel_s                    0.000000  \n",
       "fun_s                      0.000000  \n",
       "amb_s                      0.000000  \n",
       "attr_eval                  0.633499  \n",
       "sinc_eval                  0.000000  \n",
       "intel_eval                 0.000000  \n",
       "fun_eval                   0.234889  \n",
       "amb_eval                   0.000000  \n",
       "shar_eval                  0.773607  \n",
       "like_eval                  0.462254  \n",
       "R2_scores                  0.089062  "
      ]
     },
     "execution_count": 26,
     "metadata": {},
     "output_type": "execute_result"
    }
   ],
   "source": [
    "# alpha_list=[0.01, 1, 10, 100]인 경우, l1_ratio=0.5 \n",
    "\n",
    "alpha_list = [0.01, 0.1, 1.5, 10]\n",
    "\n",
    "for each in alpha_list:\n",
    "    model_ElasticNet = ElasticNet(alpha=each)\n",
    "    model_ElasticNet.fit(X_train, y_train)\n",
    "    \n",
    "    y_pred = model_ElasticNet.predict(X_test)\n",
    "    y_pred[y_pred < 0] = 0.\n",
    "    \n",
    "    r2 = r2_score(y_test, y_pred)\n",
    "    col_name = f'ElasticNet(alpha={each:.2f})'\n",
    "    \n",
    "    comp_df[col_name] = np.append(model_ElasticNet.coef_, r2)\n",
    "comp_df"
   ]
  },
  {
   "cell_type": "code",
   "execution_count": 27,
   "id": "d8ce72d9-9fae-4460-bdd8-e30676c034f5",
   "metadata": {},
   "outputs": [
    {
     "data": {
      "text/plain": [
       "Lasso(alpha=10.00)         0.041190\n",
       "ElasticNet(alpha=10.00)    0.089062\n",
       "Lasso(alpha=1.50)          0.187298\n",
       "ElasticNet(alpha=1.50)     0.189143\n",
       "LR                         0.192147\n",
       "Ridge(alpha=0.01)          0.192148\n",
       "Ridge(alpha=0.10)          0.192158\n",
       "Ridge(alpha=1.50)          0.192314\n",
       "Lasso(alpha=0.01)          0.192473\n",
       "ElasticNet(alpha=0.01)     0.192489\n",
       "Ridge(alpha=10.00)         0.193116\n",
       "Lasso(alpha=0.10)          0.194250\n",
       "ElasticNet(alpha=0.10)     0.194551\n",
       "Name: R2_scores, dtype: float64"
      ]
     },
     "execution_count": 27,
     "metadata": {},
     "output_type": "execute_result"
    }
   ],
   "source": [
    "comp_df.loc['R2_scores'].sort_values()"
   ]
  }
 ],
 "metadata": {
  "kernelspec": {
   "display_name": "Python 3 (ipykernel)",
   "language": "python",
   "name": "python3"
  },
  "language_info": {
   "codemirror_mode": {
    "name": "ipython",
    "version": 3
   },
   "file_extension": ".py",
   "mimetype": "text/x-python",
   "name": "python",
   "nbconvert_exporter": "python",
   "pygments_lexer": "ipython3",
   "version": "3.9.13"
  }
 },
 "nbformat": 4,
 "nbformat_minor": 5
}
